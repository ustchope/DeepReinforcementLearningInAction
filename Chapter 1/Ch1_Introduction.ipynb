{
 "cells": [
  {
   "cell_type": "code",
   "execution_count": 1,
   "metadata": {},
   "outputs": [
    {
     "name": "stdout",
     "output_type": "stream",
     "text": [
      "time: 367 µs (started: 2021-09-11 14:47:27 +08:00)\n"
     ]
    }
   ],
   "source": [
    "%load_ext autotime"
   ]
  },
  {
   "cell_type": "code",
   "execution_count": 10,
   "metadata": {},
   "outputs": [
    {
     "name": "stdout",
     "output_type": "stream",
     "text": [
      "error: pathspec '#2 submit, Sept 11, 2021' did not match any file(s) known to git.\n",
      "Everything up-to-date\n",
      "time: 7.16 s (started: 2021-09-11 14:51:24 +08:00)\n"
     ]
    }
   ],
   "source": [
    "!git add \"*.ipynb\"\n",
    "!git commit \"#2 submit, Sept 11, 2021\"\n",
    "!git push"
   ]
  },
  {
   "cell_type": "code",
   "execution_count": 16,
   "metadata": {},
   "outputs": [
    {
     "name": "stdout",
     "output_type": "stream",
     "text": [
      "Collecting ipython-autotime\n",
      "  Downloading ipython_autotime-0.3.1-py2.py3-none-any.whl (6.8 kB)\n",
      "Requirement already satisfied: ipython in /home/huangwei/miniconda2/envs/python3/lib/python3.8/site-packages (from ipython-autotime) (7.19.0)\n",
      "Requirement already satisfied: jedi>=0.10 in /home/huangwei/miniconda2/envs/python3/lib/python3.8/site-packages (from ipython->ipython-autotime) (0.17.2)\n",
      "Requirement already satisfied: backcall in /home/huangwei/miniconda2/envs/python3/lib/python3.8/site-packages (from ipython->ipython-autotime) (0.2.0)\n",
      "Requirement already satisfied: prompt-toolkit!=3.0.0,!=3.0.1,<3.1.0,>=2.0.0 in /home/huangwei/miniconda2/envs/python3/lib/python3.8/site-packages (from ipython->ipython-autotime) (3.0.8)\n",
      "Requirement already satisfied: decorator in /home/huangwei/miniconda2/envs/python3/lib/python3.8/site-packages (from ipython->ipython-autotime) (4.4.2)\n",
      "Requirement already satisfied: pickleshare in /home/huangwei/miniconda2/envs/python3/lib/python3.8/site-packages (from ipython->ipython-autotime) (0.7.5)\n",
      "Requirement already satisfied: pexpect>4.3 in /home/huangwei/miniconda2/envs/python3/lib/python3.8/site-packages (from ipython->ipython-autotime) (4.8.0)\n",
      "Requirement already satisfied: pygments in /home/huangwei/miniconda2/envs/python3/lib/python3.8/site-packages (from ipython->ipython-autotime) (2.7.2)\n",
      "Requirement already satisfied: setuptools>=18.5 in /home/huangwei/miniconda2/envs/python3/lib/python3.8/site-packages (from ipython->ipython-autotime) (50.3.2)\n",
      "Requirement already satisfied: traitlets>=4.2 in /home/huangwei/miniconda2/envs/python3/lib/python3.8/site-packages (from ipython->ipython-autotime) (5.0.5)\n",
      "Requirement already satisfied: parso<0.8.0,>=0.7.0 in /home/huangwei/miniconda2/envs/python3/lib/python3.8/site-packages (from jedi>=0.10->ipython->ipython-autotime) (0.7.1)\n",
      "Requirement already satisfied: ptyprocess>=0.5 in /home/huangwei/miniconda2/envs/python3/lib/python3.8/site-packages (from pexpect>4.3->ipython->ipython-autotime) (0.6.0)\n",
      "Requirement already satisfied: wcwidth in /home/huangwei/miniconda2/envs/python3/lib/python3.8/site-packages (from prompt-toolkit!=3.0.0,!=3.0.1,<3.1.0,>=2.0.0->ipython->ipython-autotime) (0.2.5)\n",
      "Requirement already satisfied: ipython-genutils in /home/huangwei/miniconda2/envs/python3/lib/python3.8/site-packages (from traitlets>=4.2->ipython->ipython-autotime) (0.2.0)\n",
      "Installing collected packages: ipython-autotime\n",
      "Successfully installed ipython-autotime-0.3.1\n",
      "Note: you may need to restart the kernel to use updated packages.\n"
     ]
    }
   ],
   "source": [
    "pip install --upgrade ipython-autotime"
   ]
  },
  {
   "cell_type": "code",
   "execution_count": 13,
   "metadata": {},
   "outputs": [
    {
     "data": {
      "text/plain": [
       "'1.4.6'"
      ]
     },
     "execution_count": 13,
     "metadata": {},
     "output_type": "execute_result"
    }
   ],
   "source": [
    "import pytorch_lightning as pl\n",
    "pl.__version__"
   ]
  },
  {
   "cell_type": "markdown",
   "metadata": {},
   "source": [
    "# Deep Reinforcement Learning <em> in Action </em>\n",
    "## Ch 1. Introduction\n",
    "### Dynamic Programming"
   ]
  },
  {
   "cell_type": "code",
   "execution_count": 1,
   "metadata": {},
   "outputs": [],
   "source": [
    "def fib(n):\n",
    "    if n <= 1:\n",
    "        return n\n",
    "    else:\n",
    "        return fib(n - 1) + fib(n - 2)"
   ]
  },
  {
   "cell_type": "code",
   "execution_count": 2,
   "metadata": {},
   "outputs": [
    {
     "data": {
      "text/plain": [
       "13"
      ]
     },
     "execution_count": 2,
     "metadata": {},
     "output_type": "execute_result"
    }
   ],
   "source": [
    "fib(7)"
   ]
  },
  {
   "cell_type": "code",
   "execution_count": 3,
   "metadata": {},
   "outputs": [],
   "source": [
    "mem = {0:0, 1:1}\n",
    "\n",
    "def fib_mem(n):\n",
    "    if n not in mem:\n",
    "        mem[n] = fib(n - 1) + fib(n - 2)\n",
    "    return mem[n]"
   ]
  },
  {
   "cell_type": "code",
   "execution_count": 4,
   "metadata": {},
   "outputs": [
    {
     "data": {
      "text/plain": [
       "13"
      ]
     },
     "execution_count": 4,
     "metadata": {},
     "output_type": "execute_result"
    }
   ],
   "source": [
    "fib_mem(7)"
   ]
  },
  {
   "cell_type": "markdown",
   "metadata": {},
   "source": [
    "### Time Performance"
   ]
  },
  {
   "cell_type": "code",
   "execution_count": 7,
   "metadata": {},
   "outputs": [
    {
     "name": "stdout",
     "output_type": "stream",
     "text": [
      "5.54 s ± 432 ms per loop (mean ± std. dev. of 7 runs, 1 loop each)\n"
     ]
    }
   ],
   "source": [
    "%timeit fib(35)\n",
    "# We get 5.54 seconds to run with n=35"
   ]
  },
  {
   "cell_type": "code",
   "execution_count": 8,
   "metadata": {},
   "outputs": [
    {
     "name": "stdout",
     "output_type": "stream",
     "text": [
      "The slowest run took 4.44 times longer than the fastest. This could mean that an intermediate result is being cached.\n",
      "412 ns ± 319 ns per loop (mean ± std. dev. of 7 runs, 1 loop each)\n"
     ]
    }
   ],
   "source": [
    "%timeit fib_mem(35)\n",
    "# We get 412 ns to run with n=35"
   ]
  }
 ],
 "metadata": {
  "kernelspec": {
   "display_name": "Python [conda env:python3] *",
   "language": "python",
   "name": "conda-env-python3-py"
  },
  "language_info": {
   "codemirror_mode": {
    "name": "ipython",
    "version": 3
   },
   "file_extension": ".py",
   "mimetype": "text/x-python",
   "name": "python",
   "nbconvert_exporter": "python",
   "pygments_lexer": "ipython3",
   "version": "3.8.2"
  }
 },
 "nbformat": 4,
 "nbformat_minor": 4
}
