{
 "cells": [
  {
   "cell_type": "code",
   "execution_count": 16,
   "metadata": {},
   "outputs": [
    {
     "name": "stdout",
     "output_type": "stream",
     "text": [
      "The autotime extension is already loaded. To reload it, use:\n",
      "  %reload_ext autotime\n",
      "Threads number:64.\n",
      "time: 37 ms (started: 2021-09-12 01:25:25 +08:00)\n"
     ]
    }
   ],
   "source": [
    "%load_ext autotime\n",
    "thread_number = !grep 'processor' /proc/cpuinfo | sort -u | wc -l\n",
    "print(f\"Threads number:{thread_number[0]}.\")\n",
    "\n",
    "%config InlineBackend.figure_format = 'svg'"
   ]
  },
  {
   "cell_type": "code",
   "execution_count": 3,
   "metadata": {},
   "outputs": [
    {
     "name": "stdout",
     "output_type": "stream",
     "text": [
      "# 位于分支 master\n",
      "# 要提交的变更：\n",
      "#   （使用 \"git reset HEAD <file>...\" 撤出暂存区）\n",
      "#\n",
      "#\t新文件：    \"ch2 \\345\\273\\272\\346\\250\\241\\345\\274\\272\\345\\214\\226\\345\\255\\246\\344\\271\\240\\351\\227\\256\\351\\242\\230-\\351\\251\\254\\345\\260\\224\\345\\217\\257\\345\\244\\253\\345\\206\\263\\347\\255\\226\\350\\277\\207\\347\\250\\213.ipynb\"\n",
      "#\n",
      "# 尚未暂存以备提交的变更：\n",
      "#   （使用 \"git add <file>...\" 更新要提交的内容）\n",
      "#   （使用 \"git checkout -- <file>...\" 丢弃工作区的改动）\n",
      "#\n",
      "#\t修改：      ../Chapter 1/Ch1_Introduction.ipynb\n",
      "#\n",
      "[master 2ea7a9f] ch2 #1 submit, Sept 12, 2021\n",
      " 1 file changed, 94 insertions(+)\n",
      " create mode 100644 \"Chapter 2/ch2 \\345\\273\\272\\346\\250\\241\\345\\274\\272\\345\\214\\226\\345\\255\\246\\344\\271\\240\\351\\227\\256\\351\\242\\230-\\351\\251\\254\\345\\260\\224\\345\\217\\257\\345\\244\\253\\345\\206\\263\\347\\255\\226\\350\\277\\207\\347\\250\\213.ipynb\"\n",
      "Counting objects: 6, done.\n",
      "Delta compression using up to 64 threads.\n",
      "Compressing objects: 100% (4/4), done.\n",
      "Writing objects: 100% (4/4), 2.42 KiB | 0 bytes/s, done.\n",
      "Total 4 (delta 1), reused 0 (delta 0)\n",
      "remote: Resolving deltas: 100% (1/1), completed with 1 local object.\u001b[K\n",
      "To git@github.com:ustchope/DeepReinforcementLearningInAction.git\n",
      "   1c08499..2ea7a9f  master -> master\n",
      "time: 4.55 s (started: 2021-09-12 00:25:00 +08:00)\n"
     ]
    }
   ],
   "source": [
    "!git add *.ipynb\n",
    "\n",
    "#!git status\n",
    "\n",
    "!git commit -m \"ch2 #1 submit, Sept 12, 2021\"\n",
    "!git push"
   ]
  },
  {
   "cell_type": "markdown",
   "metadata": {},
   "source": [
    "# 建模强化学习问题-马尔可夫决策过程"
   ]
  },
  {
   "cell_type": "markdown",
   "metadata": {},
   "source": [
    "本章涵盖\n",
    "* 弦图和我们的教学方法\n",
    "* PyTorch 深度学习框架\n",
    "* 解决 n 臂老虎机问题\n",
    "* 平衡探索与开发\n",
    "* 将问题建模为马尔可夫决策过程（MDP）\n",
    "* 使用神经网络解决广告选择问题"
   ]
  },
  {
   "cell_type": "markdown",
   "metadata": {},
   "source": [
    "本章涵盖了所有强化学习中的一些最基本的概念，它将成为本书其余部分的基础。 但在我们开始之前，我们想先回顾一下我们将在本书中使用的一些反复出现的教学方法——最值得注意的是我们上一章提到的弦图。"
   ]
  },
  {
   "cell_type": "markdown",
   "metadata": {},
   "source": [
    "## 弦图和我们的教学方法\n",
    "根据我们的经验，当大多数人试图教授一些复杂的东西时，他们倾向于以与主题本身发展的相反顺序来教授它。 他们会给你一堆定义、术语、描述，也许还有定理，然后他们会说，“太好了，既然我们已经涵盖了所有的理论，让我们来解决一些实践问题。” 在我们看来，这与呈现事物的顺序完全相反。 大多数好的想法都是作为解决现实世界的问题，或者至少是想象中的问题而产生的。 问题解决者偶然发现一个潜在的解决方案，对其进行测试、改进，然后最终将其形式化并可能对其进行数学化。 术语和定义出现在问题的解决方案之后。"
   ]
  },
  {
   "cell_type": "markdown",
   "metadata": {},
   "source": [
    "我们认为，当你取代那个正在思考如何解决特定问题的原创创意者时，学习是最有动力和最有效的。 只有当解决方案具体化时，它才需要形式化，这对于确定其正确性并将其忠实地传达给该领域的其他人来说确实是必要的。\n",
    " \n",
    "有一种强烈的冲动要参与这种逆时间顺序的教学模式，但我们会尽最大努力抵制它，并在我们进行时发展这个话题。 本着这种精神，我们将根据需要引入新的术语、定义和数学符号。 例如，我们将使用这样的“标注”：\n",
    "> 定义 神经网络是一种由多个“层”组成的机器学习模型，这些层执行矩阵向量乘法，然后应用非线性“激活”函数。 神经网络的矩阵是模型的可学习参数，通常被称为神经网络的“权重”。"
   ]
  },
  {
   "cell_type": "markdown",
   "metadata": {},
   "source": [
    "每个术语您只会看到一次这些标注，但我们通常会在文本中以不同方式重复定义，以确保您真正理解并记住它。 这是一门关于强化学习的课程，而不是教科书或参考资料，因此当我们认为需要记住的事情很重要时，我们不会回避重复自己。\n",
    " \n",
    "每当我们需要介绍一些数学时，我们通常会使用一个框来显示数学和同一基础概念的伪 Python 版本。 有时从代码或数学的角度思考更容易，我们认为熟悉两者是件好事。 作为一个超级简单的例子，如果我们要引入直线方程，我们会这样做："
   ]
  },
  {
   "cell_type": "markdown",
   "metadata": {},
   "source": [
    "![](https://tva1.sinaimg.cn/large/008i3skNly1gud4xljc2bj616s0c8dgz02.jpg)"
   ]
  },
  {
   "cell_type": "markdown",
   "metadata": {},
   "source": [
    "我们还将包含大量内联代码（短片断）和代码清单（更长的代码示例）以及完整项目的代码。 本书中的所有代码都在 Jupyter Notebooks 中提供，按本书的 GitHub 存储库 (http://mng.bz/JzKp) 上的章节分类。 如果您正在积极地遵循本书中的文本并构建项目，我们强烈建议遵循此关联 GitHub 存储库中的代码，而不是复制文本中的代码——我们将保持 GitHub 代码更新和无错误，而 随着我们使用的 Python 库的更新，本书中的代码可能会有点过时。 GitHub 代码也更完整（例如，向您展示如何生成我们包含的可视化），而文本中的代码已尽可能减少以专注于基础概念。"
   ]
  },
  {
   "cell_type": "markdown",
   "metadata": {},
   "source": [
    "由于强化学习涉及许多相互关联的概念，在使用单词时可能会变得混乱，因此我们将包含大量不同类型的图表和图形。 我们将使用的最重要的一种图形是字符串图。 这可能是一个奇怪的名字，但它是一个非常简单的想法，改编自理论类别，我们在第一章中提到的数学分支，他们倾向于使用大量图表来补充或替代传统的符号表示法。"
   ]
  },
  {
   "cell_type": "markdown",
   "metadata": {},
   "source": [
    "当我们在第 1 章中介绍强化学习的一般框架时，您已经看到了图 2.1 中的字符串图。这个想法是，框包含名词或名词短语，而箭头标有动词或动词短语。 它与典型的流程图略有不同，但这使得将字符串图翻译成英文散文很容易，反之亦然。 箭头在功能上的作用也很清楚。 这种特殊类型的字符串图也称为本体日志或 olog（“oh-log”）。 如果您想了解更多信息，可以查看它们。"
   ]
  },
  {
   "cell_type": "markdown",
   "metadata": {},
   "source": [
    "![](https://tva1.sinaimg.cn/large/008i3skNly1gud5j9gj47j616q0twjuh02.jpg)"
   ]
  },
  {
   "cell_type": "markdown",
   "metadata": {},
   "source": [
    "更一般地说，字符串图（有时在其他来源中称为接线图）是类似流的图，表示类型化数据沿字符串（即有向或无向箭头）流入过程（计算、函数、转换、过程 等），用方框表示。 字符串图与您可能已经看到的其他外观相似的流程图之间的重要区别在于，字符串上的所有数据都是明确键入的（例如，形状为 [10, 10] 的 numpy 数组，或者可能是浮点数） ，并且图表是完全组合的。 通过组合，我们的意思是我们可以放大或缩小图表以查看更大更抽象的图片或深入到计算细节。"
   ]
  },
  {
   "cell_type": "markdown",
   "metadata": {},
   "source": [
    "如果我们展示一个更高层次的描述，流程框可能只用一个词或短语来标记，表明发生的过程的类型，但我们也可以显示该流程框的放大视图，揭示它的所有 内部细节，由它自己的一组子串和子流程组成。 这些图的组合性质也意味着我们可以将一个图的一部分插入另一个图，形成更复杂的图，只要所有字符串的类型都兼容。 例如，这是一个单层神经网络作为字符串图："
   ]
  },
  {
   "cell_type": "markdown",
   "metadata": {},
   "source": [
    "![](https://tva1.sinaimg.cn/large/008i3skNly1gud5lkvu6hj61hw07amxc02.jpg)"
   ]
  },
  {
   "cell_type": "markdown",
   "metadata": {},
   "source": [
    "从左到右阅读，我们看到一些类型为 n 的数据流入称为神经网络层的处理框并产生类型为 m 的输出。 由于神经网络通常将向量作为输入并产生向量作为输出，因此这些类型分别指的是输入和输出向量的维度。 也就是说，这个神经网络层接受一个长度或维度为 n 的向量，并产生一个维度为 m 的向量。 对于某些神经网络层，n = m 是可能的。\n",
    " \n",
    "这种输入字符串的方式被简化了，我们只有在从上下文中清楚这些类型的含义时才这样做。 在其他情况下，我们可能对所有实数的集合使用数学符号，例如 Թ，这在编程语言中基本上转换为浮点数。 因此，对于维度为 n 的浮点数向量，我们可以像这样输入字符串："
   ]
  },
  {
   "cell_type": "markdown",
   "metadata": {},
   "source": [
    "![](https://tva1.sinaimg.cn/large/008i3skNly1gud5myb73qj61hk06k0sy02.jpg)"
   ]
  },
  {
   "cell_type": "markdown",
   "metadata": {},
   "source": [
    "现在类型更丰富了，我们不仅知道输入和输出向量的维度，我们还知道它们是实数/浮点数。 虽然情况几乎总是如此，但有时我们可能会处理整数或二进制数。 在任何情况下，我们的神经网络层处理框都被保留为一个黑框； 除了将一个向量转换为另一个可能不同维度的向量之外，我们并不确切知道那里发生了什么。 我们可以决定放大这个过程，看看具体发生了什么："
   ]
  },
  {
   "cell_type": "markdown",
   "metadata": {},
   "source": [
    "![](https://tva1.sinaimg.cn/large/008i3skNly1gud5nupxouj61ii09m3z202.jpg)"
   ]
  },
  {
   "cell_type": "markdown",
   "metadata": {},
   "source": [
    "现在我们可以看到原始流程框的内部，它是由自己的一组子流程组成的。 我们可以看到，我们的 n 维向量乘以一个 n × m 维度的矩阵，这产生了一个 m 维向量乘积。 然后，该向量通过一些称为“ReLU”的过程，您可以将其识别为标准的神经网络激活函数，即整流线性单元。 如果需要，我们可以继续放大 ReLU 子流程。 任何值得命名为字符串图的东西都必须能够在任何抽象级别进行审查，并在任何级别保持良好的类型（意味着进入和退出流程的数据类型必须兼容且有意义——一个流程是 应该生成排序列表不应连接到另一个需要整数的进程）。"
   ]
  },
  {
   "cell_type": "markdown",
   "metadata": {},
   "source": [
    "只要字符串类型正确，我们就可以将一堆流程串在一起形成一个复杂的系统。 这允许我们构建一次组件并在它们类型匹配的任何地方重复使用它们。 在较高的层次上，我们可以描述一个简单的两层循环神经网络 (RNN)，如下所示："
   ]
  },
  {
   "cell_type": "markdown",
   "metadata": {},
   "source": [
    "![](https://tva1.sinaimg.cn/large/008i3skNly1gud5peqoamj61ie0eegmn02.jpg)"
   ]
  },
  {
   "cell_type": "markdown",
   "metadata": {},
   "source": [
    "这个 RNN 接受一个 q 向量并产生一个 s 向量。但是，我们可以看到内部流程。有两层，每一层的功能看起来都一样。它们每个都接受一个向量并产生一个向量，除了输出向量被复制并作为输入的一部分反馈到层过程中，因此循环。\n",
    "\n",
    "字符串图是一种非常通用的图；除了绘制神经网络的图表之外，我们还可以使用它们来绘制如何烤蛋糕的图表。计算图是一种特殊的字符串图，其中所有过程都表示计算机可以执行的具体计算，或者可以用 Python 等编程语言进行描述。如果您曾经在 TensorFlow 的 TensorBoard 中可视化计算图，您就会明白我们的意思。一个好的字符串图的目标是，我们可以在高层次上查看算法或机器学习模型以获得大图，然后逐渐放大，直到我们的字符串图足够详细，以便我们实际实现基于算法的算法。几乎完全取决于我们对图表的了解。"
   ]
  },
  {
   "cell_type": "markdown",
   "metadata": {},
   "source": [
    "在我们将在本书中展示的数学、简单的 Python 代码和字符串图之间，您应该可以轻松理解如何实现一些非常高级的机器学习模型。"
   ]
  },
  {
   "cell_type": "markdown",
   "metadata": {},
   "source": [
    "## 解决多臂老虎机"
   ]
  },
  {
   "cell_type": "markdown",
   "metadata": {},
   "source": [
    "我们现在已经准备好开始解决一个真正的强化学习问题，并在我们进行过程中查看解决这个问题所需的相关概念和技能。 但在我们太花哨之前，构建像 AlphaGo 这样的东西，让我们首先考虑一个简单的问题。 假设您在一家赌场，在您面前有 10 台老虎机，上面有一个华而不实的标志，上面写着“免费玩！ 最高赔付是 10 美元！” 哇，还不错！ 出于好奇，你问其中一名员工发生了什么事，因为这似乎好得令人难以置信，她说，“这真的是真的，想玩多少就玩多少，它是免费的。 每台老虎机都保证为您提供 0 至 10 美元的奖励。 哦，顺便说一句，你自己保密，但这 10 台老虎机的平均支出各不相同，所以试着找出平均奖励最多的一台，你会赚到大量的现金！”"
   ]
  },
  {
   "cell_type": "markdown",
   "metadata": {},
   "source": [
    "这是什么赌场？ 谁在乎，让我们弄清楚如何赚最多的钱！ 哦，顺便说一句，这是一个笑话：老虎机的另一个名字是什么？ 一个武装匪徒！ 得到它？ 它有一个手臂（一个杠杆），它通常会偷你的钱。 我们可以将我们的情况称为 10 臂老虎机问题，或更一般地称为 n 臂老虎机问题，其中 n 是老虎机的数量。 虽然到目前为止这个问题听起来很奇怪，但稍后您会看到这些 n-armed bandit（或 multi-armed ban dit）问题确实有一些非常实际的应用。"
   ]
  },
  {
   "cell_type": "markdown",
   "metadata": {},
   "source": [
    "让我们更正式地重述我们的问题。 我们有 n 个可能的动作（这里 n = 10），其中一个动作意味着拉动特定老虎机的手臂或杠杆，并且在该游戏的每次游戏 (k) 中，我们可以选择一个拉动杠杆。 采取行动 (a) 后，我们将获得奖励 Rk（游戏 k 的奖励）。 每个杠杆都有唯一的支出（奖励）概率分布。 例如，如果我们有 10 台老虎机并玩很多游戏，老虎机 #3 可能会给出 9 美元的平均奖励，而老虎机 #1 只能给出 4 美元的平均奖励。 当然，由于每次游戏的奖励都是概率性的，杠杆 #1 有可能在单次游戏中给我们 9 美元的奖励。 但是，如果我们玩很多游戏，我们预计老虎机 #1 的平均奖励将低于 #3。"
   ]
  },
  {
   "cell_type": "markdown",
   "metadata": {},
   "source": [
    "我们的策略应该是多玩几次，选择不同的杠杆并观察我们对每个动作的奖励。 然后我们只想选择观察到的平均奖励最大的杠杆。 因此，我们需要一个基于我们之前的行动采取行动 (a) 的预期奖励的概念。 我们将数学上将此预期奖励称为 Qk(a)：您给函数一个动作（假设我们正在玩 k），它返回采取该动作的预期奖励。 这在这里正式显示："
   ]
  },
  {
   "cell_type": "markdown",
   "metadata": {},
   "source": [
    "![](https://tva1.sinaimg.cn/large/008i3skNly1gud5v3aeo6j61j00d6jtk02.jpg)"
   ]
  },
  {
   "cell_type": "markdown",
   "metadata": {},
   "source": [
    "也就是说，在 k 次行动 a 的预期奖励是我们之前采取行动 a 获得的所有奖励的算术平均值。 因此，我们之前的行为和观察会影响我们未来的行为。 我们甚至可以说我们之前的一些行动加强了我们当前和未来的行动，但我们稍后会回到这一点。 函数 Qk(a) 被称为价值函数，因为它告诉我们某物的价值。 特别是，它是一个行动价值函数，因为它告诉我们采取特定行动的价值。 因为我们通常用符号 Q 表示这个函数，所以它也经常被称为 Q 函数。 稍后我们将回到值函数并给出更复杂的定义，但这现在就足够了。"
   ]
  },
  {
   "cell_type": "markdown",
   "metadata": {},
   "source": [
    "### 探索与开发\n",
    "\n",
    "当我们第一次开始玩时，我们需要玩游戏并观察我们从各种机器上获得的奖励。 我们可以称之为策略探索，因为我们本质上是随机探索我们行动的结果。 这与我们可以采用的不同策略形成对比，称为剥削，这意味着我们使用我们目前关于哪台机器似乎产生最多奖励的知识，并继续玩那台机器。 我们的总体策略需要包括一定程度的利用（根据我们目前所知的情况选择最佳杠杆）和一定程度的探索（选择随机杠杆以便我们可以了解更多信息）。 开发和探索的适当平衡对于最大化我们的奖励非常重要。\n",
    " \n",
    "我们如何想出一种算法来确定哪台老虎机的平均支出最高？ 好吧，最简单的算法就是选择与最高 Q 值相关的动作："
   ]
  },
  {
   "cell_type": "markdown",
   "metadata": {},
   "source": [
    "![](https://tva1.sinaimg.cn/large/008i3skNly1gud60bcfxwj61k60emac602.jpg)"
   ]
  },
  {
   "cell_type": "markdown",
   "metadata": {},
   "source": [
    "以下清单将其显示为合法的 Python 3 代码。"
   ]
  },
  {
   "cell_type": "markdown",
   "metadata": {},
   "source": [
    "> 清单 2.1 在 Python 3 中找到给定预期回报的最佳动作"
   ]
  },
  {
   "cell_type": "code",
   "execution_count": 4,
   "metadata": {},
   "outputs": [
    {
     "name": "stdout",
     "output_type": "stream",
     "text": [
      "time: 1.93 ms (started: 2021-09-12 00:45:03 +08:00)\n"
     ]
    }
   ],
   "source": [
    "def get_best_action(actions):\n",
    "    best_action = 0\n",
    "    max_action_value = 0\n",
    "    for i in range(len(actions)): \n",
    "        cur_action_value = get_action_value(actions[i]) \n",
    "        if cur_action_value > max_action_value:\n",
    "            best_action = i\n",
    "            max_action_value = cur_action_value\n",
    "    return best_action"
   ]
  },
  {
   "cell_type": "markdown",
   "metadata": {},
   "source": [
    "我们在所有可能的动作上使用我们上面的函数 Qk(a)，并选择返回最大平均奖励的动作。 由于 Qk(a) 取决于我们之前的动作及其相关奖励的记录，因此该方法不会评估我们尚未探索过的动作。 因此，我们之前可能已经尝试过杠杆 #1 和 #3 并注意到杠杆 #3 给了我们更高的奖励，但是使用这种方法我们永远不会想尝试另一个杠杆，比如 #6，实际上我们并不知道 给出最高的平均奖励。 这种简单地选择迄今为止我们所知道的最佳杠杆的方法称为贪婪（或剥削）方法。"
   ]
  },
  {
   "cell_type": "markdown",
   "metadata": {},
   "source": [
    "### Epsilon 贪婪策略\n",
    "\n",
    "我们需要对其他杠杆（其他老虎机）进行一些探索，以发现真正的最佳动作。 对我们之前的算法的一个简单修改是将其更改为 ε (epsilon)-greedy 算法，这样我们将随机选择一个动作 a，其余时间（概率 1 – ε) 我们将根据我们目前从过去的游戏中了解到的信息来选择最佳杠杆。 大多数时候我们会贪婪，但有时我们会冒险并随机选择一个杠杆来看看会发生什么。 结果当然会影响我们未来的贪婪行为。 让我们看看我们是否可以用 Python 在代码中解决这个问题。"
   ]
  },
  {
   "cell_type": "markdown",
   "metadata": {},
   "source": [
    "> 清单 2.2 动作选择的 Epsilon-greedy 策略"
   ]
  },
  {
   "cell_type": "code",
   "execution_count": 5,
   "metadata": {},
   "outputs": [
    {
     "name": "stdout",
     "output_type": "stream",
     "text": [
      "time: 1.84 s (started: 2021-09-12 00:49:33 +08:00)\n"
     ]
    }
   ],
   "source": [
    "import numpy as np\n",
    "from scipy import stats\n",
    "import random\n",
    "import matplotlib.pyplot as plt\n",
    "n = 10 \n",
    "probs = np.random.rand(n) \n",
    "eps = 0.2"
   ]
  },
  {
   "cell_type": "code",
   "execution_count": 6,
   "metadata": {},
   "outputs": [
    {
     "data": {
      "text/plain": [
       "array([0.79832206, 0.09332567, 0.0519283 , 0.68632244, 0.41106619,\n",
       "       0.21073053, 0.78742157, 0.65599723, 0.70090894, 0.00390332])"
      ]
     },
     "execution_count": 6,
     "metadata": {},
     "output_type": "execute_result"
    },
    {
     "name": "stdout",
     "output_type": "stream",
     "text": [
      "time: 15.2 ms (started: 2021-09-12 00:49:46 +08:00)\n"
     ]
    }
   ],
   "source": [
    "probs"
   ]
  },
  {
   "cell_type": "markdown",
   "metadata": {},
   "source": [
    "在这个赌场示例中，我们将解决一个 10 臂老虎机问题，因此 n = 10。我们还定义了一个长度为 n 的 numpy 数组，其中填充了可以理解为概率的随机浮点数。 probs 数组中的每个位置对应一个手臂，这是一个可能的动作。 例如，第一个元素的索引位置为 0，因此动作 0 是 arm 0。每个 arm 都有一个相关联的概率来衡量它支付多少奖励。"
   ]
  },
  {
   "cell_type": "markdown",
   "metadata": {},
   "source": [
    "我们选择为每个分支实现奖励概率分布的方式是：每个分支都有一个概率，例如 0.7，最大奖励为 10 美元。 我们将设置一个循环到 10，如果随机浮点数小于手臂的概率，它将在每一步将奖励加 1。 因此，在第一个循环中，它构成了一个随机浮点数（例如，0.4）。 0.4 小于 0.7，因此奖励 += 1。在下一次迭代中，它构成另一个也小于 0.7 的随机浮点数（例如，0.6），因此奖励 += 1。一直持续到我们完成 10 次迭代，并且 然后我们返回最终的总奖励，它可以是 0 到 10 之间的任何值。如果手臂概率为 0.7，这样做到无穷大的平均奖励将为 7，但在任何单次游戏中，它可能或多或少。"
   ]
  },
  {
   "cell_type": "markdown",
   "metadata": {},
   "source": [
    "> 清单 2.3 定义奖励函数"
   ]
  },
  {
   "cell_type": "code",
   "execution_count": 7,
   "metadata": {},
   "outputs": [
    {
     "name": "stdout",
     "output_type": "stream",
     "text": [
      "time: 991 µs (started: 2021-09-12 00:53:22 +08:00)\n"
     ]
    }
   ],
   "source": [
    "def get_reward(prob, n=10):\n",
    "    reward = 0\n",
    "    for i in range(n):\n",
    "        if random.random() < prob:\n",
    "            reward += 1\n",
    "    return reward"
   ]
  },
  {
   "cell_type": "markdown",
   "metadata": {},
   "source": [
    "您可以通过运行它来检查："
   ]
  },
  {
   "cell_type": "code",
   "execution_count": 8,
   "metadata": {},
   "outputs": [
    {
     "data": {
      "text/plain": [
       "7.008"
      ]
     },
     "execution_count": 8,
     "metadata": {},
     "output_type": "execute_result"
    },
    {
     "name": "stdout",
     "output_type": "stream",
     "text": [
      "time: 23.8 ms (started: 2021-09-12 00:57:43 +08:00)\n"
     ]
    }
   ],
   "source": [
    "np.mean([get_reward(0.7) for _ in range(2000)])"
   ]
  },
  {
   "cell_type": "code",
   "execution_count": 9,
   "metadata": {},
   "outputs": [
    {
     "data": {
      "text/plain": [
       "5.973"
      ]
     },
     "execution_count": 9,
     "metadata": {},
     "output_type": "execute_result"
    },
    {
     "name": "stdout",
     "output_type": "stream",
     "text": [
      "time: 11.3 ms (started: 2021-09-12 00:57:55 +08:00)\n"
     ]
    }
   ],
   "source": [
    "np.mean([get_reward(0.6) for _ in range(2000)])"
   ]
  },
  {
   "cell_type": "markdown",
   "metadata": {},
   "source": [
    "此输出显示，以 0.7 的概率运行此代码 2,000 次确实给了我们接近 7 的平均奖励（参见图 2.2 中的直方图）。"
   ]
  },
  {
   "cell_type": "markdown",
   "metadata": {},
   "source": [
    "![](https://tva1.sinaimg.cn/large/008i3skNly1gud6gzf17jj61du0u0abt02.jpg)"
   ]
  },
  {
   "cell_type": "markdown",
   "metadata": {},
   "source": [
    "我们将定义的下一个函数是我们迄今为止选择最佳臂的贪婪策略。 我们需要一种方法来跟踪被拉动的手臂以及由此产生的奖励。 天真地，我们可以只拥有一个列表并附加诸如 (arm,reward) 之类的观察结果，例如 (2, 9)，表明我们选择了 arm 2 并获得了奖励 9。这个列表会随着我们玩游戏而增长。"
   ]
  },
  {
   "cell_type": "markdown",
   "metadata": {},
   "source": [
    "然而，有一种更简单的方法，因为我们实际上只需要跟踪每个手臂的平均奖励——我们不需要存储每个观察结果。 回想一下，要计算数字列表 xi（由 i 索引）的平均值，我们只需将所有 xi 值相加，然后除以 xi 的数量，我们将表示为 k。 平均值通常用希腊字母 μ (mu) 表示。"
   ]
  },
  {
   "cell_type": "markdown",
   "metadata": {},
   "source": [
    "$$\n",
    "\\mu = \\frac{1}{k}\\sum \\limits_{i}{x_i}\n",
    "$$"
   ]
  },
  {
   "cell_type": "markdown",
   "metadata": {},
   "source": [
    "希腊大写符号 Σ (sigma) 用于表示求和运算。 下面的 i 符号意味着我们对每个元素 xi 求和。 它基本上是 for 循环的数学等价物，如："
   ]
  },
  {
   "cell_type": "code",
   "execution_count": 10,
   "metadata": {},
   "outputs": [
    {
     "name": "stdout",
     "output_type": "stream",
     "text": [
      "time: 700 µs (started: 2021-09-12 01:05:08 +08:00)\n"
     ]
    }
   ],
   "source": [
    "sum = 0\n",
    "x = [4,5,6,7]\n",
    "for j in range(len(x)): \n",
    "    sum = sum + x[j]"
   ]
  },
  {
   "cell_type": "markdown",
   "metadata": {},
   "source": [
    "如果我们已经有一个特定手臂的平均奖励 μ，当我们通过重新计算平均值获得新奖励时，我们可以更新这个平均年龄。 我们基本上需要撤消平均值，然后重新计算。 为了撤消它，我们将 μ 乘以值的总数 k。 当然，这只是给我们总和，而不是原始值集——您无法撤消总和。 但是总数是我们用新值重新计算平均值所需的。 我们只需将此总和添加到新值，然后除以 k + 1，即新的值总数。"
   ]
  },
  {
   "cell_type": "markdown",
   "metadata": {},
   "source": [
    "$$\n",
    "\\mu_{new} = \\frac{k\\cdot\\mu_{old}+x}{k+1} \n",
    "$$"
   ]
  },
  {
   "cell_type": "markdown",
   "metadata": {},
   "source": [
    "当我们收集新数据时，我们可以使用这个方程来不断更新每个手臂观察到的平均奖励，这样我们只需要跟踪每个手臂的两个数字：k，观察到的值的数量，μ，当前 运行平均值。 我们可以轻松地将其存储在一个 10 × 2 的 numpy 数组中（假设我们有 10 个臂）。 我们将这个数组称为记录。"
   ]
  },
  {
   "cell_type": "code",
   "execution_count": 11,
   "metadata": {},
   "outputs": [
    {
     "data": {
      "text/plain": [
       "array([[0., 0.],\n",
       "       [0., 0.],\n",
       "       [0., 0.],\n",
       "       [0., 0.],\n",
       "       [0., 0.],\n",
       "       [0., 0.],\n",
       "       [0., 0.],\n",
       "       [0., 0.],\n",
       "       [0., 0.],\n",
       "       [0., 0.]])"
      ]
     },
     "execution_count": 11,
     "metadata": {},
     "output_type": "execute_result"
    },
    {
     "name": "stdout",
     "output_type": "stream",
     "text": [
      "time: 3.4 ms (started: 2021-09-12 01:08:14 +08:00)\n"
     ]
    }
   ],
   "source": [
    "record = np.zeros((n,2))\n",
    "record"
   ]
  },
  {
   "cell_type": "markdown",
   "metadata": {},
   "source": [
    "该数组的第一列将存储每只手臂被拉动的次数，第二列将存储运行平均奖励。 给定一个新的动作和奖励，让我们编写一个更新记录的函数。"
   ]
  },
  {
   "cell_type": "markdown",
   "metadata": {},
   "source": [
    "> 清单 2.4 更新奖励记录"
   ]
  },
  {
   "cell_type": "code",
   "execution_count": 12,
   "metadata": {},
   "outputs": [
    {
     "name": "stdout",
     "output_type": "stream",
     "text": [
      "time: 905 µs (started: 2021-09-12 01:10:43 +08:00)\n"
     ]
    }
   ],
   "source": [
    "def update_record(record,action,r):\n",
    "    new_r = (record[action,0] * record[action,1] + r) / (record[action,0] + \n",
    "    1)\n",
    "    record[action,0] += 1\n",
    "    record[action,1] = new_r\n",
    "    return record"
   ]
  },
  {
   "cell_type": "markdown",
   "metadata": {},
   "source": [
    "该函数采用记录数组、一个动作（这是手臂的索引值）和一个新的奖励观察。 为了更新平均奖励，它简单地实现了我们之前描述的数学函数，然后增加了记录手臂被拉动的次数的计数器。\n",
    "\n",
    "接下来我们需要一个函数来选择要拉动的手臂。 我们希望它选择与最高平均奖励相关的臂，所以我们需要做的就是在记录数组中找到第 1 列中具有最大值的行。我们可以使用 numpy 的内置 argmax 函数轻松做到这一点，它需要 在数组中，找到数组中的最大值，并返回其索引位置。"
   ]
  },
  {
   "cell_type": "markdown",
   "metadata": {},
   "source": [
    "> 清单 2.5 计算最佳动作"
   ]
  },
  {
   "cell_type": "code",
   "execution_count": 13,
   "metadata": {},
   "outputs": [
    {
     "name": "stdout",
     "output_type": "stream",
     "text": [
      "time: 929 µs (started: 2021-09-12 01:12:19 +08:00)\n"
     ]
    }
   ],
   "source": [
    "def get_best_arm(record):\n",
    "    arm_index = np.argmax(record[:,1],axis=0) \n",
    "    return arm_index"
   ]
  },
  {
   "cell_type": "markdown",
   "metadata": {},
   "source": [
    "现在我们可以进入主循环来玩 n-armed 强盗游戏。 如果随机数大于 epsilon 参数，我们只需使用 get_best_arm 函数计算最佳动作并采取该动作。 否则，我们会采取随机行动以确保进行一定程度的探索。 选择手臂后，我们使用 get_reward 函数并观察奖励值。 然后我们用这个新观察更新记录数组。 我们多次重复这个过程，它会不断更新记录数组。 具有最高奖励概率的手臂最终应该被最频繁地选中，因为它会给出最高的平均奖励。\n",
    "\n",
    "在下面的列表中，我们将其设置为播放 500 次，并显示平均奖励对播放的 matplotlib 散点图。 希望我们会看到平均奖励随着我们玩的次数增加而增加。"
   ]
  },
  {
   "cell_type": "markdown",
   "metadata": {},
   "source": [
    "> 清单 2.6 求解 n 臂老虎机"
   ]
  },
  {
   "cell_type": "code",
   "execution_count": 19,
   "metadata": {},
   "outputs": [
    {
     "data": {
      "image/svg+xml": [
       "<?xml version=\"1.0\" encoding=\"utf-8\" standalone=\"no\"?>\n",
       "<!DOCTYPE svg PUBLIC \"-//W3C//DTD SVG 1.1//EN\"\n",
       "  \"http://www.w3.org/Graphics/SVG/1.1/DTD/svg11.dtd\">\n",
       "<!-- Created with matplotlib (https://matplotlib.org/) -->\n",
       "<svg height=\"262.19625pt\" version=\"1.1\" viewBox=\"0 0 376.240625 262.19625\" width=\"376.240625pt\" xmlns=\"http://www.w3.org/2000/svg\" xmlns:xlink=\"http://www.w3.org/1999/xlink\">\n",
       " <metadata>\n",
       "  <rdf:RDF xmlns:cc=\"http://creativecommons.org/ns#\" xmlns:dc=\"http://purl.org/dc/elements/1.1/\" xmlns:rdf=\"http://www.w3.org/1999/02/22-rdf-syntax-ns#\">\n",
       "   <cc:Work>\n",
       "    <dc:type rdf:resource=\"http://purl.org/dc/dcmitype/StillImage\"/>\n",
       "    <dc:date>2021-09-12T01:25:48.893236</dc:date>\n",
       "    <dc:format>image/svg+xml</dc:format>\n",
       "    <dc:creator>\n",
       "     <cc:Agent>\n",
       "      <dc:title>Matplotlib v3.3.3, https://matplotlib.org/</dc:title>\n",
       "     </cc:Agent>\n",
       "    </dc:creator>\n",
       "   </cc:Work>\n",
       "  </rdf:RDF>\n",
       " </metadata>\n",
       " <defs>\n",
       "  <style type=\"text/css\">*{stroke-linecap:butt;stroke-linejoin:round;}</style>\n",
       " </defs>\n",
       " <g id=\"figure_1\">\n",
       "  <g id=\"patch_1\">\n",
       "   <path d=\"M 0 262.19625 \n",
       "L 376.240625 262.19625 \n",
       "L 376.240625 0 \n",
       "L 0 0 \n",
       "z\n",
       "\" style=\"fill:none;\"/>\n",
       "  </g>\n",
       "  <g id=\"axes_1\">\n",
       "   <g id=\"patch_2\">\n",
       "    <path d=\"M 34.240625 224.64 \n",
       "L 369.040625 224.64 \n",
       "L 369.040625 7.2 \n",
       "L 34.240625 7.2 \n",
       "z\n",
       "\" style=\"fill:#ffffff;\"/>\n",
       "   </g>\n",
       "   <g id=\"PathCollection_1\">\n",
       "    <defs>\n",
       "     <path d=\"M 0 3 \n",
       "C 0.795609 3 1.55874 2.683901 2.12132 2.12132 \n",
       "C 2.683901 1.55874 3 0.795609 3 0 \n",
       "C 3 -0.795609 2.683901 -1.55874 2.12132 -2.12132 \n",
       "C 1.55874 -2.683901 0.795609 -3 0 -3 \n",
       "C -0.795609 -3 -1.55874 -2.683901 -2.12132 -2.12132 \n",
       "C -2.683901 -1.55874 -3 -0.795609 -3 0 \n",
       "C -3 0.795609 -2.683901 1.55874 -2.12132 2.12132 \n",
       "C -1.55874 2.683901 -0.795609 3 0 3 \n",
       "z\n",
       "\" id=\"m65a1940c17\" style=\"stroke:#1f77b4;\"/>\n",
       "    </defs>\n",
       "    <g clip-path=\"url(#pfc97151fdf)\">\n",
       "     <use style=\"fill:#1f77b4;stroke:#1f77b4;\" x=\"49.458807\" xlink:href=\"#m65a1940c17\" y=\"214.756364\"/>\n",
       "     <use style=\"fill:#1f77b4;stroke:#1f77b4;\" x=\"50.067534\" xlink:href=\"#m65a1940c17\" y=\"121.666577\"/>\n",
       "     <use style=\"fill:#1f77b4;stroke:#1f77b4;\" x=\"50.676261\" xlink:href=\"#m65a1940c17\" y=\"113.909095\"/>\n",
       "     <use style=\"fill:#1f77b4;stroke:#1f77b4;\" x=\"51.284989\" xlink:href=\"#m65a1940c17\" y=\"86.757908\"/>\n",
       "     <use style=\"fill:#1f77b4;stroke:#1f77b4;\" x=\"51.893716\" xlink:href=\"#m65a1940c17\" y=\"75.121684\"/>\n",
       "     <use style=\"fill:#1f77b4;stroke:#1f77b4;\" x=\"52.502443\" xlink:href=\"#m65a1940c17\" y=\"82.879167\"/>\n",
       "     <use style=\"fill:#1f77b4;stroke:#1f77b4;\" x=\"53.11117\" xlink:href=\"#m65a1940c17\" y=\"85.09559\"/>\n",
       "     <use style=\"fill:#1f77b4;stroke:#1f77b4;\" x=\"53.719898\" xlink:href=\"#m65a1940c17\" y=\"75.121684\"/>\n",
       "     <use style=\"fill:#1f77b4;stroke:#1f77b4;\" x=\"54.328625\" xlink:href=\"#m65a1940c17\" y=\"69.95003\"/>\n",
       "     <use style=\"fill:#1f77b4;stroke:#1f77b4;\" x=\"54.937352\" xlink:href=\"#m65a1940c17\" y=\"68.13995\"/>\n",
       "     <use style=\"fill:#1f77b4;stroke:#1f77b4;\" x=\"55.54608\" xlink:href=\"#m65a1940c17\" y=\"68.774654\"/>\n",
       "     <use style=\"fill:#1f77b4;stroke:#1f77b4;\" x=\"56.154807\" xlink:href=\"#m65a1940c17\" y=\"63.485461\"/>\n",
       "     <use style=\"fill:#1f77b4;stroke:#1f77b4;\" x=\"56.763534\" xlink:href=\"#m65a1940c17\" y=\"67.960932\"/>\n",
       "     <use style=\"fill:#1f77b4;stroke:#1f77b4;\" x=\"57.372261\" xlink:href=\"#m65a1940c17\" y=\"71.797049\"/>\n",
       "     <use style=\"fill:#1f77b4;stroke:#1f77b4;\" x=\"57.980989\" xlink:href=\"#m65a1940c17\" y=\"67.364202\"/>\n",
       "     <use style=\"fill:#1f77b4;stroke:#1f77b4;\" x=\"58.589716\" xlink:href=\"#m65a1940c17\" y=\"66.394517\"/>\n",
       "     <use style=\"fill:#1f77b4;stroke:#1f77b4;\" x=\"59.198443\" xlink:href=\"#m65a1940c17\" y=\"64.169945\"/>\n",
       "     <use style=\"fill:#1f77b4;stroke:#1f77b4;\" x=\"59.80717\" xlink:href=\"#m65a1940c17\" y=\"64.778375\"/>\n",
       "     <use style=\"fill:#1f77b4;stroke:#1f77b4;\" x=\"60.415898\" xlink:href=\"#m65a1940c17\" y=\"64.097894\"/>\n",
       "     <use style=\"fill:#1f77b4;stroke:#1f77b4;\" x=\"61.024625\" xlink:href=\"#m65a1940c17\" y=\"63.485461\"/>\n",
       "     <use style=\"fill:#1f77b4;stroke:#1f77b4;\" x=\"61.633352\" xlink:href=\"#m65a1940c17\" y=\"64.039567\"/>\n",
       "     <use style=\"fill:#1f77b4;stroke:#1f77b4;\" x=\"62.24208\" xlink:href=\"#m65a1940c17\" y=\"64.5433\"/>\n",
       "     <use style=\"fill:#1f77b4;stroke:#1f77b4;\" x=\"62.850807\" xlink:href=\"#m65a1940c17\" y=\"67.02692\"/>\n",
       "     <use style=\"fill:#1f77b4;stroke:#1f77b4;\" x=\"63.459534\" xlink:href=\"#m65a1940c17\" y=\"65.424832\"/>\n",
       "     <use style=\"fill:#1f77b4;stroke:#1f77b4;\" x=\"64.068261\" xlink:href=\"#m65a1940c17\" y=\"63.95091\"/>\n",
       "     <use style=\"fill:#1f77b4;stroke:#1f77b4;\" x=\"64.676989\" xlink:href=\"#m65a1940c17\" y=\"61.695273\"/>\n",
       "     <use style=\"fill:#1f77b4;stroke:#1f77b4;\" x=\"65.285716\" xlink:href=\"#m65a1940c17\" y=\"60.468662\"/>\n",
       "     <use style=\"fill:#1f77b4;stroke:#1f77b4;\" x=\"65.894443\" xlink:href=\"#m65a1940c17\" y=\"60.160826\"/>\n",
       "     <use style=\"fill:#1f77b4;stroke:#1f77b4;\" x=\"66.50317\" xlink:href=\"#m65a1940c17\" y=\"57.466725\"/>\n",
       "     <use style=\"fill:#1f77b4;stroke:#1f77b4;\" x=\"67.111898\" xlink:href=\"#m65a1940c17\" y=\"55.727979\"/>\n",
       "     <use style=\"fill:#1f77b4;stroke:#1f77b4;\" x=\"67.720625\" xlink:href=\"#m65a1940c17\" y=\"54.10141\"/>\n",
       "     <use style=\"fill:#1f77b4;stroke:#1f77b4;\" x=\"68.329352\" xlink:href=\"#m65a1940c17\" y=\"55.485558\"/>\n",
       "     <use style=\"fill:#1f77b4;stroke:#1f77b4;\" x=\"68.93808\" xlink:href=\"#m65a1940c17\" y=\"53.259689\"/>\n",
       "     <use style=\"fill:#1f77b4;stroke:#1f77b4;\" x=\"69.546807\" xlink:href=\"#m65a1940c17\" y=\"51.849238\"/>\n",
       "     <use style=\"fill:#1f77b4;stroke:#1f77b4;\" x=\"70.155534\" xlink:href=\"#m65a1940c17\" y=\"50.519384\"/>\n",
       "     <use style=\"fill:#1f77b4;stroke:#1f77b4;\" x=\"70.764261\" xlink:href=\"#m65a1940c17\" y=\"49.909867\"/>\n",
       "     <use style=\"fill:#1f77b4;stroke:#1f77b4;\" x=\"71.372989\" xlink:href=\"#m65a1940c17\" y=\"50.591268\"/>\n",
       "     <use style=\"fill:#1f77b4;stroke:#1f77b4;\" x=\"71.981716\" xlink:href=\"#m65a1940c17\" y=\"48.787074\"/>\n",
       "     <use style=\"fill:#1f77b4;stroke:#1f77b4;\" x=\"72.590443\" xlink:href=\"#m65a1940c17\" y=\"47.672132\"/>\n",
       "     <use style=\"fill:#1f77b4;stroke:#1f77b4;\" x=\"73.19917\" xlink:href=\"#m65a1940c17\" y=\"46.031126\"/>\n",
       "     <use style=\"fill:#1f77b4;stroke:#1f77b4;\" x=\"73.807898\" xlink:href=\"#m65a1940c17\" y=\"44.470169\"/>\n",
       "     <use style=\"fill:#1f77b4;stroke:#1f77b4;\" x=\"74.416625\" xlink:href=\"#m65a1940c17\" y=\"43.53765\"/>\n",
       "     <use style=\"fill:#1f77b4;stroke:#1f77b4;\" x=\"75.025352\" xlink:href=\"#m65a1940c17\" y=\"46.437041\"/>\n",
       "     <use style=\"fill:#1f77b4;stroke:#1f77b4;\" x=\"75.63408\" xlink:href=\"#m65a1940c17\" y=\"44.973288\"/>\n",
       "     <use style=\"fill:#1f77b4;stroke:#1f77b4;\" x=\"76.242807\" xlink:href=\"#m65a1940c17\" y=\"44.608921\"/>\n",
       "     <use style=\"fill:#1f77b4;stroke:#1f77b4;\" x=\"76.851534\" xlink:href=\"#m65a1940c17\" y=\"45.778165\"/>\n",
       "     <use style=\"fill:#1f77b4;stroke:#1f77b4;\" x=\"77.460261\" xlink:href=\"#m65a1940c17\" y=\"45.412178\"/>\n",
       "     <use style=\"fill:#1f77b4;stroke:#1f77b4;\" x=\"78.068989\" xlink:href=\"#m65a1940c17\" y=\"47.970497\"/>\n",
       "     <use style=\"fill:#1f77b4;stroke:#1f77b4;\" x=\"78.677716\" xlink:href=\"#m65a1940c17\" y=\"47.574707\"/>\n",
       "     <use style=\"fill:#1f77b4;stroke:#1f77b4;\" x=\"79.286443\" xlink:href=\"#m65a1940c17\" y=\"46.7293\"/>\n",
       "     <use style=\"fill:#1f77b4;stroke:#1f77b4;\" x=\"79.89517\" xlink:href=\"#m65a1940c17\" y=\"46.829691\"/>\n",
       "     <use style=\"fill:#1f77b4;stroke:#1f77b4;\" x=\"80.503898\" xlink:href=\"#m65a1940c17\" y=\"45.583579\"/>\n",
       "     <use style=\"fill:#1f77b4;stroke:#1f77b4;\" x=\"81.112625\" xlink:href=\"#m65a1940c17\" y=\"44.823594\"/>\n",
       "     <use style=\"fill:#1f77b4;stroke:#1f77b4;\" x=\"81.721352\" xlink:href=\"#m65a1940c17\" y=\"45.384669\"/>\n",
       "     <use style=\"fill:#1f77b4;stroke:#1f77b4;\" x=\"82.33008\" xlink:href=\"#m65a1940c17\" y=\"47.617884\"/>\n",
       "     <use style=\"fill:#1f77b4;stroke:#1f77b4;\" x=\"82.938807\" xlink:href=\"#m65a1940c17\" y=\"47.277864\"/>\n",
       "     <use style=\"fill:#1f77b4;stroke:#1f77b4;\" x=\"83.547534\" xlink:href=\"#m65a1940c17\" y=\"47.358064\"/>\n",
       "     <use style=\"fill:#1f77b4;stroke:#1f77b4;\" x=\"84.156261\" xlink:href=\"#m65a1940c17\" y=\"46.231751\"/>\n",
       "     <use style=\"fill:#1f77b4;stroke:#1f77b4;\" x=\"84.764989\" xlink:href=\"#m65a1940c17\" y=\"45.932514\"/>\n",
       "     <use style=\"fill:#1f77b4;stroke:#1f77b4;\" x=\"85.373716\" xlink:href=\"#m65a1940c17\" y=\"47.970497\"/>\n",
       "     <use style=\"fill:#1f77b4;stroke:#1f77b4;\" x=\"85.982443\" xlink:href=\"#m65a1940c17\" y=\"48.034083\"/>\n",
       "     <use style=\"fill:#1f77b4;stroke:#1f77b4;\" x=\"86.59117\" xlink:href=\"#m65a1940c17\" y=\"49.221704\"/>\n",
       "     <use style=\"fill:#1f77b4;stroke:#1f77b4;\" x=\"87.199898\" xlink:href=\"#m65a1940c17\" y=\"48.524603\"/>\n",
       "     <use style=\"fill:#1f77b4;stroke:#1f77b4;\" x=\"87.808625\" xlink:href=\"#m65a1940c17\" y=\"48.57655\"/>\n",
       "     <use style=\"fill:#1f77b4;stroke:#1f77b4;\" x=\"88.417352\" xlink:href=\"#m65a1940c17\" y=\"47.910824\"/>\n",
       "     <use style=\"fill:#1f77b4;stroke:#1f77b4;\" x=\"89.02608\" xlink:href=\"#m65a1940c17\" y=\"46.912658\"/>\n",
       "     <use style=\"fill:#1f77b4;stroke:#1f77b4;\" x=\"89.634807\" xlink:href=\"#m65a1940c17\" y=\"46.291639\"/>\n",
       "     <use style=\"fill:#1f77b4;stroke:#1f77b4;\" x=\"90.243534\" xlink:href=\"#m65a1940c17\" y=\"45.346642\"/>\n",
       "     <use style=\"fill:#1f77b4;stroke:#1f77b4;\" x=\"90.852261\" xlink:href=\"#m65a1940c17\" y=\"45.440883\"/>\n",
       "     <use style=\"fill:#1f77b4;stroke:#1f77b4;\" x=\"91.460989\" xlink:href=\"#m65a1940c17\" y=\"44.867504\"/>\n",
       "     <use style=\"fill:#1f77b4;stroke:#1f77b4;\" x=\"92.069716\" xlink:href=\"#m65a1940c17\" y=\"44.965838\"/>\n",
       "     <use style=\"fill:#1f77b4;stroke:#1f77b4;\" x=\"92.678443\" xlink:href=\"#m65a1940c17\" y=\"44.738213\"/>\n",
       "     <use style=\"fill:#1f77b4;stroke:#1f77b4;\" x=\"93.28717\" xlink:href=\"#m65a1940c17\" y=\"44.198023\"/>\n",
       "     <use style=\"fill:#1f77b4;stroke:#1f77b4;\" x=\"93.895898\" xlink:href=\"#m65a1940c17\" y=\"43.35794\"/>\n",
       "     <use style=\"fill:#1f77b4;stroke:#1f77b4;\" x=\"94.504625\" xlink:href=\"#m65a1940c17\" y=\"42.850559\"/>\n",
       "     <use style=\"fill:#1f77b4;stroke:#1f77b4;\" x=\"95.113352\" xlink:href=\"#m65a1940c17\" y=\"43.887611\"/>\n",
       "     <use style=\"fill:#1f77b4;stroke:#1f77b4;\" x=\"95.72208\" xlink:href=\"#m65a1940c17\" y=\"43.38653\"/>\n",
       "     <use style=\"fill:#1f77b4;stroke:#1f77b4;\" x=\"96.330807\" xlink:href=\"#m65a1940c17\" y=\"42.898297\"/>\n",
       "     <use style=\"fill:#1f77b4;stroke:#1f77b4;\" x=\"96.939534\" xlink:href=\"#m65a1940c17\" y=\"42.422424\"/>\n",
       "     <use style=\"fill:#1f77b4;stroke:#1f77b4;\" x=\"97.548261\" xlink:href=\"#m65a1940c17\" y=\"42.540259\"/>\n",
       "     <use style=\"fill:#1f77b4;stroke:#1f77b4;\" x=\"98.156989\" xlink:href=\"#m65a1940c17\" y=\"42.367871\"/>\n",
       "     <use style=\"fill:#1f77b4;stroke:#1f77b4;\" x=\"98.765716\" xlink:href=\"#m65a1940c17\" y=\"41.632066\"/>\n",
       "     <use style=\"fill:#1f77b4;stroke:#1f77b4;\" x=\"99.374443\" xlink:href=\"#m65a1940c17\" y=\"40.913992\"/>\n",
       "     <use style=\"fill:#1f77b4;stroke:#1f77b4;\" x=\"99.98317\" xlink:href=\"#m65a1940c17\" y=\"40.213015\"/>\n",
       "     <use style=\"fill:#1f77b4;stroke:#1f77b4;\" x=\"100.591898\" xlink:href=\"#m65a1940c17\" y=\"40.076118\"/>\n",
       "     <use style=\"fill:#1f77b4;stroke:#1f77b4;\" x=\"101.200625\" xlink:href=\"#m65a1940c17\" y=\"40.213015\"/>\n",
       "     <use style=\"fill:#1f77b4;stroke:#1f77b4;\" x=\"101.809352\" xlink:href=\"#m65a1940c17\" y=\"41.416762\"/>\n",
       "     <use style=\"fill:#1f77b4;stroke:#1f77b4;\" x=\"102.41808\" xlink:href=\"#m65a1940c17\" y=\"41.799772\"/>\n",
       "     <use style=\"fill:#1f77b4;stroke:#1f77b4;\" x=\"103.026807\" xlink:href=\"#m65a1940c17\" y=\"41.128223\"/>\n",
       "     <use style=\"fill:#1f77b4;stroke:#1f77b4;\" x=\"103.635534\" xlink:href=\"#m65a1940c17\" y=\"40.988763\"/>\n",
       "     <use style=\"fill:#1f77b4;stroke:#1f77b4;\" x=\"104.244261\" xlink:href=\"#m65a1940c17\" y=\"40.596626\"/>\n",
       "     <use style=\"fill:#1f77b4;stroke:#1f77b4;\" x=\"104.852989\" xlink:href=\"#m65a1940c17\" y=\"40.465976\"/>\n",
       "     <use style=\"fill:#1f77b4;stroke:#1f77b4;\" x=\"105.461716\" xlink:href=\"#m65a1940c17\" y=\"40.087894\"/>\n",
       "     <use style=\"fill:#1f77b4;stroke:#1f77b4;\" x=\"106.070443\" xlink:href=\"#m65a1940c17\" y=\"39.717856\"/>\n",
       "     <use style=\"fill:#1f77b4;stroke:#1f77b4;\" x=\"106.67917\" xlink:href=\"#m65a1940c17\" y=\"39.355609\"/>\n",
       "     <use style=\"fill:#1f77b4;stroke:#1f77b4;\" x=\"107.287898\" xlink:href=\"#m65a1940c17\" y=\"39.000908\"/>\n",
       "     <use style=\"fill:#1f77b4;stroke:#1f77b4;\" x=\"107.896625\" xlink:href=\"#m65a1940c17\" y=\"39.613209\"/>\n",
       "     <use style=\"fill:#1f77b4;stroke:#1f77b4;\" x=\"108.505352\" xlink:href=\"#m65a1940c17\" y=\"39.263119\"/>\n",
       "     <use style=\"fill:#1f77b4;stroke:#1f77b4;\" x=\"109.11408\" xlink:href=\"#m65a1940c17\" y=\"38.920101\"/>\n",
       "     <use style=\"fill:#1f77b4;stroke:#1f77b4;\" x=\"109.722807\" xlink:href=\"#m65a1940c17\" y=\"38.816668\"/>\n",
       "     <use style=\"fill:#1f77b4;stroke:#1f77b4;\" x=\"110.331534\" xlink:href=\"#m65a1940c17\" y=\"38.484863\"/>\n",
       "     <use style=\"fill:#1f77b4;stroke:#1f77b4;\" x=\"110.940261\" xlink:href=\"#m65a1940c17\" y=\"39.072208\"/>\n",
       "     <use style=\"fill:#1f77b4;stroke:#1f77b4;\" x=\"111.548989\" xlink:href=\"#m65a1940c17\" y=\"38.970311\"/>\n",
       "     <use style=\"fill:#1f77b4;stroke:#1f77b4;\" x=\"112.157716\" xlink:href=\"#m65a1940c17\" y=\"38.422826\"/>\n",
       "     <use style=\"fill:#1f77b4;stroke:#1f77b4;\" x=\"112.766443\" xlink:href=\"#m65a1940c17\" y=\"38.329055\"/>\n",
       "     <use style=\"fill:#1f77b4;stroke:#1f77b4;\" x=\"113.37517\" xlink:href=\"#m65a1940c17\" y=\"38.237052\"/>\n",
       "     <use style=\"fill:#1f77b4;stroke:#1f77b4;\" x=\"113.983898\" xlink:href=\"#m65a1940c17\" y=\"37.92927\"/>\n",
       "     <use style=\"fill:#1f77b4;stroke:#1f77b4;\" x=\"114.592625\" xlink:href=\"#m65a1940c17\" y=\"38.273644\"/>\n",
       "     <use style=\"fill:#1f77b4;stroke:#1f77b4;\" x=\"115.201352\" xlink:href=\"#m65a1940c17\" y=\"38.398191\"/>\n",
       "     <use style=\"fill:#1f77b4;stroke:#1f77b4;\" x=\"115.81008\" xlink:href=\"#m65a1940c17\" y=\"38.308905\"/>\n",
       "     <use style=\"fill:#1f77b4;stroke:#1f77b4;\" x=\"116.418807\" xlink:href=\"#m65a1940c17\" y=\"38.011567\"/>\n",
       "     <use style=\"fill:#1f77b4;stroke:#1f77b4;\" x=\"117.027534\" xlink:href=\"#m65a1940c17\" y=\"38.135118\"/>\n",
       "     <use style=\"fill:#1f77b4;stroke:#1f77b4;\" x=\"117.636261\" xlink:href=\"#m65a1940c17\" y=\"38.050531\"/>\n",
       "     <use style=\"fill:#1f77b4;stroke:#1f77b4;\" x=\"118.244989\" xlink:href=\"#m65a1940c17\" y=\"37.967428\"/>\n",
       "     <use style=\"fill:#1f77b4;stroke:#1f77b4;\" x=\"118.853716\" xlink:href=\"#m65a1940c17\" y=\"37.88577\"/>\n",
       "     <use style=\"fill:#1f77b4;stroke:#1f77b4;\" x=\"119.462443\" xlink:href=\"#m65a1940c17\" y=\"37.80552\"/>\n",
       "     <use style=\"fill:#1f77b4;stroke:#1f77b4;\" x=\"120.07117\" xlink:href=\"#m65a1940c17\" y=\"37.328822\"/>\n",
       "     <use style=\"fill:#1f77b4;stroke:#1f77b4;\" x=\"120.679898\" xlink:href=\"#m65a1940c17\" y=\"37.057429\"/>\n",
       "     <use style=\"fill:#1f77b4;stroke:#1f77b4;\" x=\"121.288625\" xlink:href=\"#m65a1940c17\" y=\"36.595029\"/>\n",
       "     <use style=\"fill:#1f77b4;stroke:#1f77b4;\" x=\"121.897352\" xlink:href=\"#m65a1940c17\" y=\"36.528211\"/>\n",
       "     <use style=\"fill:#1f77b4;stroke:#1f77b4;\" x=\"122.50608\" xlink:href=\"#m65a1940c17\" y=\"37.231833\"/>\n",
       "     <use style=\"fill:#1f77b4;stroke:#1f77b4;\" x=\"123.114807\" xlink:href=\"#m65a1940c17\" y=\"36.970133\"/>\n",
       "     <use style=\"fill:#1f77b4;stroke:#1f77b4;\" x=\"123.723534\" xlink:href=\"#m65a1940c17\" y=\"36.712687\"/>\n",
       "     <use style=\"fill:#1f77b4;stroke:#1f77b4;\" x=\"124.332261\" xlink:href=\"#m65a1940c17\" y=\"36.834756\"/>\n",
       "     <use style=\"fill:#1f77b4;stroke:#1f77b4;\" x=\"124.940989\" xlink:href=\"#m65a1940c17\" y=\"36.582513\"/>\n",
       "     <use style=\"fill:#1f77b4;stroke:#1f77b4;\" x=\"125.549716\" xlink:href=\"#m65a1940c17\" y=\"36.334273\"/>\n",
       "     <use style=\"fill:#1f77b4;stroke:#1f77b4;\" x=\"126.158443\" xlink:href=\"#m65a1940c17\" y=\"36.089943\"/>\n",
       "     <use style=\"fill:#1f77b4;stroke:#1f77b4;\" x=\"126.76717\" xlink:href=\"#m65a1940c17\" y=\"37.303959\"/>\n",
       "     <use style=\"fill:#1f77b4;stroke:#1f77b4;\" x=\"127.375898\" xlink:href=\"#m65a1940c17\" y=\"37.777526\"/>\n",
       "     <use style=\"fill:#1f77b4;stroke:#1f77b4;\" x=\"127.984625\" xlink:href=\"#m65a1940c17\" y=\"37.348713\"/>\n",
       "     <use style=\"fill:#1f77b4;stroke:#1f77b4;\" x=\"128.593352\" xlink:href=\"#m65a1940c17\" y=\"37.281752\"/>\n",
       "     <use style=\"fill:#1f77b4;stroke:#1f77b4;\" x=\"129.20208\" xlink:href=\"#m65a1940c17\" y=\"36.863193\"/>\n",
       "     <use style=\"fill:#1f77b4;stroke:#1f77b4;\" x=\"129.810807\" xlink:href=\"#m65a1940c17\" y=\"36.450927\"/>\n",
       "     <use style=\"fill:#1f77b4;stroke:#1f77b4;\" x=\"130.419534\" xlink:href=\"#m65a1940c17\" y=\"36.044815\"/>\n",
       "     <use style=\"fill:#1f77b4;stroke:#1f77b4;\" x=\"131.028261\" xlink:href=\"#m65a1940c17\" y=\"35.817108\"/>\n",
       "     <use style=\"fill:#1f77b4;stroke:#1f77b4;\" x=\"131.636989\" xlink:href=\"#m65a1940c17\" y=\"35.421629\"/>\n",
       "     <use style=\"fill:#1f77b4;stroke:#1f77b4;\" x=\"132.245716\" xlink:href=\"#m65a1940c17\" y=\"35.031922\"/>\n",
       "     <use style=\"fill:#1f77b4;stroke:#1f77b4;\" x=\"132.854443\" xlink:href=\"#m65a1940c17\" y=\"35.491069\"/>\n",
       "     <use style=\"fill:#1f77b4;stroke:#1f77b4;\" x=\"133.46317\" xlink:href=\"#m65a1940c17\" y=\"36.111037\"/>\n",
       "     <use style=\"fill:#1f77b4;stroke:#1f77b4;\" x=\"134.071898\" xlink:href=\"#m65a1940c17\" y=\"35.724757\"/>\n",
       "     <use style=\"fill:#1f77b4;stroke:#1f77b4;\" x=\"134.680625\" xlink:href=\"#m65a1940c17\" y=\"35.343957\"/>\n",
       "     <use style=\"fill:#1f77b4;stroke:#1f77b4;\" x=\"135.289352\" xlink:href=\"#m65a1940c17\" y=\"34.96852\"/>\n",
       "     <use style=\"fill:#1f77b4;stroke:#1f77b4;\" x=\"135.89808\" xlink:href=\"#m65a1940c17\" y=\"35.5748\"/>\n",
       "     <use style=\"fill:#1f77b4;stroke:#1f77b4;\" x=\"136.506807\" xlink:href=\"#m65a1940c17\" y=\"36.172659\"/>\n",
       "     <use style=\"fill:#1f77b4;stroke:#1f77b4;\" x=\"137.115534\" xlink:href=\"#m65a1940c17\" y=\"35.799275\"/>\n",
       "     <use style=\"fill:#1f77b4;stroke:#1f77b4;\" x=\"137.724261\" xlink:href=\"#m65a1940c17\" y=\"35.431005\"/>\n",
       "     <use style=\"fill:#1f77b4;stroke:#1f77b4;\" x=\"138.332989\" xlink:href=\"#m65a1940c17\" y=\"35.067746\"/>\n",
       "     <use style=\"fill:#1f77b4;stroke:#1f77b4;\" x=\"138.941716\" xlink:href=\"#m65a1940c17\" y=\"34.866642\"/>\n",
       "     <use style=\"fill:#1f77b4;stroke:#1f77b4;\" x=\"139.550443\" xlink:href=\"#m65a1940c17\" y=\"34.512046\"/>\n",
       "     <use style=\"fill:#1f77b4;stroke:#1f77b4;\" x=\"140.15917\" xlink:href=\"#m65a1940c17\" y=\"34.472478\"/>\n",
       "     <use style=\"fill:#1f77b4;stroke:#1f77b4;\" x=\"140.767898\" xlink:href=\"#m65a1940c17\" y=\"34.125189\"/>\n",
       "     <use style=\"fill:#1f77b4;stroke:#1f77b4;\" x=\"141.376625\" xlink:href=\"#m65a1940c17\" y=\"33.78247\"/>\n",
       "     <use style=\"fill:#1f77b4;stroke:#1f77b4;\" x=\"141.985352\" xlink:href=\"#m65a1940c17\" y=\"33.596339\"/>\n",
       "     <use style=\"fill:#1f77b4;stroke:#1f77b4;\" x=\"142.59408\" xlink:href=\"#m65a1940c17\" y=\"33.261505\"/>\n",
       "     <use style=\"fill:#1f77b4;stroke:#1f77b4;\" x=\"143.202807\" xlink:href=\"#m65a1940c17\" y=\"32.930991\"/>\n",
       "     <use style=\"fill:#1f77b4;stroke:#1f77b4;\" x=\"143.811534\" xlink:href=\"#m65a1940c17\" y=\"32.604715\"/>\n",
       "     <use style=\"fill:#1f77b4;stroke:#1f77b4;\" x=\"144.420261\" xlink:href=\"#m65a1940c17\" y=\"32.282595\"/>\n",
       "     <use style=\"fill:#1f77b4;stroke:#1f77b4;\" x=\"145.028989\" xlink:href=\"#m65a1940c17\" y=\"32.111846\"/>\n",
       "     <use style=\"fill:#1f77b4;stroke:#1f77b4;\" x=\"145.637716\" xlink:href=\"#m65a1940c17\" y=\"31.943246\"/>\n",
       "     <use style=\"fill:#1f77b4;stroke:#1f77b4;\" x=\"146.246443\" xlink:href=\"#m65a1940c17\" y=\"31.776753\"/>\n",
       "     <use style=\"fill:#1f77b4;stroke:#1f77b4;\" x=\"146.85517\" xlink:href=\"#m65a1940c17\" y=\"31.467778\"/>\n",
       "     <use style=\"fill:#1f77b4;stroke:#1f77b4;\" x=\"147.463898\" xlink:href=\"#m65a1940c17\" y=\"31.306276\"/>\n",
       "     <use style=\"fill:#1f77b4;stroke:#1f77b4;\" x=\"148.072625\" xlink:href=\"#m65a1940c17\" y=\"31.003979\"/>\n",
       "     <use style=\"fill:#1f77b4;stroke:#1f77b4;\" x=\"148.681352\" xlink:href=\"#m65a1940c17\" y=\"30.847274\"/>\n",
       "     <use style=\"fill:#1f77b4;stroke:#1f77b4;\" x=\"149.29008\" xlink:href=\"#m65a1940c17\" y=\"30.692468\"/>\n",
       "     <use style=\"fill:#1f77b4;stroke:#1f77b4;\" x=\"149.898807\" xlink:href=\"#m65a1940c17\" y=\"30.679723\"/>\n",
       "     <use style=\"fill:#1f77b4;stroke:#1f77b4;\" x=\"150.507534\" xlink:href=\"#m65a1940c17\" y=\"30.388419\"/>\n",
       "     <use style=\"fill:#1f77b4;stroke:#1f77b4;\" x=\"151.116261\" xlink:href=\"#m65a1940c17\" y=\"30.100582\"/>\n",
       "     <use style=\"fill:#1f77b4;stroke:#1f77b4;\" x=\"151.724989\" xlink:href=\"#m65a1940c17\" y=\"29.816152\"/>\n",
       "     <use style=\"fill:#1f77b4;stroke:#1f77b4;\" x=\"152.333716\" xlink:href=\"#m65a1940c17\" y=\"30.630242\"/>\n",
       "     <use style=\"fill:#1f77b4;stroke:#1f77b4;\" x=\"152.942443\" xlink:href=\"#m65a1940c17\" y=\"30.346042\"/>\n",
       "     <use style=\"fill:#1f77b4;stroke:#1f77b4;\" x=\"153.55117\" xlink:href=\"#m65a1940c17\" y=\"30.065145\"/>\n",
       "     <use style=\"fill:#1f77b4;stroke:#1f77b4;\" x=\"154.159898\" xlink:href=\"#m65a1940c17\" y=\"30.998202\"/>\n",
       "     <use style=\"fill:#1f77b4;stroke:#1f77b4;\" x=\"154.768625\" xlink:href=\"#m65a1940c17\" y=\"31.920534\"/>\n",
       "     <use style=\"fill:#1f77b4;stroke:#1f77b4;\" x=\"155.377352\" xlink:href=\"#m65a1940c17\" y=\"31.635456\"/>\n",
       "     <use style=\"fill:#1f77b4;stroke:#1f77b4;\" x=\"155.98608\" xlink:href=\"#m65a1940c17\" y=\"31.485847\"/>\n",
       "     <use style=\"fill:#1f77b4;stroke:#1f77b4;\" x=\"156.594807\" xlink:href=\"#m65a1940c17\" y=\"31.206446\"/>\n",
       "     <use style=\"fill:#1f77b4;stroke:#1f77b4;\" x=\"157.203534\" xlink:href=\"#m65a1940c17\" y=\"32.237626\"/>\n",
       "     <use style=\"fill:#1f77b4;stroke:#1f77b4;\" x=\"157.812261\" xlink:href=\"#m65a1940c17\" y=\"31.957147\"/>\n",
       "     <use style=\"fill:#1f77b4;stroke:#1f77b4;\" x=\"158.420989\" xlink:href=\"#m65a1940c17\" y=\"31.679784\"/>\n",
       "     <use style=\"fill:#1f77b4;stroke:#1f77b4;\" x=\"159.029716\" xlink:href=\"#m65a1940c17\" y=\"32.305526\"/>\n",
       "     <use style=\"fill:#1f77b4;stroke:#1f77b4;\" x=\"159.638443\" xlink:href=\"#m65a1940c17\" y=\"32.029297\"/>\n",
       "     <use style=\"fill:#1f77b4;stroke:#1f77b4;\" x=\"160.24717\" xlink:href=\"#m65a1940c17\" y=\"31.756087\"/>\n",
       "     <use style=\"fill:#1f77b4;stroke:#1f77b4;\" x=\"160.855898\" xlink:href=\"#m65a1940c17\" y=\"31.485847\"/>\n",
       "     <use style=\"fill:#1f77b4;stroke:#1f77b4;\" x=\"161.464625\" xlink:href=\"#m65a1940c17\" y=\"31.59592\"/>\n",
       "     <use style=\"fill:#1f77b4;stroke:#1f77b4;\" x=\"162.073352\" xlink:href=\"#m65a1940c17\" y=\"31.329446\"/>\n",
       "     <use style=\"fill:#1f77b4;stroke:#1f77b4;\" x=\"162.68208\" xlink:href=\"#m65a1940c17\" y=\"31.812533\"/>\n",
       "     <use style=\"fill:#1f77b4;stroke:#1f77b4;\" x=\"163.290807\" xlink:href=\"#m65a1940c17\" y=\"31.671532\"/>\n",
       "     <use style=\"fill:#1f77b4;stroke:#1f77b4;\" x=\"163.899534\" xlink:href=\"#m65a1940c17\" y=\"31.532023\"/>\n",
       "     <use style=\"fill:#1f77b4;stroke:#1f77b4;\" x=\"164.508261\" xlink:href=\"#m65a1940c17\" y=\"31.393982\"/>\n",
       "     <use style=\"fill:#1f77b4;stroke:#1f77b4;\" x=\"165.116989\" xlink:href=\"#m65a1940c17\" y=\"31.135542\"/>\n",
       "     <use style=\"fill:#1f77b4;stroke:#1f77b4;\" x=\"165.725716\" xlink:href=\"#m65a1940c17\" y=\"30.879794\"/>\n",
       "     <use style=\"fill:#1f77b4;stroke:#1f77b4;\" x=\"166.334443\" xlink:href=\"#m65a1940c17\" y=\"30.626696\"/>\n",
       "     <use style=\"fill:#1f77b4;stroke:#1f77b4;\" x=\"166.94317\" xlink:href=\"#m65a1940c17\" y=\"30.73609\"/>\n",
       "     <use style=\"fill:#1f77b4;stroke:#1f77b4;\" x=\"167.551898\" xlink:href=\"#m65a1940c17\" y=\"30.486325\"/>\n",
       "     <use style=\"fill:#1f77b4;stroke:#1f77b4;\" x=\"168.160625\" xlink:href=\"#m65a1940c17\" y=\"30.239109\"/>\n",
       "     <use style=\"fill:#1f77b4;stroke:#1f77b4;\" x=\"168.769352\" xlink:href=\"#m65a1940c17\" y=\"29.994402\"/>\n",
       "     <use style=\"fill:#1f77b4;stroke:#1f77b4;\" x=\"169.37808\" xlink:href=\"#m65a1940c17\" y=\"29.869705\"/>\n",
       "     <use style=\"fill:#1f77b4;stroke:#1f77b4;\" x=\"169.986807\" xlink:href=\"#m65a1940c17\" y=\"30.097102\"/>\n",
       "     <use style=\"fill:#1f77b4;stroke:#1f77b4;\" x=\"170.595534\" xlink:href=\"#m65a1940c17\" y=\"29.856776\"/>\n",
       "     <use style=\"fill:#1f77b4;stroke:#1f77b4;\" x=\"171.204261\" xlink:href=\"#m65a1940c17\" y=\"29.618841\"/>\n",
       "     <use style=\"fill:#1f77b4;stroke:#1f77b4;\" x=\"171.812989\" xlink:href=\"#m65a1940c17\" y=\"29.383262\"/>\n",
       "     <use style=\"fill:#1f77b4;stroke:#1f77b4;\" x=\"172.421716\" xlink:href=\"#m65a1940c17\" y=\"29.264647\"/>\n",
       "     <use style=\"fill:#1f77b4;stroke:#1f77b4;\" x=\"173.030443\" xlink:href=\"#m65a1940c17\" y=\"29.033114\"/>\n",
       "     <use style=\"fill:#1f77b4;stroke:#1f77b4;\" x=\"173.63917\" xlink:href=\"#m65a1940c17\" y=\"29.37146\"/>\n",
       "     <use style=\"fill:#1f77b4;stroke:#1f77b4;\" x=\"174.247898\" xlink:href=\"#m65a1940c17\" y=\"29.141657\"/>\n",
       "     <use style=\"fill:#1f77b4;stroke:#1f77b4;\" x=\"174.856625\" xlink:href=\"#m65a1940c17\" y=\"29.0265\"/>\n",
       "     <use style=\"fill:#1f77b4;stroke:#1f77b4;\" x=\"175.465352\" xlink:href=\"#m65a1940c17\" y=\"28.800565\"/>\n",
       "     <use style=\"fill:#1f77b4;stroke:#1f77b4;\" x=\"176.07408\" xlink:href=\"#m65a1940c17\" y=\"28.576791\"/>\n",
       "     <use style=\"fill:#1f77b4;stroke:#1f77b4;\" x=\"176.682807\" xlink:href=\"#m65a1940c17\" y=\"28.355149\"/>\n",
       "     <use style=\"fill:#1f77b4;stroke:#1f77b4;\" x=\"177.291534\" xlink:href=\"#m65a1940c17\" y=\"29.017975\"/>\n",
       "     <use style=\"fill:#1f77b4;stroke:#1f77b4;\" x=\"177.900261\" xlink:href=\"#m65a1940c17\" y=\"29.015894\"/>\n",
       "     <use style=\"fill:#1f77b4;stroke:#1f77b4;\" x=\"178.508989\" xlink:href=\"#m65a1940c17\" y=\"28.904572\"/>\n",
       "     <use style=\"fill:#1f77b4;stroke:#1f77b4;\" x=\"179.117716\" xlink:href=\"#m65a1940c17\" y=\"28.903041\"/>\n",
       "     <use style=\"fill:#1f77b4;stroke:#1f77b4;\" x=\"179.726443\" xlink:href=\"#m65a1940c17\" y=\"28.685035\"/>\n",
       "     <use style=\"fill:#1f77b4;stroke:#1f77b4;\" x=\"180.33517\" xlink:href=\"#m65a1940c17\" y=\"28.469049\"/>\n",
       "     <use style=\"fill:#1f77b4;stroke:#1f77b4;\" x=\"180.943898\" xlink:href=\"#m65a1940c17\" y=\"28.362299\"/>\n",
       "     <use style=\"fill:#1f77b4;stroke:#1f77b4;\" x=\"181.552625\" xlink:href=\"#m65a1940c17\" y=\"28.149774\"/>\n",
       "     <use style=\"fill:#1f77b4;stroke:#1f77b4;\" x=\"182.161352\" xlink:href=\"#m65a1940c17\" y=\"27.93919\"/>\n",
       "     <use style=\"fill:#1f77b4;stroke:#1f77b4;\" x=\"182.77008\" xlink:href=\"#m65a1940c17\" y=\"27.730521\"/>\n",
       "     <use style=\"fill:#1f77b4;stroke:#1f77b4;\" x=\"183.378807\" xlink:href=\"#m65a1940c17\" y=\"27.629045\"/>\n",
       "     <use style=\"fill:#1f77b4;stroke:#1f77b4;\" x=\"183.987534\" xlink:href=\"#m65a1940c17\" y=\"27.423652\"/>\n",
       "     <use style=\"fill:#1f77b4;stroke:#1f77b4;\" x=\"184.596261\" xlink:href=\"#m65a1940c17\" y=\"27.533184\"/>\n",
       "     <use style=\"fill:#1f77b4;stroke:#1f77b4;\" x=\"185.204989\" xlink:href=\"#m65a1940c17\" y=\"27.330053\"/>\n",
       "     <use style=\"fill:#1f77b4;stroke:#1f77b4;\" x=\"185.813716\" xlink:href=\"#m65a1940c17\" y=\"27.232161\"/>\n",
       "     <use style=\"fill:#1f77b4;stroke:#1f77b4;\" x=\"186.422443\" xlink:href=\"#m65a1940c17\" y=\"27.03216\"/>\n",
       "     <use style=\"fill:#1f77b4;stroke:#1f77b4;\" x=\"187.03117\" xlink:href=\"#m65a1940c17\" y=\"26.833921\"/>\n",
       "     <use style=\"fill:#1f77b4;stroke:#1f77b4;\" x=\"187.639898\" xlink:href=\"#m65a1940c17\" y=\"26.637421\"/>\n",
       "     <use style=\"fill:#1f77b4;stroke:#1f77b4;\" x=\"188.248625\" xlink:href=\"#m65a1940c17\" y=\"26.442637\"/>\n",
       "     <use style=\"fill:#1f77b4;stroke:#1f77b4;\" x=\"188.857352\" xlink:href=\"#m65a1940c17\" y=\"27.059023\"/>\n",
       "     <use style=\"fill:#1f77b4;stroke:#1f77b4;\" x=\"189.46608\" xlink:href=\"#m65a1940c17\" y=\"26.8641\"/>\n",
       "     <use style=\"fill:#1f77b4;stroke:#1f77b4;\" x=\"190.074807\" xlink:href=\"#m65a1940c17\" y=\"26.670858\"/>\n",
       "     <use style=\"fill:#1f77b4;stroke:#1f77b4;\" x=\"190.683534\" xlink:href=\"#m65a1940c17\" y=\"26.479275\"/>\n",
       "     <use style=\"fill:#1f77b4;stroke:#1f77b4;\" x=\"191.292261\" xlink:href=\"#m65a1940c17\" y=\"26.289329\"/>\n",
       "     <use style=\"fill:#1f77b4;stroke:#1f77b4;\" x=\"191.900989\" xlink:href=\"#m65a1940c17\" y=\"26.100999\"/>\n",
       "     <use style=\"fill:#1f77b4;stroke:#1f77b4;\" x=\"192.509716\" xlink:href=\"#m65a1940c17\" y=\"25.914266\"/>\n",
       "     <use style=\"fill:#1f77b4;stroke:#1f77b4;\" x=\"193.118443\" xlink:href=\"#m65a1940c17\" y=\"25.827304\"/>\n",
       "     <use style=\"fill:#1f77b4;stroke:#1f77b4;\" x=\"193.72717\" xlink:href=\"#m65a1940c17\" y=\"25.64329\"/>\n",
       "     <use style=\"fill:#1f77b4;stroke:#1f77b4;\" x=\"194.335898\" xlink:href=\"#m65a1940c17\" y=\"25.460815\"/>\n",
       "     <use style=\"fill:#1f77b4;stroke:#1f77b4;\" x=\"194.944625\" xlink:href=\"#m65a1940c17\" y=\"25.279861\"/>\n",
       "     <use style=\"fill:#1f77b4;stroke:#1f77b4;\" x=\"195.553352\" xlink:href=\"#m65a1940c17\" y=\"25.100409\"/>\n",
       "     <use style=\"fill:#1f77b4;stroke:#1f77b4;\" x=\"196.16208\" xlink:href=\"#m65a1940c17\" y=\"25.114774\"/>\n",
       "     <use style=\"fill:#1f77b4;stroke:#1f77b4;\" x=\"196.770807\" xlink:href=\"#m65a1940c17\" y=\"25.129021\"/>\n",
       "     <use style=\"fill:#1f77b4;stroke:#1f77b4;\" x=\"197.379534\" xlink:href=\"#m65a1940c17\" y=\"24.952394\"/>\n",
       "     <use style=\"fill:#1f77b4;stroke:#1f77b4;\" x=\"197.988261\" xlink:href=\"#m65a1940c17\" y=\"24.777208\"/>\n",
       "     <use style=\"fill:#1f77b4;stroke:#1f77b4;\" x=\"198.596989\" xlink:href=\"#m65a1940c17\" y=\"24.792654\"/>\n",
       "     <use style=\"fill:#1f77b4;stroke:#1f77b4;\" x=\"199.205716\" xlink:href=\"#m65a1940c17\" y=\"24.619533\"/>\n",
       "     <use style=\"fill:#1f77b4;stroke:#1f77b4;\" x=\"199.814443\" xlink:href=\"#m65a1940c17\" y=\"24.541649\"/>\n",
       "     <use style=\"fill:#1f77b4;stroke:#1f77b4;\" x=\"200.42317\" xlink:href=\"#m65a1940c17\" y=\"24.464391\"/>\n",
       "     <use style=\"fill:#1f77b4;stroke:#1f77b4;\" x=\"201.031898\" xlink:href=\"#m65a1940c17\" y=\"24.387751\"/>\n",
       "     <use style=\"fill:#1f77b4;stroke:#1f77b4;\" x=\"201.640625\" xlink:href=\"#m65a1940c17\" y=\"24.775316\"/>\n",
       "     <use style=\"fill:#1f77b4;stroke:#1f77b4;\" x=\"202.249352\" xlink:href=\"#m65a1940c17\" y=\"24.605699\"/>\n",
       "     <use style=\"fill:#1f77b4;stroke:#1f77b4;\" x=\"202.85808\" xlink:href=\"#m65a1940c17\" y=\"24.437423\"/>\n",
       "     <use style=\"fill:#1f77b4;stroke:#1f77b4;\" x=\"203.466807\" xlink:href=\"#m65a1940c17\" y=\"24.911839\"/>\n",
       "     <use style=\"fill:#1f77b4;stroke:#1f77b4;\" x=\"204.075534\" xlink:href=\"#m65a1940c17\" y=\"24.834947\"/>\n",
       "     <use style=\"fill:#1f77b4;stroke:#1f77b4;\" x=\"204.684261\" xlink:href=\"#m65a1940c17\" y=\"24.667748\"/>\n",
       "     <use style=\"fill:#1f77b4;stroke:#1f77b4;\" x=\"205.292989\" xlink:href=\"#m65a1940c17\" y=\"25.135729\"/>\n",
       "     <use style=\"fill:#1f77b4;stroke:#1f77b4;\" x=\"205.901716\" xlink:href=\"#m65a1940c17\" y=\"24.96866\"/>\n",
       "     <use style=\"fill:#1f77b4;stroke:#1f77b4;\" x=\"206.510443\" xlink:href=\"#m65a1940c17\" y=\"24.892736\"/>\n",
       "     <use style=\"fill:#1f77b4;stroke:#1f77b4;\" x=\"207.11917\" xlink:href=\"#m65a1940c17\" y=\"24.727887\"/>\n",
       "     <use style=\"fill:#1f77b4;stroke:#1f77b4;\" x=\"207.727898\" xlink:href=\"#m65a1940c17\" y=\"24.742633\"/>\n",
       "     <use style=\"fill:#1f77b4;stroke:#1f77b4;\" x=\"208.336625\" xlink:href=\"#m65a1940c17\" y=\"24.668442\"/>\n",
       "     <use style=\"fill:#1f77b4;stroke:#1f77b4;\" x=\"208.945352\" xlink:href=\"#m65a1940c17\" y=\"24.594814\"/>\n",
       "     <use style=\"fill:#1f77b4;stroke:#1f77b4;\" x=\"209.55408\" xlink:href=\"#m65a1940c17\" y=\"24.521744\"/>\n",
       "     <use style=\"fill:#1f77b4;stroke:#1f77b4;\" x=\"210.162807\" xlink:href=\"#m65a1940c17\" y=\"24.361405\"/>\n",
       "     <use style=\"fill:#1f77b4;stroke:#1f77b4;\" x=\"210.771534\" xlink:href=\"#m65a1940c17\" y=\"24.377252\"/>\n",
       "     <use style=\"fill:#1f77b4;stroke:#1f77b4;\" x=\"211.380261\" xlink:href=\"#m65a1940c17\" y=\"24.218655\"/>\n",
       "     <use style=\"fill:#1f77b4;stroke:#1f77b4;\" x=\"211.988989\" xlink:href=\"#m65a1940c17\" y=\"24.582267\"/>\n",
       "     <use style=\"fill:#1f77b4;stroke:#1f77b4;\" x=\"212.597716\" xlink:href=\"#m65a1940c17\" y=\"24.424087\"/>\n",
       "     <use style=\"fill:#1f77b4;stroke:#1f77b4;\" x=\"213.206443\" xlink:href=\"#m65a1940c17\" y=\"24.267079\"/>\n",
       "     <use style=\"fill:#1f77b4;stroke:#1f77b4;\" x=\"213.81517\" xlink:href=\"#m65a1940c17\" y=\"24.368858\"/>\n",
       "     <use style=\"fill:#1f77b4;stroke:#1f77b4;\" x=\"214.423898\" xlink:href=\"#m65a1940c17\" y=\"24.213208\"/>\n",
       "     <use style=\"fill:#1f77b4;stroke:#1f77b4;\" x=\"215.032625\" xlink:href=\"#m65a1940c17\" y=\"24.058697\"/>\n",
       "     <use style=\"fill:#1f77b4;stroke:#1f77b4;\" x=\"215.641352\" xlink:href=\"#m65a1940c17\" y=\"24.499866\"/>\n",
       "     <use style=\"fill:#1f77b4;stroke:#1f77b4;\" x=\"216.25008\" xlink:href=\"#m65a1940c17\" y=\"24.514692\"/>\n",
       "     <use style=\"fill:#1f77b4;stroke:#1f77b4;\" x=\"216.858807\" xlink:href=\"#m65a1940c17\" y=\"24.360768\"/>\n",
       "     <use style=\"fill:#1f77b4;stroke:#1f77b4;\" x=\"217.467534\" xlink:href=\"#m65a1940c17\" y=\"24.796069\"/>\n",
       "     <use style=\"fill:#1f77b4;stroke:#1f77b4;\" x=\"218.076261\" xlink:href=\"#m65a1940c17\" y=\"24.725955\"/>\n",
       "     <use style=\"fill:#1f77b4;stroke:#1f77b4;\" x=\"218.684989\" xlink:href=\"#m65a1940c17\" y=\"24.57293\"/>\n",
       "     <use style=\"fill:#1f77b4;stroke:#1f77b4;\" x=\"219.293716\" xlink:href=\"#m65a1940c17\" y=\"24.504113\"/>\n",
       "     <use style=\"fill:#1f77b4;stroke:#1f77b4;\" x=\"219.902443\" xlink:href=\"#m65a1940c17\" y=\"24.435787\"/>\n",
       "     <use style=\"fill:#1f77b4;stroke:#1f77b4;\" x=\"220.51117\" xlink:href=\"#m65a1940c17\" y=\"24.285418\"/>\n",
       "     <use style=\"fill:#1f77b4;stroke:#1f77b4;\" x=\"221.119898\" xlink:href=\"#m65a1940c17\" y=\"24.136112\"/>\n",
       "     <use style=\"fill:#1f77b4;stroke:#1f77b4;\" x=\"221.728625\" xlink:href=\"#m65a1940c17\" y=\"24.069803\"/>\n",
       "     <use style=\"fill:#1f77b4;stroke:#1f77b4;\" x=\"222.337352\" xlink:href=\"#m65a1940c17\" y=\"24.00396\"/>\n",
       "     <use style=\"fill:#1f77b4;stroke:#1f77b4;\" x=\"222.94608\" xlink:href=\"#m65a1940c17\" y=\"24.019949\"/>\n",
       "     <use style=\"fill:#1f77b4;stroke:#1f77b4;\" x=\"223.554807\" xlink:href=\"#m65a1940c17\" y=\"23.954737\"/>\n",
       "     <use style=\"fill:#1f77b4;stroke:#1f77b4;\" x=\"224.163534\" xlink:href=\"#m65a1940c17\" y=\"23.889979\"/>\n",
       "     <use style=\"fill:#1f77b4;stroke:#1f77b4;\" x=\"224.772261\" xlink:href=\"#m65a1940c17\" y=\"23.745142\"/>\n",
       "     <use style=\"fill:#1f77b4;stroke:#1f77b4;\" x=\"225.380989\" xlink:href=\"#m65a1940c17\" y=\"23.681553\"/>\n",
       "     <use style=\"fill:#1f77b4;stroke:#1f77b4;\" x=\"225.989716\" xlink:href=\"#m65a1940c17\" y=\"24.258193\"/>\n",
       "     <use style=\"fill:#1f77b4;stroke:#1f77b4;\" x=\"226.598443\" xlink:href=\"#m65a1940c17\" y=\"24.193283\"/>\n",
       "     <use style=\"fill:#1f77b4;stroke:#1f77b4;\" x=\"227.20717\" xlink:href=\"#m65a1940c17\" y=\"24.128815\"/>\n",
       "     <use style=\"fill:#1f77b4;stroke:#1f77b4;\" x=\"227.815898\" xlink:href=\"#m65a1940c17\" y=\"23.985628\"/>\n",
       "     <use style=\"fill:#1f77b4;stroke:#1f77b4;\" x=\"228.424625\" xlink:href=\"#m65a1940c17\" y=\"23.843412\"/>\n",
       "     <use style=\"fill:#1f77b4;stroke:#1f77b4;\" x=\"229.033352\" xlink:href=\"#m65a1940c17\" y=\"23.702157\"/>\n",
       "     <use style=\"fill:#1f77b4;stroke:#1f77b4;\" x=\"229.64208\" xlink:href=\"#m65a1940c17\" y=\"23.561853\"/>\n",
       "     <use style=\"fill:#1f77b4;stroke:#1f77b4;\" x=\"230.250807\" xlink:href=\"#m65a1940c17\" y=\"23.422491\"/>\n",
       "     <use style=\"fill:#1f77b4;stroke:#1f77b4;\" x=\"230.859534\" xlink:href=\"#m65a1940c17\" y=\"23.284061\"/>\n",
       "     <use style=\"fill:#1f77b4;stroke:#1f77b4;\" x=\"231.468261\" xlink:href=\"#m65a1940c17\" y=\"23.146554\"/>\n",
       "     <use style=\"fill:#1f77b4;stroke:#1f77b4;\" x=\"232.076989\" xlink:href=\"#m65a1940c17\" y=\"23.087277\"/>\n",
       "     <use style=\"fill:#1f77b4;stroke:#1f77b4;\" x=\"232.685716\" xlink:href=\"#m65a1940c17\" y=\"23.182516\"/>\n",
       "     <use style=\"fill:#1f77b4;stroke:#1f77b4;\" x=\"233.294443\" xlink:href=\"#m65a1940c17\" y=\"23.046705\"/>\n",
       "     <use style=\"fill:#1f77b4;stroke:#1f77b4;\" x=\"233.90317\" xlink:href=\"#m65a1940c17\" y=\"22.911788\"/>\n",
       "     <use style=\"fill:#1f77b4;stroke:#1f77b4;\" x=\"234.511898\" xlink:href=\"#m65a1940c17\" y=\"22.930362\"/>\n",
       "     <use style=\"fill:#1f77b4;stroke:#1f77b4;\" x=\"235.120625\" xlink:href=\"#m65a1940c17\" y=\"22.796707\"/>\n",
       "     <use style=\"fill:#1f77b4;stroke:#1f77b4;\" x=\"235.729352\" xlink:href=\"#m65a1940c17\" y=\"22.967146\"/>\n",
       "     <use style=\"fill:#1f77b4;stroke:#1f77b4;\" x=\"236.33808\" xlink:href=\"#m65a1940c17\" y=\"22.909799\"/>\n",
       "     <use style=\"fill:#1f77b4;stroke:#1f77b4;\" x=\"236.946807\" xlink:href=\"#m65a1940c17\" y=\"22.777509\"/>\n",
       "     <use style=\"fill:#1f77b4;stroke:#1f77b4;\" x=\"237.555534\" xlink:href=\"#m65a1940c17\" y=\"22.646071\"/>\n",
       "     <use style=\"fill:#1f77b4;stroke:#1f77b4;\" x=\"238.164261\" xlink:href=\"#m65a1940c17\" y=\"22.515479\"/>\n",
       "     <use style=\"fill:#1f77b4;stroke:#1f77b4;\" x=\"238.772989\" xlink:href=\"#m65a1940c17\" y=\"22.534906\"/>\n",
       "     <use style=\"fill:#1f77b4;stroke:#1f77b4;\" x=\"239.381716\" xlink:href=\"#m65a1940c17\" y=\"22.405504\"/>\n",
       "     <use style=\"fill:#1f77b4;stroke:#1f77b4;\" x=\"239.990443\" xlink:href=\"#m65a1940c17\" y=\"22.351041\"/>\n",
       "     <use style=\"fill:#1f77b4;stroke:#1f77b4;\" x=\"240.59917\" xlink:href=\"#m65a1940c17\" y=\"22.223044\"/>\n",
       "     <use style=\"fill:#1f77b4;stroke:#1f77b4;\" x=\"241.207898\" xlink:href=\"#m65a1940c17\" y=\"22.169504\"/>\n",
       "     <use style=\"fill:#1f77b4;stroke:#1f77b4;\" x=\"241.816625\" xlink:href=\"#m65a1940c17\" y=\"22.483375\"/>\n",
       "     <use style=\"fill:#1f77b4;stroke:#1f77b4;\" x=\"242.425352\" xlink:href=\"#m65a1940c17\" y=\"22.429353\"/>\n",
       "     <use style=\"fill:#1f77b4;stroke:#1f77b4;\" x=\"243.03408\" xlink:href=\"#m65a1940c17\" y=\"22.448624\"/>\n",
       "     <use style=\"fill:#1f77b4;stroke:#1f77b4;\" x=\"243.642807\" xlink:href=\"#m65a1940c17\" y=\"22.322321\"/>\n",
       "     <use style=\"fill:#1f77b4;stroke:#1f77b4;\" x=\"244.251534\" xlink:href=\"#m65a1940c17\" y=\"22.196806\"/>\n",
       "     <use style=\"fill:#1f77b4;stroke:#1f77b4;\" x=\"244.860261\" xlink:href=\"#m65a1940c17\" y=\"22.07207\"/>\n",
       "     <use style=\"fill:#1f77b4;stroke:#1f77b4;\" x=\"245.468989\" xlink:href=\"#m65a1940c17\" y=\"21.948107\"/>\n",
       "     <use style=\"fill:#1f77b4;stroke:#1f77b4;\" x=\"246.077716\" xlink:href=\"#m65a1940c17\" y=\"21.824909\"/>\n",
       "     <use style=\"fill:#1f77b4;stroke:#1f77b4;\" x=\"246.686443\" xlink:href=\"#m65a1940c17\" y=\"21.702469\"/>\n",
       "     <use style=\"fill:#1f77b4;stroke:#1f77b4;\" x=\"247.29517\" xlink:href=\"#m65a1940c17\" y=\"21.866331\"/>\n",
       "     <use style=\"fill:#1f77b4;stroke:#1f77b4;\" x=\"247.903898\" xlink:href=\"#m65a1940c17\" y=\"21.744513\"/>\n",
       "     <use style=\"fill:#1f77b4;stroke:#1f77b4;\" x=\"248.512625\" xlink:href=\"#m65a1940c17\" y=\"21.694391\"/>\n",
       "     <use style=\"fill:#1f77b4;stroke:#1f77b4;\" x=\"249.121352\" xlink:href=\"#m65a1940c17\" y=\"21.573836\"/>\n",
       "     <use style=\"fill:#1f77b4;stroke:#1f77b4;\" x=\"249.73008\" xlink:href=\"#m65a1940c17\" y=\"21.454012\"/>\n",
       "     <use style=\"fill:#1f77b4;stroke:#1f77b4;\" x=\"250.338807\" xlink:href=\"#m65a1940c17\" y=\"21.61615\"/>\n",
       "     <use style=\"fill:#1f77b4;stroke:#1f77b4;\" x=\"250.947534\" xlink:href=\"#m65a1940c17\" y=\"21.637116\"/>\n",
       "     <use style=\"fill:#1f77b4;stroke:#1f77b4;\" x=\"251.556261\" xlink:href=\"#m65a1940c17\" y=\"21.518181\"/>\n",
       "     <use style=\"fill:#1f77b4;stroke:#1f77b4;\" x=\"252.164989\" xlink:href=\"#m65a1940c17\" y=\"21.399959\"/>\n",
       "     <use style=\"fill:#1f77b4;stroke:#1f77b4;\" x=\"252.773716\" xlink:href=\"#m65a1940c17\" y=\"21.351912\"/>\n",
       "     <use style=\"fill:#1f77b4;stroke:#1f77b4;\" x=\"253.382443\" xlink:href=\"#m65a1940c17\" y=\"21.304152\"/>\n",
       "     <use style=\"fill:#1f77b4;stroke:#1f77b4;\" x=\"253.99117\" xlink:href=\"#m65a1940c17\" y=\"21.256675\"/>\n",
       "     <use style=\"fill:#1f77b4;stroke:#1f77b4;\" x=\"254.599898\" xlink:href=\"#m65a1940c17\" y=\"21.278332\"/>\n",
       "     <use style=\"fill:#1f77b4;stroke:#1f77b4;\" x=\"255.208625\" xlink:href=\"#m65a1940c17\" y=\"21.162561\"/>\n",
       "     <use style=\"fill:#1f77b4;stroke:#1f77b4;\" x=\"255.817352\" xlink:href=\"#m65a1940c17\" y=\"21.115919\"/>\n",
       "     <use style=\"fill:#1f77b4;stroke:#1f77b4;\" x=\"256.42608\" xlink:href=\"#m65a1940c17\" y=\"21.06955\"/>\n",
       "     <use style=\"fill:#1f77b4;stroke:#1f77b4;\" x=\"257.034807\" xlink:href=\"#m65a1940c17\" y=\"21.023453\"/>\n",
       "     <use style=\"fill:#1f77b4;stroke:#1f77b4;\" x=\"257.643534\" xlink:href=\"#m65a1940c17\" y=\"20.977625\"/>\n",
       "     <use style=\"fill:#1f77b4;stroke:#1f77b4;\" x=\"258.252261\" xlink:href=\"#m65a1940c17\" y=\"20.932063\"/>\n",
       "     <use style=\"fill:#1f77b4;stroke:#1f77b4;\" x=\"258.860989\" xlink:href=\"#m65a1940c17\" y=\"20.954222\"/>\n",
       "     <use style=\"fill:#1f77b4;stroke:#1f77b4;\" x=\"259.469716\" xlink:href=\"#m65a1940c17\" y=\"20.84173\"/>\n",
       "     <use style=\"fill:#1f77b4;stroke:#1f77b4;\" x=\"260.078443\" xlink:href=\"#m65a1940c17\" y=\"20.729886\"/>\n",
       "     <use style=\"fill:#1f77b4;stroke:#1f77b4;\" x=\"260.68717\" xlink:href=\"#m65a1940c17\" y=\"20.685559\"/>\n",
       "     <use style=\"fill:#1f77b4;stroke:#1f77b4;\" x=\"261.295898\" xlink:href=\"#m65a1940c17\" y=\"20.574804\"/>\n",
       "     <use style=\"fill:#1f77b4;stroke:#1f77b4;\" x=\"261.904625\" xlink:href=\"#m65a1940c17\" y=\"20.797145\"/>\n",
       "     <use style=\"fill:#1f77b4;stroke:#1f77b4;\" x=\"262.513352\" xlink:href=\"#m65a1940c17\" y=\"20.686703\"/>\n",
       "     <use style=\"fill:#1f77b4;stroke:#1f77b4;\" x=\"263.12208\" xlink:href=\"#m65a1940c17\" y=\"20.973577\"/>\n",
       "     <use style=\"fill:#1f77b4;stroke:#1f77b4;\" x=\"263.730807\" xlink:href=\"#m65a1940c17\" y=\"20.929188\"/>\n",
       "     <use style=\"fill:#1f77b4;stroke:#1f77b4;\" x=\"264.339534\" xlink:href=\"#m65a1940c17\" y=\"20.885051\"/>\n",
       "     <use style=\"fill:#1f77b4;stroke:#1f77b4;\" x=\"264.948261\" xlink:href=\"#m65a1940c17\" y=\"20.775605\"/>\n",
       "     <use style=\"fill:#1f77b4;stroke:#1f77b4;\" x=\"265.556989\" xlink:href=\"#m65a1940c17\" y=\"20.666774\"/>\n",
       "     <use style=\"fill:#1f77b4;stroke:#1f77b4;\" x=\"266.165716\" xlink:href=\"#m65a1940c17\" y=\"20.558553\"/>\n",
       "     <use style=\"fill:#1f77b4;stroke:#1f77b4;\" x=\"266.774443\" xlink:href=\"#m65a1940c17\" y=\"20.515944\"/>\n",
       "     <use style=\"fill:#1f77b4;stroke:#1f77b4;\" x=\"267.38317\" xlink:href=\"#m65a1940c17\" y=\"20.603223\"/>\n",
       "     <use style=\"fill:#1f77b4;stroke:#1f77b4;\" x=\"267.991898\" xlink:href=\"#m65a1940c17\" y=\"20.496081\"/>\n",
       "     <use style=\"fill:#1f77b4;stroke:#1f77b4;\" x=\"268.600625\" xlink:href=\"#m65a1940c17\" y=\"20.453998\"/>\n",
       "     <use style=\"fill:#1f77b4;stroke:#1f77b4;\" x=\"269.209352\" xlink:href=\"#m65a1940c17\" y=\"20.34786\"/>\n",
       "     <use style=\"fill:#1f77b4;stroke:#1f77b4;\" x=\"269.81808\" xlink:href=\"#m65a1940c17\" y=\"20.306418\"/>\n",
       "     <use style=\"fill:#1f77b4;stroke:#1f77b4;\" x=\"270.426807\" xlink:href=\"#m65a1940c17\" y=\"20.201268\"/>\n",
       "     <use style=\"fill:#1f77b4;stroke:#1f77b4;\" x=\"271.035534\" xlink:href=\"#m65a1940c17\" y=\"20.160454\"/>\n",
       "     <use style=\"fill:#1f77b4;stroke:#1f77b4;\" x=\"271.644261\" xlink:href=\"#m65a1940c17\" y=\"20.437794\"/>\n",
       "     <use style=\"fill:#1f77b4;stroke:#1f77b4;\" x=\"272.252989\" xlink:href=\"#m65a1940c17\" y=\"20.333145\"/>\n",
       "     <use style=\"fill:#1f77b4;stroke:#1f77b4;\" x=\"272.861716\" xlink:href=\"#m65a1940c17\" y=\"20.229066\"/>\n",
       "     <use style=\"fill:#1f77b4;stroke:#1f77b4;\" x=\"273.470443\" xlink:href=\"#m65a1940c17\" y=\"20.125551\"/>\n",
       "     <use style=\"fill:#1f77b4;stroke:#1f77b4;\" x=\"274.07917\" xlink:href=\"#m65a1940c17\" y=\"20.525783\"/>\n",
       "     <use style=\"fill:#1f77b4;stroke:#1f77b4;\" x=\"274.687898\" xlink:href=\"#m65a1940c17\" y=\"20.422026\"/>\n",
       "     <use style=\"fill:#1f77b4;stroke:#1f77b4;\" x=\"275.296625\" xlink:href=\"#m65a1940c17\" y=\"20.381387\"/>\n",
       "     <use style=\"fill:#1f77b4;stroke:#1f77b4;\" x=\"275.905352\" xlink:href=\"#m65a1940c17\" y=\"20.715321\"/>\n",
       "     <use style=\"fill:#1f77b4;stroke:#1f77b4;\" x=\"276.51408\" xlink:href=\"#m65a1940c17\" y=\"20.674116\"/>\n",
       "     <use style=\"fill:#1f77b4;stroke:#1f77b4;\" x=\"277.122807\" xlink:href=\"#m65a1940c17\" y=\"20.63313\"/>\n",
       "     <use style=\"fill:#1f77b4;stroke:#1f77b4;\" x=\"277.731534\" xlink:href=\"#m65a1940c17\" y=\"20.592362\"/>\n",
       "     <use style=\"fill:#1f77b4;stroke:#1f77b4;\" x=\"278.340261\" xlink:href=\"#m65a1940c17\" y=\"20.737002\"/>\n",
       "     <use style=\"fill:#1f77b4;stroke:#1f77b4;\" x=\"278.948989\" xlink:href=\"#m65a1940c17\" y=\"20.634607\"/>\n",
       "     <use style=\"fill:#1f77b4;stroke:#1f77b4;\" x=\"279.557716\" xlink:href=\"#m65a1940c17\" y=\"20.901182\"/>\n",
       "     <use style=\"fill:#1f77b4;stroke:#1f77b4;\" x=\"280.166443\" xlink:href=\"#m65a1940c17\" y=\"20.860138\"/>\n",
       "     <use style=\"fill:#1f77b4;stroke:#1f77b4;\" x=\"280.77517\" xlink:href=\"#m65a1940c17\" y=\"20.758227\"/>\n",
       "     <use style=\"fill:#1f77b4;stroke:#1f77b4;\" x=\"281.383898\" xlink:href=\"#m65a1940c17\" y=\"20.839617\"/>\n",
       "     <use style=\"fill:#1f77b4;stroke:#1f77b4;\" x=\"281.992625\" xlink:href=\"#m65a1940c17\" y=\"20.738291\"/>\n",
       "     <use style=\"fill:#1f77b4;stroke:#1f77b4;\" x=\"282.601352\" xlink:href=\"#m65a1940c17\" y=\"20.637493\"/>\n",
       "     <use style=\"fill:#1f77b4;stroke:#1f77b4;\" x=\"283.21008\" xlink:href=\"#m65a1940c17\" y=\"20.597667\"/>\n",
       "     <use style=\"fill:#1f77b4;stroke:#1f77b4;\" x=\"283.818807\" xlink:href=\"#m65a1940c17\" y=\"20.497755\"/>\n",
       "     <use style=\"fill:#1f77b4;stroke:#1f77b4;\" x=\"284.427534\" xlink:href=\"#m65a1940c17\" y=\"20.39836\"/>\n",
       "     <use style=\"fill:#1f77b4;stroke:#1f77b4;\" x=\"285.036261\" xlink:href=\"#m65a1940c17\" y=\"20.299478\"/>\n",
       "     <use style=\"fill:#1f77b4;stroke:#1f77b4;\" x=\"285.644989\" xlink:href=\"#m65a1940c17\" y=\"20.440409\"/>\n",
       "     <use style=\"fill:#1f77b4;stroke:#1f77b4;\" x=\"286.253716\" xlink:href=\"#m65a1940c17\" y=\"20.341926\"/>\n",
       "     <use style=\"fill:#1f77b4;stroke:#1f77b4;\" x=\"286.862443\" xlink:href=\"#m65a1940c17\" y=\"20.243946\"/>\n",
       "     <use style=\"fill:#1f77b4;stroke:#1f77b4;\" x=\"287.47117\" xlink:href=\"#m65a1940c17\" y=\"20.324572\"/>\n",
       "     <use style=\"fill:#1f77b4;stroke:#1f77b4;\" x=\"288.079898\" xlink:href=\"#m65a1940c17\" y=\"20.286352\"/>\n",
       "     <use style=\"fill:#1f77b4;stroke:#1f77b4;\" x=\"288.688625\" xlink:href=\"#m65a1940c17\" y=\"20.248327\"/>\n",
       "     <use style=\"fill:#1f77b4;stroke:#1f77b4;\" x=\"289.297352\" xlink:href=\"#m65a1940c17\" y=\"20.151576\"/>\n",
       "     <use style=\"fill:#1f77b4;stroke:#1f77b4;\" x=\"289.90608\" xlink:href=\"#m65a1940c17\" y=\"20.055315\"/>\n",
       "     <use style=\"fill:#1f77b4;stroke:#1f77b4;\" x=\"290.514807\" xlink:href=\"#m65a1940c17\" y=\"19.959538\"/>\n",
       "     <use style=\"fill:#1f77b4;stroke:#1f77b4;\" x=\"291.123534\" xlink:href=\"#m65a1940c17\" y=\"19.864242\"/>\n",
       "     <use style=\"fill:#1f77b4;stroke:#1f77b4;\" x=\"291.732261\" xlink:href=\"#m65a1940c17\" y=\"19.769424\"/>\n",
       "     <use style=\"fill:#1f77b4;stroke:#1f77b4;\" x=\"292.340989\" xlink:href=\"#m65a1940c17\" y=\"19.733262\"/>\n",
       "     <use style=\"fill:#1f77b4;stroke:#1f77b4;\" x=\"292.949716\" xlink:href=\"#m65a1940c17\" y=\"20.103531\"/>\n",
       "     <use style=\"fill:#1f77b4;stroke:#1f77b4;\" x=\"293.558443\" xlink:href=\"#m65a1940c17\" y=\"20.414068\"/>\n",
       "     <use style=\"fill:#1f77b4;stroke:#1f77b4;\" x=\"294.16717\" xlink:href=\"#m65a1940c17\" y=\"20.318826\"/>\n",
       "     <use style=\"fill:#1f77b4;stroke:#1f77b4;\" x=\"294.775898\" xlink:href=\"#m65a1940c17\" y=\"20.224057\"/>\n",
       "     <use style=\"fill:#1f77b4;stroke:#1f77b4;\" x=\"295.384625\" xlink:href=\"#m65a1940c17\" y=\"20.129755\"/>\n",
       "     <use style=\"fill:#1f77b4;stroke:#1f77b4;\" x=\"295.993352\" xlink:href=\"#m65a1940c17\" y=\"20.265203\"/>\n",
       "     <use style=\"fill:#1f77b4;stroke:#1f77b4;\" x=\"296.60208\" xlink:href=\"#m65a1940c17\" y=\"20.171264\"/>\n",
       "     <use style=\"fill:#1f77b4;stroke:#1f77b4;\" x=\"297.210807\" xlink:href=\"#m65a1940c17\" y=\"20.134825\"/>\n",
       "     <use style=\"fill:#1f77b4;stroke:#1f77b4;\" x=\"297.819534\" xlink:href=\"#m65a1940c17\" y=\"20.041664\"/>\n",
       "     <use style=\"fill:#1f77b4;stroke:#1f77b4;\" x=\"298.428261\" xlink:href=\"#m65a1940c17\" y=\"19.948957\"/>\n",
       "     <use style=\"fill:#1f77b4;stroke:#1f77b4;\" x=\"299.036989\" xlink:href=\"#m65a1940c17\" y=\"19.96995\"/>\n",
       "     <use style=\"fill:#1f77b4;stroke:#1f77b4;\" x=\"299.645716\" xlink:href=\"#m65a1940c17\" y=\"19.934354\"/>\n",
       "     <use style=\"fill:#1f77b4;stroke:#1f77b4;\" x=\"300.254443\" xlink:href=\"#m65a1940c17\" y=\"19.84258\"/>\n",
       "     <use style=\"fill:#1f77b4;stroke:#1f77b4;\" x=\"300.86317\" xlink:href=\"#m65a1940c17\" y=\"20.200959\"/>\n",
       "     <use style=\"fill:#1f77b4;stroke:#1f77b4;\" x=\"301.471898\" xlink:href=\"#m65a1940c17\" y=\"20.165064\"/>\n",
       "     <use style=\"fill:#1f77b4;stroke:#1f77b4;\" x=\"302.080625\" xlink:href=\"#m65a1940c17\" y=\"20.185284\"/>\n",
       "     <use style=\"fill:#1f77b4;stroke:#1f77b4;\" x=\"302.689352\" xlink:href=\"#m65a1940c17\" y=\"20.261217\"/>\n",
       "     <use style=\"fill:#1f77b4;stroke:#1f77b4;\" x=\"303.29808\" xlink:href=\"#m65a1940c17\" y=\"20.225435\"/>\n",
       "     <use style=\"fill:#1f77b4;stroke:#1f77b4;\" x=\"303.906807\" xlink:href=\"#m65a1940c17\" y=\"20.189824\"/>\n",
       "     <use style=\"fill:#1f77b4;stroke:#1f77b4;\" x=\"304.515534\" xlink:href=\"#m65a1940c17\" y=\"20.098972\"/>\n",
       "     <use style=\"fill:#1f77b4;stroke:#1f77b4;\" x=\"305.124261\" xlink:href=\"#m65a1940c17\" y=\"20.008551\"/>\n",
       "     <use style=\"fill:#1f77b4;stroke:#1f77b4;\" x=\"305.732989\" xlink:href=\"#m65a1940c17\" y=\"19.918559\"/>\n",
       "     <use style=\"fill:#1f77b4;stroke:#1f77b4;\" x=\"306.341716\" xlink:href=\"#m65a1940c17\" y=\"19.88401\"/>\n",
       "     <use style=\"fill:#1f77b4;stroke:#1f77b4;\" x=\"306.950443\" xlink:href=\"#m65a1940c17\" y=\"19.794736\"/>\n",
       "     <use style=\"fill:#1f77b4;stroke:#1f77b4;\" x=\"307.55917\" xlink:href=\"#m65a1940c17\" y=\"19.760641\"/>\n",
       "     <use style=\"fill:#1f77b4;stroke:#1f77b4;\" x=\"308.167898\" xlink:href=\"#m65a1940c17\" y=\"19.672076\"/>\n",
       "     <use style=\"fill:#1f77b4;stroke:#1f77b4;\" x=\"308.776625\" xlink:href=\"#m65a1940c17\" y=\"19.638428\"/>\n",
       "     <use style=\"fill:#1f77b4;stroke:#1f77b4;\" x=\"309.385352\" xlink:href=\"#m65a1940c17\" y=\"19.604937\"/>\n",
       "     <use style=\"fill:#1f77b4;stroke:#1f77b4;\" x=\"309.99408\" xlink:href=\"#m65a1940c17\" y=\"19.517354\"/>\n",
       "     <use style=\"fill:#1f77b4;stroke:#1f77b4;\" x=\"310.602807\" xlink:href=\"#m65a1940c17\" y=\"19.430179\"/>\n",
       "     <use style=\"fill:#1f77b4;stroke:#1f77b4;\" x=\"311.211534\" xlink:href=\"#m65a1940c17\" y=\"19.343408\"/>\n",
       "     <use style=\"fill:#1f77b4;stroke:#1f77b4;\" x=\"311.820261\" xlink:href=\"#m65a1940c17\" y=\"19.257038\"/>\n",
       "     <use style=\"fill:#1f77b4;stroke:#1f77b4;\" x=\"312.428989\" xlink:href=\"#m65a1940c17\" y=\"19.171068\"/>\n",
       "     <use style=\"fill:#1f77b4;stroke:#1f77b4;\" x=\"313.037716\" xlink:href=\"#m65a1940c17\" y=\"19.085494\"/>\n",
       "     <use style=\"fill:#1f77b4;stroke:#1f77b4;\" x=\"313.646443\" xlink:href=\"#m65a1940c17\" y=\"19.053813\"/>\n",
       "     <use style=\"fill:#1f77b4;stroke:#1f77b4;\" x=\"314.25517\" xlink:href=\"#m65a1940c17\" y=\"19.022278\"/>\n",
       "     <use style=\"fill:#1f77b4;stroke:#1f77b4;\" x=\"314.863898\" xlink:href=\"#m65a1940c17\" y=\"18.990887\"/>\n",
       "     <use style=\"fill:#1f77b4;stroke:#1f77b4;\" x=\"315.472625\" xlink:href=\"#m65a1940c17\" y=\"18.906505\"/>\n",
       "     <use style=\"fill:#1f77b4;stroke:#1f77b4;\" x=\"316.081352\" xlink:href=\"#m65a1940c17\" y=\"18.822508\"/>\n",
       "     <use style=\"fill:#1f77b4;stroke:#1f77b4;\" x=\"316.69008\" xlink:href=\"#m65a1940c17\" y=\"18.844677\"/>\n",
       "     <use style=\"fill:#1f77b4;stroke:#1f77b4;\" x=\"317.298807\" xlink:href=\"#m65a1940c17\" y=\"18.761202\"/>\n",
       "     <use style=\"fill:#1f77b4;stroke:#1f77b4;\" x=\"317.907534\" xlink:href=\"#m65a1940c17\" y=\"18.678104\"/>\n",
       "     <use style=\"fill:#1f77b4;stroke:#1f77b4;\" x=\"318.516261\" xlink:href=\"#m65a1940c17\" y=\"18.595381\"/>\n",
       "     <use style=\"fill:#1f77b4;stroke:#1f77b4;\" x=\"319.124989\" xlink:href=\"#m65a1940c17\" y=\"18.513031\"/>\n",
       "     <use style=\"fill:#1f77b4;stroke:#1f77b4;\" x=\"319.733716\" xlink:href=\"#m65a1940c17\" y=\"18.483348\"/>\n",
       "     <use style=\"fill:#1f77b4;stroke:#1f77b4;\" x=\"320.342443\" xlink:href=\"#m65a1940c17\" y=\"18.453799\"/>\n",
       "     <use style=\"fill:#1f77b4;stroke:#1f77b4;\" x=\"320.95117\" xlink:href=\"#m65a1940c17\" y=\"18.372318\"/>\n",
       "     <use style=\"fill:#1f77b4;stroke:#1f77b4;\" x=\"321.559898\" xlink:href=\"#m65a1940c17\" y=\"18.291201\"/>\n",
       "     <use style=\"fill:#1f77b4;stroke:#1f77b4;\" x=\"322.168625\" xlink:href=\"#m65a1940c17\" y=\"18.210445\"/>\n",
       "     <use style=\"fill:#1f77b4;stroke:#1f77b4;\" x=\"322.777352\" xlink:href=\"#m65a1940c17\" y=\"18.181765\"/>\n",
       "     <use style=\"fill:#1f77b4;stroke:#1f77b4;\" x=\"323.38608\" xlink:href=\"#m65a1940c17\" y=\"18.10161\"/>\n",
       "     <use style=\"fill:#1f77b4;stroke:#1f77b4;\" x=\"323.994807\" xlink:href=\"#m65a1940c17\" y=\"18.279249\"/>\n",
       "     <use style=\"fill:#1f77b4;stroke:#1f77b4;\" x=\"324.603534\" xlink:href=\"#m65a1940c17\" y=\"18.199232\"/>\n",
       "     <use style=\"fill:#1f77b4;stroke:#1f77b4;\" x=\"325.212261\" xlink:href=\"#m65a1940c17\" y=\"18.17083\"/>\n",
       "     <use style=\"fill:#1f77b4;stroke:#1f77b4;\" x=\"325.820989\" xlink:href=\"#m65a1940c17\" y=\"18.091403\"/>\n",
       "     <use style=\"fill:#1f77b4;stroke:#1f77b4;\" x=\"326.429716\" xlink:href=\"#m65a1940c17\" y=\"18.012325\"/>\n",
       "     <use style=\"fill:#1f77b4;stroke:#1f77b4;\" x=\"327.038443\" xlink:href=\"#m65a1940c17\" y=\"17.933594\"/>\n",
       "     <use style=\"fill:#1f77b4;stroke:#1f77b4;\" x=\"327.64717\" xlink:href=\"#m65a1940c17\" y=\"17.855206\"/>\n",
       "     <use style=\"fill:#1f77b4;stroke:#1f77b4;\" x=\"328.255898\" xlink:href=\"#m65a1940c17\" y=\"17.777159\"/>\n",
       "     <use style=\"fill:#1f77b4;stroke:#1f77b4;\" x=\"328.864625\" xlink:href=\"#m65a1940c17\" y=\"17.699452\"/>\n",
       "     <use style=\"fill:#1f77b4;stroke:#1f77b4;\" x=\"329.473352\" xlink:href=\"#m65a1940c17\" y=\"17.824012\"/>\n",
       "     <use style=\"fill:#1f77b4;stroke:#1f77b4;\" x=\"330.08208\" xlink:href=\"#m65a1940c17\" y=\"17.74654\"/>\n",
       "     <use style=\"fill:#1f77b4;stroke:#1f77b4;\" x=\"330.690807\" xlink:href=\"#m65a1940c17\" y=\"17.719667\"/>\n",
       "     <use style=\"fill:#1f77b4;stroke:#1f77b4;\" x=\"331.299534\" xlink:href=\"#m65a1940c17\" y=\"17.69291\"/>\n",
       "     <use style=\"fill:#1f77b4;stroke:#1f77b4;\" x=\"331.908261\" xlink:href=\"#m65a1940c17\" y=\"17.666268\"/>\n",
       "     <use style=\"fill:#1f77b4;stroke:#1f77b4;\" x=\"332.516989\" xlink:href=\"#m65a1940c17\" y=\"17.589799\"/>\n",
       "     <use style=\"fill:#1f77b4;stroke:#1f77b4;\" x=\"333.125716\" xlink:href=\"#m65a1940c17\" y=\"17.513658\"/>\n",
       "     <use style=\"fill:#1f77b4;stroke:#1f77b4;\" x=\"333.734443\" xlink:href=\"#m65a1940c17\" y=\"17.437843\"/>\n",
       "     <use style=\"fill:#1f77b4;stroke:#1f77b4;\" x=\"334.34317\" xlink:href=\"#m65a1940c17\" y=\"17.610457\"/>\n",
       "     <use style=\"fill:#1f77b4;stroke:#1f77b4;\" x=\"334.951898\" xlink:href=\"#m65a1940c17\" y=\"17.782337\"/>\n",
       "     <use style=\"fill:#1f77b4;stroke:#1f77b4;\" x=\"335.560625\" xlink:href=\"#m65a1940c17\" y=\"17.755845\"/>\n",
       "     <use style=\"fill:#1f77b4;stroke:#1f77b4;\" x=\"336.169352\" xlink:href=\"#m65a1940c17\" y=\"17.680159\"/>\n",
       "     <use style=\"fill:#1f77b4;stroke:#1f77b4;\" x=\"336.77808\" xlink:href=\"#m65a1940c17\" y=\"17.604792\"/>\n",
       "     <use style=\"fill:#1f77b4;stroke:#1f77b4;\" x=\"337.386807\" xlink:href=\"#m65a1940c17\" y=\"17.529744\"/>\n",
       "     <use style=\"fill:#1f77b4;stroke:#1f77b4;\" x=\"337.995534\" xlink:href=\"#m65a1940c17\" y=\"17.65099\"/>\n",
       "     <use style=\"fill:#1f77b4;stroke:#1f77b4;\" x=\"338.604261\" xlink:href=\"#m65a1940c17\" y=\"17.57616\"/>\n",
       "     <use style=\"fill:#1f77b4;stroke:#1f77b4;\" x=\"339.212989\" xlink:href=\"#m65a1940c17\" y=\"17.501644\"/>\n",
       "     <use style=\"fill:#1f77b4;stroke:#1f77b4;\" x=\"339.821716\" xlink:href=\"#m65a1940c17\" y=\"17.476126\"/>\n",
       "     <use style=\"fill:#1f77b4;stroke:#1f77b4;\" x=\"340.430443\" xlink:href=\"#m65a1940c17\" y=\"17.40213\"/>\n",
       "     <use style=\"fill:#1f77b4;stroke:#1f77b4;\" x=\"341.03917\" xlink:href=\"#m65a1940c17\" y=\"17.522379\"/>\n",
       "     <use style=\"fill:#1f77b4;stroke:#1f77b4;\" x=\"341.647898\" xlink:href=\"#m65a1940c17\" y=\"17.448594\"/>\n",
       "     <use style=\"fill:#1f77b4;stroke:#1f77b4;\" x=\"342.256625\" xlink:href=\"#m65a1940c17\" y=\"17.423399\"/>\n",
       "     <use style=\"fill:#1f77b4;stroke:#1f77b4;\" x=\"342.865352\" xlink:href=\"#m65a1940c17\" y=\"17.350125\"/>\n",
       "     <use style=\"fill:#1f77b4;stroke:#1f77b4;\" x=\"343.47408\" xlink:href=\"#m65a1940c17\" y=\"17.277153\"/>\n",
       "     <use style=\"fill:#1f77b4;stroke:#1f77b4;\" x=\"344.082807\" xlink:href=\"#m65a1940c17\" y=\"17.300451\"/>\n",
       "     <use style=\"fill:#1f77b4;stroke:#1f77b4;\" x=\"344.691534\" xlink:href=\"#m65a1940c17\" y=\"17.227882\"/>\n",
       "     <use style=\"fill:#1f77b4;stroke:#1f77b4;\" x=\"345.300261\" xlink:href=\"#m65a1940c17\" y=\"17.155611\"/>\n",
       "     <use style=\"fill:#1f77b4;stroke:#1f77b4;\" x=\"345.908989\" xlink:href=\"#m65a1940c17\" y=\"17.083636\"/>\n",
       "     <use style=\"fill:#1f77b4;stroke:#1f77b4;\" x=\"346.517716\" xlink:href=\"#m65a1940c17\" y=\"17.345099\"/>\n",
       "     <use style=\"fill:#1f77b4;stroke:#1f77b4;\" x=\"347.126443\" xlink:href=\"#m65a1940c17\" y=\"17.273032\"/>\n",
       "     <use style=\"fill:#1f77b4;stroke:#1f77b4;\" x=\"347.73517\" xlink:href=\"#m65a1940c17\" y=\"17.533044\"/>\n",
       "     <use style=\"fill:#1f77b4;stroke:#1f77b4;\" x=\"348.343898\" xlink:href=\"#m65a1940c17\" y=\"17.460887\"/>\n",
       "     <use style=\"fill:#1f77b4;stroke:#1f77b4;\" x=\"348.952625\" xlink:href=\"#m65a1940c17\" y=\"17.436229\"/>\n",
       "     <use style=\"fill:#1f77b4;stroke:#1f77b4;\" x=\"349.561352\" xlink:href=\"#m65a1940c17\" y=\"17.36456\"/>\n",
       "     <use style=\"fill:#1f77b4;stroke:#1f77b4;\" x=\"350.17008\" xlink:href=\"#m65a1940c17\" y=\"17.293181\"/>\n",
       "     <use style=\"fill:#1f77b4;stroke:#1f77b4;\" x=\"350.778807\" xlink:href=\"#m65a1940c17\" y=\"17.409771\"/>\n",
       "     <use style=\"fill:#1f77b4;stroke:#1f77b4;\" x=\"351.387534\" xlink:href=\"#m65a1940c17\" y=\"17.338588\"/>\n",
       "     <use style=\"fill:#1f77b4;stroke:#1f77b4;\" x=\"351.996261\" xlink:href=\"#m65a1940c17\" y=\"17.267691\"/>\n",
       "     <use style=\"fill:#1f77b4;stroke:#1f77b4;\" x=\"352.604989\" xlink:href=\"#m65a1940c17\" y=\"17.197078\"/>\n",
       "     <use style=\"fill:#1f77b4;stroke:#1f77b4;\" x=\"353.213716\" xlink:href=\"#m65a1940c17\" y=\"17.126748\"/>\n",
       "     <use style=\"fill:#1f77b4;stroke:#1f77b4;\" x=\"353.822443\" xlink:href=\"#m65a1940c17\" y=\"17.10315\"/>\n",
       "    </g>\n",
       "   </g>\n",
       "   <g id=\"matplotlib.axis_1\">\n",
       "    <g id=\"xtick_1\">\n",
       "     <g id=\"line2d_1\">\n",
       "      <defs>\n",
       "       <path d=\"M 0 0 \n",
       "L 0 3.5 \n",
       "\" id=\"m78d50c61e7\" style=\"stroke:#000000;stroke-width:0.8;\"/>\n",
       "      </defs>\n",
       "      <g>\n",
       "       <use style=\"stroke:#000000;stroke-width:0.8;\" x=\"49.458807\" xlink:href=\"#m78d50c61e7\" y=\"224.64\"/>\n",
       "      </g>\n",
       "     </g>\n",
       "     <g id=\"text_1\">\n",
       "      <!-- 0 -->\n",
       "      <g transform=\"translate(46.277557 239.238437)scale(0.1 -0.1)\">\n",
       "       <defs>\n",
       "        <path d=\"M 31.78125 66.40625 \n",
       "Q 24.171875 66.40625 20.328125 58.90625 \n",
       "Q 16.5 51.421875 16.5 36.375 \n",
       "Q 16.5 21.390625 20.328125 13.890625 \n",
       "Q 24.171875 6.390625 31.78125 6.390625 \n",
       "Q 39.453125 6.390625 43.28125 13.890625 \n",
       "Q 47.125 21.390625 47.125 36.375 \n",
       "Q 47.125 51.421875 43.28125 58.90625 \n",
       "Q 39.453125 66.40625 31.78125 66.40625 \n",
       "z\n",
       "M 31.78125 74.21875 \n",
       "Q 44.046875 74.21875 50.515625 64.515625 \n",
       "Q 56.984375 54.828125 56.984375 36.375 \n",
       "Q 56.984375 17.96875 50.515625 8.265625 \n",
       "Q 44.046875 -1.421875 31.78125 -1.421875 \n",
       "Q 19.53125 -1.421875 13.0625 8.265625 \n",
       "Q 6.59375 17.96875 6.59375 36.375 \n",
       "Q 6.59375 54.828125 13.0625 64.515625 \n",
       "Q 19.53125 74.21875 31.78125 74.21875 \n",
       "z\n",
       "\" id=\"DejaVuSans-48\"/>\n",
       "       </defs>\n",
       "       <use xlink:href=\"#DejaVuSans-48\"/>\n",
       "      </g>\n",
       "     </g>\n",
       "    </g>\n",
       "    <g id=\"xtick_2\">\n",
       "     <g id=\"line2d_2\">\n",
       "      <g>\n",
       "       <use style=\"stroke:#000000;stroke-width:0.8;\" x=\"110.331534\" xlink:href=\"#m78d50c61e7\" y=\"224.64\"/>\n",
       "      </g>\n",
       "     </g>\n",
       "     <g id=\"text_2\">\n",
       "      <!-- 100 -->\n",
       "      <g transform=\"translate(100.787784 239.238437)scale(0.1 -0.1)\">\n",
       "       <defs>\n",
       "        <path d=\"M 12.40625 8.296875 \n",
       "L 28.515625 8.296875 \n",
       "L 28.515625 63.921875 \n",
       "L 10.984375 60.40625 \n",
       "L 10.984375 69.390625 \n",
       "L 28.421875 72.90625 \n",
       "L 38.28125 72.90625 \n",
       "L 38.28125 8.296875 \n",
       "L 54.390625 8.296875 \n",
       "L 54.390625 0 \n",
       "L 12.40625 0 \n",
       "z\n",
       "\" id=\"DejaVuSans-49\"/>\n",
       "       </defs>\n",
       "       <use xlink:href=\"#DejaVuSans-49\"/>\n",
       "       <use x=\"63.623047\" xlink:href=\"#DejaVuSans-48\"/>\n",
       "       <use x=\"127.246094\" xlink:href=\"#DejaVuSans-48\"/>\n",
       "      </g>\n",
       "     </g>\n",
       "    </g>\n",
       "    <g id=\"xtick_3\">\n",
       "     <g id=\"line2d_3\">\n",
       "      <g>\n",
       "       <use style=\"stroke:#000000;stroke-width:0.8;\" x=\"171.204261\" xlink:href=\"#m78d50c61e7\" y=\"224.64\"/>\n",
       "      </g>\n",
       "     </g>\n",
       "     <g id=\"text_3\">\n",
       "      <!-- 200 -->\n",
       "      <g transform=\"translate(161.660511 239.238437)scale(0.1 -0.1)\">\n",
       "       <defs>\n",
       "        <path d=\"M 19.1875 8.296875 \n",
       "L 53.609375 8.296875 \n",
       "L 53.609375 0 \n",
       "L 7.328125 0 \n",
       "L 7.328125 8.296875 \n",
       "Q 12.9375 14.109375 22.625 23.890625 \n",
       "Q 32.328125 33.6875 34.8125 36.53125 \n",
       "Q 39.546875 41.84375 41.421875 45.53125 \n",
       "Q 43.3125 49.21875 43.3125 52.78125 \n",
       "Q 43.3125 58.59375 39.234375 62.25 \n",
       "Q 35.15625 65.921875 28.609375 65.921875 \n",
       "Q 23.96875 65.921875 18.8125 64.3125 \n",
       "Q 13.671875 62.703125 7.8125 59.421875 \n",
       "L 7.8125 69.390625 \n",
       "Q 13.765625 71.78125 18.9375 73 \n",
       "Q 24.125 74.21875 28.421875 74.21875 \n",
       "Q 39.75 74.21875 46.484375 68.546875 \n",
       "Q 53.21875 62.890625 53.21875 53.421875 \n",
       "Q 53.21875 48.921875 51.53125 44.890625 \n",
       "Q 49.859375 40.875 45.40625 35.40625 \n",
       "Q 44.1875 33.984375 37.640625 27.21875 \n",
       "Q 31.109375 20.453125 19.1875 8.296875 \n",
       "z\n",
       "\" id=\"DejaVuSans-50\"/>\n",
       "       </defs>\n",
       "       <use xlink:href=\"#DejaVuSans-50\"/>\n",
       "       <use x=\"63.623047\" xlink:href=\"#DejaVuSans-48\"/>\n",
       "       <use x=\"127.246094\" xlink:href=\"#DejaVuSans-48\"/>\n",
       "      </g>\n",
       "     </g>\n",
       "    </g>\n",
       "    <g id=\"xtick_4\">\n",
       "     <g id=\"line2d_4\">\n",
       "      <g>\n",
       "       <use style=\"stroke:#000000;stroke-width:0.8;\" x=\"232.076989\" xlink:href=\"#m78d50c61e7\" y=\"224.64\"/>\n",
       "      </g>\n",
       "     </g>\n",
       "     <g id=\"text_4\">\n",
       "      <!-- 300 -->\n",
       "      <g transform=\"translate(222.533239 239.238437)scale(0.1 -0.1)\">\n",
       "       <defs>\n",
       "        <path d=\"M 40.578125 39.3125 \n",
       "Q 47.65625 37.796875 51.625 33 \n",
       "Q 55.609375 28.21875 55.609375 21.1875 \n",
       "Q 55.609375 10.40625 48.1875 4.484375 \n",
       "Q 40.765625 -1.421875 27.09375 -1.421875 \n",
       "Q 22.515625 -1.421875 17.65625 -0.515625 \n",
       "Q 12.796875 0.390625 7.625 2.203125 \n",
       "L 7.625 11.71875 \n",
       "Q 11.71875 9.328125 16.59375 8.109375 \n",
       "Q 21.484375 6.890625 26.8125 6.890625 \n",
       "Q 36.078125 6.890625 40.9375 10.546875 \n",
       "Q 45.796875 14.203125 45.796875 21.1875 \n",
       "Q 45.796875 27.640625 41.28125 31.265625 \n",
       "Q 36.765625 34.90625 28.71875 34.90625 \n",
       "L 20.21875 34.90625 \n",
       "L 20.21875 43.015625 \n",
       "L 29.109375 43.015625 \n",
       "Q 36.375 43.015625 40.234375 45.921875 \n",
       "Q 44.09375 48.828125 44.09375 54.296875 \n",
       "Q 44.09375 59.90625 40.109375 62.90625 \n",
       "Q 36.140625 65.921875 28.71875 65.921875 \n",
       "Q 24.65625 65.921875 20.015625 65.03125 \n",
       "Q 15.375 64.15625 9.8125 62.3125 \n",
       "L 9.8125 71.09375 \n",
       "Q 15.4375 72.65625 20.34375 73.4375 \n",
       "Q 25.25 74.21875 29.59375 74.21875 \n",
       "Q 40.828125 74.21875 47.359375 69.109375 \n",
       "Q 53.90625 64.015625 53.90625 55.328125 \n",
       "Q 53.90625 49.265625 50.4375 45.09375 \n",
       "Q 46.96875 40.921875 40.578125 39.3125 \n",
       "z\n",
       "\" id=\"DejaVuSans-51\"/>\n",
       "       </defs>\n",
       "       <use xlink:href=\"#DejaVuSans-51\"/>\n",
       "       <use x=\"63.623047\" xlink:href=\"#DejaVuSans-48\"/>\n",
       "       <use x=\"127.246094\" xlink:href=\"#DejaVuSans-48\"/>\n",
       "      </g>\n",
       "     </g>\n",
       "    </g>\n",
       "    <g id=\"xtick_5\">\n",
       "     <g id=\"line2d_5\">\n",
       "      <g>\n",
       "       <use style=\"stroke:#000000;stroke-width:0.8;\" x=\"292.949716\" xlink:href=\"#m78d50c61e7\" y=\"224.64\"/>\n",
       "      </g>\n",
       "     </g>\n",
       "     <g id=\"text_5\">\n",
       "      <!-- 400 -->\n",
       "      <g transform=\"translate(283.405966 239.238437)scale(0.1 -0.1)\">\n",
       "       <defs>\n",
       "        <path d=\"M 37.796875 64.3125 \n",
       "L 12.890625 25.390625 \n",
       "L 37.796875 25.390625 \n",
       "z\n",
       "M 35.203125 72.90625 \n",
       "L 47.609375 72.90625 \n",
       "L 47.609375 25.390625 \n",
       "L 58.015625 25.390625 \n",
       "L 58.015625 17.1875 \n",
       "L 47.609375 17.1875 \n",
       "L 47.609375 0 \n",
       "L 37.796875 0 \n",
       "L 37.796875 17.1875 \n",
       "L 4.890625 17.1875 \n",
       "L 4.890625 26.703125 \n",
       "z\n",
       "\" id=\"DejaVuSans-52\"/>\n",
       "       </defs>\n",
       "       <use xlink:href=\"#DejaVuSans-52\"/>\n",
       "       <use x=\"63.623047\" xlink:href=\"#DejaVuSans-48\"/>\n",
       "       <use x=\"127.246094\" xlink:href=\"#DejaVuSans-48\"/>\n",
       "      </g>\n",
       "     </g>\n",
       "    </g>\n",
       "    <g id=\"xtick_6\">\n",
       "     <g id=\"line2d_6\">\n",
       "      <g>\n",
       "       <use style=\"stroke:#000000;stroke-width:0.8;\" x=\"353.822443\" xlink:href=\"#m78d50c61e7\" y=\"224.64\"/>\n",
       "      </g>\n",
       "     </g>\n",
       "     <g id=\"text_6\">\n",
       "      <!-- 500 -->\n",
       "      <g transform=\"translate(344.278693 239.238437)scale(0.1 -0.1)\">\n",
       "       <defs>\n",
       "        <path d=\"M 10.796875 72.90625 \n",
       "L 49.515625 72.90625 \n",
       "L 49.515625 64.59375 \n",
       "L 19.828125 64.59375 \n",
       "L 19.828125 46.734375 \n",
       "Q 21.96875 47.46875 24.109375 47.828125 \n",
       "Q 26.265625 48.1875 28.421875 48.1875 \n",
       "Q 40.625 48.1875 47.75 41.5 \n",
       "Q 54.890625 34.8125 54.890625 23.390625 \n",
       "Q 54.890625 11.625 47.5625 5.09375 \n",
       "Q 40.234375 -1.421875 26.90625 -1.421875 \n",
       "Q 22.3125 -1.421875 17.546875 -0.640625 \n",
       "Q 12.796875 0.140625 7.71875 1.703125 \n",
       "L 7.71875 11.625 \n",
       "Q 12.109375 9.234375 16.796875 8.0625 \n",
       "Q 21.484375 6.890625 26.703125 6.890625 \n",
       "Q 35.15625 6.890625 40.078125 11.328125 \n",
       "Q 45.015625 15.765625 45.015625 23.390625 \n",
       "Q 45.015625 31 40.078125 35.4375 \n",
       "Q 35.15625 39.890625 26.703125 39.890625 \n",
       "Q 22.75 39.890625 18.8125 39.015625 \n",
       "Q 14.890625 38.140625 10.796875 36.28125 \n",
       "z\n",
       "\" id=\"DejaVuSans-53\"/>\n",
       "       </defs>\n",
       "       <use xlink:href=\"#DejaVuSans-53\"/>\n",
       "       <use x=\"63.623047\" xlink:href=\"#DejaVuSans-48\"/>\n",
       "       <use x=\"127.246094\" xlink:href=\"#DejaVuSans-48\"/>\n",
       "      </g>\n",
       "     </g>\n",
       "    </g>\n",
       "    <g id=\"text_7\">\n",
       "     <!-- Plays -->\n",
       "     <g transform=\"translate(188.608594 252.916562)scale(0.1 -0.1)\">\n",
       "      <defs>\n",
       "       <path d=\"M 19.671875 64.796875 \n",
       "L 19.671875 37.40625 \n",
       "L 32.078125 37.40625 \n",
       "Q 38.96875 37.40625 42.71875 40.96875 \n",
       "Q 46.484375 44.53125 46.484375 51.125 \n",
       "Q 46.484375 57.671875 42.71875 61.234375 \n",
       "Q 38.96875 64.796875 32.078125 64.796875 \n",
       "z\n",
       "M 9.8125 72.90625 \n",
       "L 32.078125 72.90625 \n",
       "Q 44.34375 72.90625 50.609375 67.359375 \n",
       "Q 56.890625 61.8125 56.890625 51.125 \n",
       "Q 56.890625 40.328125 50.609375 34.8125 \n",
       "Q 44.34375 29.296875 32.078125 29.296875 \n",
       "L 19.671875 29.296875 \n",
       "L 19.671875 0 \n",
       "L 9.8125 0 \n",
       "z\n",
       "\" id=\"DejaVuSans-80\"/>\n",
       "       <path d=\"M 9.421875 75.984375 \n",
       "L 18.40625 75.984375 \n",
       "L 18.40625 0 \n",
       "L 9.421875 0 \n",
       "z\n",
       "\" id=\"DejaVuSans-108\"/>\n",
       "       <path d=\"M 34.28125 27.484375 \n",
       "Q 23.390625 27.484375 19.1875 25 \n",
       "Q 14.984375 22.515625 14.984375 16.5 \n",
       "Q 14.984375 11.71875 18.140625 8.90625 \n",
       "Q 21.296875 6.109375 26.703125 6.109375 \n",
       "Q 34.1875 6.109375 38.703125 11.40625 \n",
       "Q 43.21875 16.703125 43.21875 25.484375 \n",
       "L 43.21875 27.484375 \n",
       "z\n",
       "M 52.203125 31.203125 \n",
       "L 52.203125 0 \n",
       "L 43.21875 0 \n",
       "L 43.21875 8.296875 \n",
       "Q 40.140625 3.328125 35.546875 0.953125 \n",
       "Q 30.953125 -1.421875 24.3125 -1.421875 \n",
       "Q 15.921875 -1.421875 10.953125 3.296875 \n",
       "Q 6 8.015625 6 15.921875 \n",
       "Q 6 25.140625 12.171875 29.828125 \n",
       "Q 18.359375 34.515625 30.609375 34.515625 \n",
       "L 43.21875 34.515625 \n",
       "L 43.21875 35.40625 \n",
       "Q 43.21875 41.609375 39.140625 45 \n",
       "Q 35.0625 48.390625 27.6875 48.390625 \n",
       "Q 23 48.390625 18.546875 47.265625 \n",
       "Q 14.109375 46.140625 10.015625 43.890625 \n",
       "L 10.015625 52.203125 \n",
       "Q 14.9375 54.109375 19.578125 55.046875 \n",
       "Q 24.21875 56 28.609375 56 \n",
       "Q 40.484375 56 46.34375 49.84375 \n",
       "Q 52.203125 43.703125 52.203125 31.203125 \n",
       "z\n",
       "\" id=\"DejaVuSans-97\"/>\n",
       "       <path d=\"M 32.171875 -5.078125 \n",
       "Q 28.375 -14.84375 24.75 -17.8125 \n",
       "Q 21.140625 -20.796875 15.09375 -20.796875 \n",
       "L 7.90625 -20.796875 \n",
       "L 7.90625 -13.28125 \n",
       "L 13.1875 -13.28125 \n",
       "Q 16.890625 -13.28125 18.9375 -11.515625 \n",
       "Q 21 -9.765625 23.484375 -3.21875 \n",
       "L 25.09375 0.875 \n",
       "L 2.984375 54.6875 \n",
       "L 12.5 54.6875 \n",
       "L 29.59375 11.921875 \n",
       "L 46.6875 54.6875 \n",
       "L 56.203125 54.6875 \n",
       "z\n",
       "\" id=\"DejaVuSans-121\"/>\n",
       "       <path d=\"M 44.28125 53.078125 \n",
       "L 44.28125 44.578125 \n",
       "Q 40.484375 46.53125 36.375 47.5 \n",
       "Q 32.28125 48.484375 27.875 48.484375 \n",
       "Q 21.1875 48.484375 17.84375 46.4375 \n",
       "Q 14.5 44.390625 14.5 40.28125 \n",
       "Q 14.5 37.15625 16.890625 35.375 \n",
       "Q 19.28125 33.59375 26.515625 31.984375 \n",
       "L 29.59375 31.296875 \n",
       "Q 39.15625 29.25 43.1875 25.515625 \n",
       "Q 47.21875 21.78125 47.21875 15.09375 \n",
       "Q 47.21875 7.46875 41.1875 3.015625 \n",
       "Q 35.15625 -1.421875 24.609375 -1.421875 \n",
       "Q 20.21875 -1.421875 15.453125 -0.5625 \n",
       "Q 10.6875 0.296875 5.421875 2 \n",
       "L 5.421875 11.28125 \n",
       "Q 10.40625 8.6875 15.234375 7.390625 \n",
       "Q 20.0625 6.109375 24.8125 6.109375 \n",
       "Q 31.15625 6.109375 34.5625 8.28125 \n",
       "Q 37.984375 10.453125 37.984375 14.40625 \n",
       "Q 37.984375 18.0625 35.515625 20.015625 \n",
       "Q 33.0625 21.96875 24.703125 23.78125 \n",
       "L 21.578125 24.515625 \n",
       "Q 13.234375 26.265625 9.515625 29.90625 \n",
       "Q 5.8125 33.546875 5.8125 39.890625 \n",
       "Q 5.8125 47.609375 11.28125 51.796875 \n",
       "Q 16.75 56 26.8125 56 \n",
       "Q 31.78125 56 36.171875 55.265625 \n",
       "Q 40.578125 54.546875 44.28125 53.078125 \n",
       "z\n",
       "\" id=\"DejaVuSans-115\"/>\n",
       "      </defs>\n",
       "      <use xlink:href=\"#DejaVuSans-80\"/>\n",
       "      <use x=\"60.302734\" xlink:href=\"#DejaVuSans-108\"/>\n",
       "      <use x=\"88.085938\" xlink:href=\"#DejaVuSans-97\"/>\n",
       "      <use x=\"149.365234\" xlink:href=\"#DejaVuSans-121\"/>\n",
       "      <use x=\"208.544922\" xlink:href=\"#DejaVuSans-115\"/>\n",
       "     </g>\n",
       "    </g>\n",
       "   </g>\n",
       "   <g id=\"matplotlib.axis_2\">\n",
       "    <g id=\"ytick_1\">\n",
       "     <g id=\"line2d_7\">\n",
       "      <defs>\n",
       "       <path d=\"M 0 0 \n",
       "L -3.5 0 \n",
       "\" id=\"m1a3975f50a\" style=\"stroke:#000000;stroke-width:0.8;\"/>\n",
       "      </defs>\n",
       "      <g>\n",
       "       <use style=\"stroke:#000000;stroke-width:0.8;\" x=\"34.240625\" xlink:href=\"#m1a3975f50a\" y=\"214.756364\"/>\n",
       "      </g>\n",
       "     </g>\n",
       "     <g id=\"text_8\">\n",
       "      <!-- 0 -->\n",
       "      <g transform=\"translate(20.878125 218.555582)scale(0.1 -0.1)\">\n",
       "       <use xlink:href=\"#DejaVuSans-48\"/>\n",
       "      </g>\n",
       "     </g>\n",
       "    </g>\n",
       "    <g id=\"ytick_2\">\n",
       "     <g id=\"line2d_8\">\n",
       "      <g>\n",
       "       <use style=\"stroke:#000000;stroke-width:0.8;\" x=\"34.240625\" xlink:href=\"#m1a3975f50a\" y=\"168.211471\"/>\n",
       "      </g>\n",
       "     </g>\n",
       "     <g id=\"text_9\">\n",
       "      <!-- 2 -->\n",
       "      <g transform=\"translate(20.878125 172.010689)scale(0.1 -0.1)\">\n",
       "       <use xlink:href=\"#DejaVuSans-50\"/>\n",
       "      </g>\n",
       "     </g>\n",
       "    </g>\n",
       "    <g id=\"ytick_3\">\n",
       "     <g id=\"line2d_9\">\n",
       "      <g>\n",
       "       <use style=\"stroke:#000000;stroke-width:0.8;\" x=\"34.240625\" xlink:href=\"#m1a3975f50a\" y=\"121.666577\"/>\n",
       "      </g>\n",
       "     </g>\n",
       "     <g id=\"text_10\">\n",
       "      <!-- 4 -->\n",
       "      <g transform=\"translate(20.878125 125.465796)scale(0.1 -0.1)\">\n",
       "       <use xlink:href=\"#DejaVuSans-52\"/>\n",
       "      </g>\n",
       "     </g>\n",
       "    </g>\n",
       "    <g id=\"ytick_4\">\n",
       "     <g id=\"line2d_10\">\n",
       "      <g>\n",
       "       <use style=\"stroke:#000000;stroke-width:0.8;\" x=\"34.240625\" xlink:href=\"#m1a3975f50a\" y=\"75.121684\"/>\n",
       "      </g>\n",
       "     </g>\n",
       "     <g id=\"text_11\">\n",
       "      <!-- 6 -->\n",
       "      <g transform=\"translate(20.878125 78.920903)scale(0.1 -0.1)\">\n",
       "       <defs>\n",
       "        <path d=\"M 33.015625 40.375 \n",
       "Q 26.375 40.375 22.484375 35.828125 \n",
       "Q 18.609375 31.296875 18.609375 23.390625 \n",
       "Q 18.609375 15.53125 22.484375 10.953125 \n",
       "Q 26.375 6.390625 33.015625 6.390625 \n",
       "Q 39.65625 6.390625 43.53125 10.953125 \n",
       "Q 47.40625 15.53125 47.40625 23.390625 \n",
       "Q 47.40625 31.296875 43.53125 35.828125 \n",
       "Q 39.65625 40.375 33.015625 40.375 \n",
       "z\n",
       "M 52.59375 71.296875 \n",
       "L 52.59375 62.3125 \n",
       "Q 48.875 64.0625 45.09375 64.984375 \n",
       "Q 41.3125 65.921875 37.59375 65.921875 \n",
       "Q 27.828125 65.921875 22.671875 59.328125 \n",
       "Q 17.53125 52.734375 16.796875 39.40625 \n",
       "Q 19.671875 43.65625 24.015625 45.921875 \n",
       "Q 28.375 48.1875 33.59375 48.1875 \n",
       "Q 44.578125 48.1875 50.953125 41.515625 \n",
       "Q 57.328125 34.859375 57.328125 23.390625 \n",
       "Q 57.328125 12.15625 50.6875 5.359375 \n",
       "Q 44.046875 -1.421875 33.015625 -1.421875 \n",
       "Q 20.359375 -1.421875 13.671875 8.265625 \n",
       "Q 6.984375 17.96875 6.984375 36.375 \n",
       "Q 6.984375 53.65625 15.1875 63.9375 \n",
       "Q 23.390625 74.21875 37.203125 74.21875 \n",
       "Q 40.921875 74.21875 44.703125 73.484375 \n",
       "Q 48.484375 72.75 52.59375 71.296875 \n",
       "z\n",
       "\" id=\"DejaVuSans-54\"/>\n",
       "       </defs>\n",
       "       <use xlink:href=\"#DejaVuSans-54\"/>\n",
       "      </g>\n",
       "     </g>\n",
       "    </g>\n",
       "    <g id=\"ytick_5\">\n",
       "     <g id=\"line2d_11\">\n",
       "      <g>\n",
       "       <use style=\"stroke:#000000;stroke-width:0.8;\" x=\"34.240625\" xlink:href=\"#m1a3975f50a\" y=\"28.576791\"/>\n",
       "      </g>\n",
       "     </g>\n",
       "     <g id=\"text_12\">\n",
       "      <!-- 8 -->\n",
       "      <g transform=\"translate(20.878125 32.37601)scale(0.1 -0.1)\">\n",
       "       <defs>\n",
       "        <path d=\"M 31.78125 34.625 \n",
       "Q 24.75 34.625 20.71875 30.859375 \n",
       "Q 16.703125 27.09375 16.703125 20.515625 \n",
       "Q 16.703125 13.921875 20.71875 10.15625 \n",
       "Q 24.75 6.390625 31.78125 6.390625 \n",
       "Q 38.8125 6.390625 42.859375 10.171875 \n",
       "Q 46.921875 13.96875 46.921875 20.515625 \n",
       "Q 46.921875 27.09375 42.890625 30.859375 \n",
       "Q 38.875 34.625 31.78125 34.625 \n",
       "z\n",
       "M 21.921875 38.8125 \n",
       "Q 15.578125 40.375 12.03125 44.71875 \n",
       "Q 8.5 49.078125 8.5 55.328125 \n",
       "Q 8.5 64.0625 14.71875 69.140625 \n",
       "Q 20.953125 74.21875 31.78125 74.21875 \n",
       "Q 42.671875 74.21875 48.875 69.140625 \n",
       "Q 55.078125 64.0625 55.078125 55.328125 \n",
       "Q 55.078125 49.078125 51.53125 44.71875 \n",
       "Q 48 40.375 41.703125 38.8125 \n",
       "Q 48.828125 37.15625 52.796875 32.3125 \n",
       "Q 56.78125 27.484375 56.78125 20.515625 \n",
       "Q 56.78125 9.90625 50.3125 4.234375 \n",
       "Q 43.84375 -1.421875 31.78125 -1.421875 \n",
       "Q 19.734375 -1.421875 13.25 4.234375 \n",
       "Q 6.78125 9.90625 6.78125 20.515625 \n",
       "Q 6.78125 27.484375 10.78125 32.3125 \n",
       "Q 14.796875 37.15625 21.921875 38.8125 \n",
       "z\n",
       "M 18.3125 54.390625 \n",
       "Q 18.3125 48.734375 21.84375 45.5625 \n",
       "Q 25.390625 42.390625 31.78125 42.390625 \n",
       "Q 38.140625 42.390625 41.71875 45.5625 \n",
       "Q 45.3125 48.734375 45.3125 54.390625 \n",
       "Q 45.3125 60.0625 41.71875 63.234375 \n",
       "Q 38.140625 66.40625 31.78125 66.40625 \n",
       "Q 25.390625 66.40625 21.84375 63.234375 \n",
       "Q 18.3125 60.0625 18.3125 54.390625 \n",
       "z\n",
       "\" id=\"DejaVuSans-56\"/>\n",
       "       </defs>\n",
       "       <use xlink:href=\"#DejaVuSans-56\"/>\n",
       "      </g>\n",
       "     </g>\n",
       "    </g>\n",
       "    <g id=\"text_13\">\n",
       "     <!-- Avg Reward -->\n",
       "     <g transform=\"translate(14.798437 145.390312)rotate(-90)scale(0.1 -0.1)\">\n",
       "      <defs>\n",
       "       <path d=\"M 34.1875 63.1875 \n",
       "L 20.796875 26.90625 \n",
       "L 47.609375 26.90625 \n",
       "z\n",
       "M 28.609375 72.90625 \n",
       "L 39.796875 72.90625 \n",
       "L 67.578125 0 \n",
       "L 57.328125 0 \n",
       "L 50.6875 18.703125 \n",
       "L 17.828125 18.703125 \n",
       "L 11.1875 0 \n",
       "L 0.78125 0 \n",
       "z\n",
       "\" id=\"DejaVuSans-65\"/>\n",
       "       <path d=\"M 2.984375 54.6875 \n",
       "L 12.5 54.6875 \n",
       "L 29.59375 8.796875 \n",
       "L 46.6875 54.6875 \n",
       "L 56.203125 54.6875 \n",
       "L 35.6875 0 \n",
       "L 23.484375 0 \n",
       "z\n",
       "\" id=\"DejaVuSans-118\"/>\n",
       "       <path d=\"M 45.40625 27.984375 \n",
       "Q 45.40625 37.75 41.375 43.109375 \n",
       "Q 37.359375 48.484375 30.078125 48.484375 \n",
       "Q 22.859375 48.484375 18.828125 43.109375 \n",
       "Q 14.796875 37.75 14.796875 27.984375 \n",
       "Q 14.796875 18.265625 18.828125 12.890625 \n",
       "Q 22.859375 7.515625 30.078125 7.515625 \n",
       "Q 37.359375 7.515625 41.375 12.890625 \n",
       "Q 45.40625 18.265625 45.40625 27.984375 \n",
       "z\n",
       "M 54.390625 6.78125 \n",
       "Q 54.390625 -7.171875 48.1875 -13.984375 \n",
       "Q 42 -20.796875 29.203125 -20.796875 \n",
       "Q 24.46875 -20.796875 20.265625 -20.09375 \n",
       "Q 16.0625 -19.390625 12.109375 -17.921875 \n",
       "L 12.109375 -9.1875 \n",
       "Q 16.0625 -11.328125 19.921875 -12.34375 \n",
       "Q 23.78125 -13.375 27.78125 -13.375 \n",
       "Q 36.625 -13.375 41.015625 -8.765625 \n",
       "Q 45.40625 -4.15625 45.40625 5.171875 \n",
       "L 45.40625 9.625 \n",
       "Q 42.625 4.78125 38.28125 2.390625 \n",
       "Q 33.9375 0 27.875 0 \n",
       "Q 17.828125 0 11.671875 7.65625 \n",
       "Q 5.515625 15.328125 5.515625 27.984375 \n",
       "Q 5.515625 40.671875 11.671875 48.328125 \n",
       "Q 17.828125 56 27.875 56 \n",
       "Q 33.9375 56 38.28125 53.609375 \n",
       "Q 42.625 51.21875 45.40625 46.390625 \n",
       "L 45.40625 54.6875 \n",
       "L 54.390625 54.6875 \n",
       "z\n",
       "\" id=\"DejaVuSans-103\"/>\n",
       "       <path id=\"DejaVuSans-32\"/>\n",
       "       <path d=\"M 44.390625 34.1875 \n",
       "Q 47.5625 33.109375 50.5625 29.59375 \n",
       "Q 53.5625 26.078125 56.59375 19.921875 \n",
       "L 66.609375 0 \n",
       "L 56 0 \n",
       "L 46.6875 18.703125 \n",
       "Q 43.0625 26.03125 39.671875 28.421875 \n",
       "Q 36.28125 30.8125 30.421875 30.8125 \n",
       "L 19.671875 30.8125 \n",
       "L 19.671875 0 \n",
       "L 9.8125 0 \n",
       "L 9.8125 72.90625 \n",
       "L 32.078125 72.90625 \n",
       "Q 44.578125 72.90625 50.734375 67.671875 \n",
       "Q 56.890625 62.453125 56.890625 51.90625 \n",
       "Q 56.890625 45.015625 53.6875 40.46875 \n",
       "Q 50.484375 35.9375 44.390625 34.1875 \n",
       "z\n",
       "M 19.671875 64.796875 \n",
       "L 19.671875 38.921875 \n",
       "L 32.078125 38.921875 \n",
       "Q 39.203125 38.921875 42.84375 42.21875 \n",
       "Q 46.484375 45.515625 46.484375 51.90625 \n",
       "Q 46.484375 58.296875 42.84375 61.546875 \n",
       "Q 39.203125 64.796875 32.078125 64.796875 \n",
       "z\n",
       "\" id=\"DejaVuSans-82\"/>\n",
       "       <path d=\"M 56.203125 29.59375 \n",
       "L 56.203125 25.203125 \n",
       "L 14.890625 25.203125 \n",
       "Q 15.484375 15.921875 20.484375 11.0625 \n",
       "Q 25.484375 6.203125 34.421875 6.203125 \n",
       "Q 39.59375 6.203125 44.453125 7.46875 \n",
       "Q 49.3125 8.734375 54.109375 11.28125 \n",
       "L 54.109375 2.78125 \n",
       "Q 49.265625 0.734375 44.1875 -0.34375 \n",
       "Q 39.109375 -1.421875 33.890625 -1.421875 \n",
       "Q 20.796875 -1.421875 13.15625 6.1875 \n",
       "Q 5.515625 13.8125 5.515625 26.8125 \n",
       "Q 5.515625 40.234375 12.765625 48.109375 \n",
       "Q 20.015625 56 32.328125 56 \n",
       "Q 43.359375 56 49.78125 48.890625 \n",
       "Q 56.203125 41.796875 56.203125 29.59375 \n",
       "z\n",
       "M 47.21875 32.234375 \n",
       "Q 47.125 39.59375 43.09375 43.984375 \n",
       "Q 39.0625 48.390625 32.421875 48.390625 \n",
       "Q 24.90625 48.390625 20.390625 44.140625 \n",
       "Q 15.875 39.890625 15.1875 32.171875 \n",
       "z\n",
       "\" id=\"DejaVuSans-101\"/>\n",
       "       <path d=\"M 4.203125 54.6875 \n",
       "L 13.1875 54.6875 \n",
       "L 24.421875 12.015625 \n",
       "L 35.59375 54.6875 \n",
       "L 46.1875 54.6875 \n",
       "L 57.421875 12.015625 \n",
       "L 68.609375 54.6875 \n",
       "L 77.59375 54.6875 \n",
       "L 63.28125 0 \n",
       "L 52.6875 0 \n",
       "L 40.921875 44.828125 \n",
       "L 29.109375 0 \n",
       "L 18.5 0 \n",
       "z\n",
       "\" id=\"DejaVuSans-119\"/>\n",
       "       <path d=\"M 41.109375 46.296875 \n",
       "Q 39.59375 47.171875 37.8125 47.578125 \n",
       "Q 36.03125 48 33.890625 48 \n",
       "Q 26.265625 48 22.1875 43.046875 \n",
       "Q 18.109375 38.09375 18.109375 28.8125 \n",
       "L 18.109375 0 \n",
       "L 9.078125 0 \n",
       "L 9.078125 54.6875 \n",
       "L 18.109375 54.6875 \n",
       "L 18.109375 46.1875 \n",
       "Q 20.953125 51.171875 25.484375 53.578125 \n",
       "Q 30.03125 56 36.53125 56 \n",
       "Q 37.453125 56 38.578125 55.875 \n",
       "Q 39.703125 55.765625 41.0625 55.515625 \n",
       "z\n",
       "\" id=\"DejaVuSans-114\"/>\n",
       "       <path d=\"M 45.40625 46.390625 \n",
       "L 45.40625 75.984375 \n",
       "L 54.390625 75.984375 \n",
       "L 54.390625 0 \n",
       "L 45.40625 0 \n",
       "L 45.40625 8.203125 \n",
       "Q 42.578125 3.328125 38.25 0.953125 \n",
       "Q 33.9375 -1.421875 27.875 -1.421875 \n",
       "Q 17.96875 -1.421875 11.734375 6.484375 \n",
       "Q 5.515625 14.40625 5.515625 27.296875 \n",
       "Q 5.515625 40.1875 11.734375 48.09375 \n",
       "Q 17.96875 56 27.875 56 \n",
       "Q 33.9375 56 38.25 53.625 \n",
       "Q 42.578125 51.265625 45.40625 46.390625 \n",
       "z\n",
       "M 14.796875 27.296875 \n",
       "Q 14.796875 17.390625 18.875 11.75 \n",
       "Q 22.953125 6.109375 30.078125 6.109375 \n",
       "Q 37.203125 6.109375 41.296875 11.75 \n",
       "Q 45.40625 17.390625 45.40625 27.296875 \n",
       "Q 45.40625 37.203125 41.296875 42.84375 \n",
       "Q 37.203125 48.484375 30.078125 48.484375 \n",
       "Q 22.953125 48.484375 18.875 42.84375 \n",
       "Q 14.796875 37.203125 14.796875 27.296875 \n",
       "z\n",
       "\" id=\"DejaVuSans-100\"/>\n",
       "      </defs>\n",
       "      <use xlink:href=\"#DejaVuSans-65\"/>\n",
       "      <use x=\"62.533203\" xlink:href=\"#DejaVuSans-118\"/>\n",
       "      <use x=\"121.712891\" xlink:href=\"#DejaVuSans-103\"/>\n",
       "      <use x=\"185.189453\" xlink:href=\"#DejaVuSans-32\"/>\n",
       "      <use x=\"216.976562\" xlink:href=\"#DejaVuSans-82\"/>\n",
       "      <use x=\"281.958984\" xlink:href=\"#DejaVuSans-101\"/>\n",
       "      <use x=\"343.482422\" xlink:href=\"#DejaVuSans-119\"/>\n",
       "      <use x=\"425.269531\" xlink:href=\"#DejaVuSans-97\"/>\n",
       "      <use x=\"486.548828\" xlink:href=\"#DejaVuSans-114\"/>\n",
       "      <use x=\"525.912109\" xlink:href=\"#DejaVuSans-100\"/>\n",
       "     </g>\n",
       "    </g>\n",
       "   </g>\n",
       "   <g id=\"patch_3\">\n",
       "    <path d=\"M 34.240625 224.64 \n",
       "L 34.240625 7.2 \n",
       "\" style=\"fill:none;stroke:#000000;stroke-linecap:square;stroke-linejoin:miter;stroke-width:0.8;\"/>\n",
       "   </g>\n",
       "   <g id=\"patch_4\">\n",
       "    <path d=\"M 369.040625 224.64 \n",
       "L 369.040625 7.2 \n",
       "\" style=\"fill:none;stroke:#000000;stroke-linecap:square;stroke-linejoin:miter;stroke-width:0.8;\"/>\n",
       "   </g>\n",
       "   <g id=\"patch_5\">\n",
       "    <path d=\"M 34.240625 224.64 \n",
       "L 369.040625 224.64 \n",
       "\" style=\"fill:none;stroke:#000000;stroke-linecap:square;stroke-linejoin:miter;stroke-width:0.8;\"/>\n",
       "   </g>\n",
       "   <g id=\"patch_6\">\n",
       "    <path d=\"M 34.240625 7.2 \n",
       "L 369.040625 7.2 \n",
       "\" style=\"fill:none;stroke:#000000;stroke-linecap:square;stroke-linejoin:miter;stroke-width:0.8;\"/>\n",
       "   </g>\n",
       "  </g>\n",
       " </g>\n",
       " <defs>\n",
       "  <clipPath id=\"pfc97151fdf\">\n",
       "   <rect height=\"217.44\" width=\"334.8\" x=\"34.240625\" y=\"7.2\"/>\n",
       "  </clipPath>\n",
       " </defs>\n",
       "</svg>\n"
      ],
      "text/plain": [
       "<Figure size 432x288 with 1 Axes>"
      ]
     },
     "metadata": {
      "needs_background": "light"
     },
     "output_type": "display_data"
    },
    {
     "name": "stdout",
     "output_type": "stream",
     "text": [
      "time: 251 ms (started: 2021-09-12 01:25:48 +08:00)\n"
     ]
    }
   ],
   "source": [
    "fig,ax = plt.subplots(1,1)\n",
    "ax.set_xlabel(\"Plays\")\n",
    "ax.set_ylabel(\"Avg Reward\")\n",
    "#fig.set_size_inches(9,5)\n",
    "\n",
    "record = np.zeros((n,2)) \n",
    "probs = np.random.rand(n) \n",
    "eps = 0.2\n",
    "rewards = [0]\n",
    "\n",
    "for i in range(500):\n",
    "    if random.random() > eps:\n",
    "        choice = get_best_arm(record)\n",
    "    else:\n",
    "        choice = np.random.randint(10)\n",
    "    r = get_reward(probs[choice])\n",
    "    record = update_record(record,choice,r)\n",
    "    mean_reward = ((i+1) * rewards[-1] + r)/(i+2)\n",
    "    rewards.append(mean_reward)\n",
    "ax.scatter(np.arange(len(rewards)),rewards);"
   ]
  },
  {
   "cell_type": "markdown",
   "metadata": {},
   "source": [
    "正如您在图 2.3 中看到的，经过多次播放后，平均奖励确实有所提高。 我们的算法正在学习； 它正在被以前的好戏加强！ 然而这是一个如此简单的算法。"
   ]
  },
  {
   "cell_type": "markdown",
   "metadata": {},
   "source": [
    "我们在这里考虑的问题是一个固定问题，因为手臂的潜在奖励概率分布不会随时间变化。 我们当然可以考虑这个问题的一个变体，如果这不是真的——一个非平稳问题。 在这种情况下，一个简单的修改是允许新的奖励观察以倾斜的方式更新存储在记录中的平均奖励值，使其成为加权平均值，向最新观察加权。 这样，如果事情随着时间发生变化，我们将能够在一定程度上跟踪它们。 我们不会在这里实现这个稍微复杂的变体，但我们会在本书后面遇到非平稳问题。"
   ]
  },
  {
   "cell_type": "markdown",
   "metadata": {},
   "source": [
    "### Softmax 选择策略"
   ]
  },
  {
   "cell_type": "markdown",
   "metadata": {},
   "source": [
    "想象另一种类型的强盗问题：一位新上任的医生专门治疗心脏病发作的患者。她有 10 种治疗方案，她只能选择其中一种来治疗她看到的每个患者。出于某种原因，她只知道这 10 种疗法在治疗心脏病方面具有不同的功效和风险——她还不知道哪一种是最好的。我们可以使用之前解决方案中的 n-armed bandit 算法，但我们可能想重新考虑我们的 ε-greedy 策略，即偶尔随机选择一种治疗。在这个新问题中，随机选择一种治疗方法可能会导致患者死亡，而不仅仅是损失一些钱。我们真的想确保我们不会选择最差的治疗方法，但我们仍然希望有能力探索我们的选择以找到最好的治疗方法。\n",
    " \n",
    "这是 softmax 选择可能最合适的地方。 softmax 不是在探索过程中随机选择一个动作，而是为我们提供了跨选项的概率分布。例如，具有最大概率的选项将等同于先前解决方案中的最佳手臂动作，但它也会让我们了解哪些是第二和第三最佳动作。这样我们就可以随机选择探索其他选项，同时避免最糟糕的选项，因为它们将被分配很小的概率甚至 0。 这是 softmax 方程："
   ]
  },
  {
   "cell_type": "markdown",
   "metadata": {},
   "source": [
    "![](https://tva1.sinaimg.cn/large/008i3skNly1gud7cxi01kj61j80degn502.jpg)"
   ]
  },
  {
   "cell_type": "markdown",
   "metadata": {},
   "source": [
    "Pr(A) 是一个函数，它接受一个动作值向量（数组）并返回动作的概率分布，这样值越高的动作具有更高的概率能力。 例如，如果您的操作值数组有四个可能的操作，并且它们当前都具有相同的值，例如 A = [10, 10, 10, 10]，则 Pr(A) = [0.25, 0.25, 0.25, 0.25] . 换句话说，所有的概率都是相同的，并且总和必须为 1。"
   ]
  },
  {
   "cell_type": "markdown",
   "metadata": {},
   "source": [
    "分数的分子将动作值数组除以参数 τ 取幂，产生与输入相同大小（即长度）的向量。 分母对每个单独动作值的幂求和除以 τ，得到一个数字。"
   ]
  },
  {
   "cell_type": "markdown",
   "metadata": {},
   "source": [
    "τ 是一个称为温度的参数，用于衡量动作的概率分布。 高温将导致概率非常相似，而低温将夸大动作之间概率的差异。 为这个参数选择一个值需要有根据的猜测和一些试验和错误。 数学指数 $e^x$ 是对 numpy 中 np.exp(...) 的函数调用。 它将跨输入向量逐元素地应用函数。 下面是我们在 Python 中实际编写 softmax 函数的方法。"
   ]
  },
  {
   "cell_type": "markdown",
   "metadata": {},
   "source": [
    "> 清单 2.7 softmax 函数"
   ]
  },
  {
   "cell_type": "code",
   "execution_count": 20,
   "metadata": {},
   "outputs": [
    {
     "name": "stdout",
     "output_type": "stream",
     "text": [
      "time: 1.65 ms (started: 2021-09-12 01:32:35 +08:00)\n"
     ]
    }
   ],
   "source": [
    "def softmax(av, tau=1.12):\n",
    "    softm = np.exp(av / tau) / np.sum( np.exp(av / tau) ) \n",
    "    return softm"
   ]
  },
  {
   "cell_type": "markdown",
   "metadata": {},
   "source": [
    "当我们使用 softmax 实现之前的 10-armed bandit 问题时，我们不再需要 get_best_arm 函数了。 由于 softmax 在我们可能的动作中产生加权概率分布，我们可以根据动作的相对概率随机选择动作。 也就是说，我们最好的动作将被更频繁地选择，因为它具有最高的 softmax 概率，但其他动作将以较低的频率被选择。"
   ]
  },
  {
   "cell_type": "markdown",
   "metadata": {},
   "source": [
    "为了实现这一点，我们需要做的就是在记录数组的第二列（列索引 1）上应用 softmax 函数，因为这是存储每个动作的当前平均奖励（动作值）的列。 它将这些动作值转换为概率。 然后我们使用 np.random.choice 函数，它接受一个任意输入数组 x 和一个参数 p，它是一个概率数组，对应于 x 中的每个元素。 由于我们的记录被初始化为全零，softmax 起初将返回所有手臂的均匀分布，但这种分布将迅速偏向与最高奖励相关的任何动作。 下面是一个使用 softmax 和随机选择函数的例子："
   ]
  },
  {
   "cell_type": "code",
   "execution_count": 21,
   "metadata": {},
   "outputs": [
    {
     "data": {
      "text/plain": [
       "array([0, 1, 2, 3, 4, 5, 6, 7, 8, 9])"
      ]
     },
     "execution_count": 21,
     "metadata": {},
     "output_type": "execute_result"
    },
    {
     "name": "stdout",
     "output_type": "stream",
     "text": [
      "time: 2.89 ms (started: 2021-09-12 01:35:51 +08:00)\n"
     ]
    }
   ],
   "source": [
    "x = np.arange(10)\n",
    "x"
   ]
  },
  {
   "cell_type": "code",
   "execution_count": 22,
   "metadata": {},
   "outputs": [
    {
     "data": {
      "text/plain": [
       "array([0., 0., 0., 0., 0., 0., 0., 0., 0., 0.])"
      ]
     },
     "execution_count": 22,
     "metadata": {},
     "output_type": "execute_result"
    },
    {
     "name": "stdout",
     "output_type": "stream",
     "text": [
      "time: 5.31 ms (started: 2021-09-12 01:36:00 +08:00)\n"
     ]
    }
   ],
   "source": [
    "av = np.zeros(10)\n",
    "av"
   ]
  },
  {
   "cell_type": "code",
   "execution_count": 23,
   "metadata": {},
   "outputs": [
    {
     "data": {
      "text/plain": [
       "array([0.1, 0.1, 0.1, 0.1, 0.1, 0.1, 0.1, 0.1, 0.1, 0.1])"
      ]
     },
     "execution_count": 23,
     "metadata": {},
     "output_type": "execute_result"
    },
    {
     "name": "stdout",
     "output_type": "stream",
     "text": [
      "time: 4.96 ms (started: 2021-09-12 01:36:11 +08:00)\n"
     ]
    }
   ],
   "source": [
    "p = softmax(av)\n",
    "p"
   ]
  },
  {
   "cell_type": "code",
   "execution_count": 26,
   "metadata": {},
   "outputs": [
    {
     "data": {
      "text/plain": [
       "3"
      ]
     },
     "execution_count": 26,
     "metadata": {},
     "output_type": "execute_result"
    },
    {
     "name": "stdout",
     "output_type": "stream",
     "text": [
      "time: 4.03 ms (started: 2021-09-12 01:37:46 +08:00)\n"
     ]
    }
   ],
   "source": [
    "np.random.choice(x,p=p)"
   ]
  },
  {
   "cell_type": "markdown",
   "metadata": {},
   "source": [
    "我们使用 numpy arange 函数创建了一个从 0 到 9 的数组，对应于每个手臂的索引，因此随机选择函数将根据提供的概率向量返回一个手臂索引。 我们可以使用与之前相同的训练循环； 我们只需要更改手臂选择部分，使其使用 softmax 而不是 get_best_arm，并且我们需要摆脱作为 epsilon-greedy 策略一部分的随机动作选择。"
   ]
  },
  {
   "cell_type": "markdown",
   "metadata": {},
   "source": [
    "> 清单 2.8 用于 n 臂老虎机的 Softmax 动作选择"
   ]
  },
  {
   "cell_type": "code",
   "execution_count": 27,
   "metadata": {},
   "outputs": [
    {
     "data": {
      "text/plain": [
       "<matplotlib.collections.PathCollection at 0x7f6a78ed5d00>"
      ]
     },
     "execution_count": 27,
     "metadata": {},
     "output_type": "execute_result"
    },
    {
     "data": {
      "image/svg+xml": [
       "<?xml version=\"1.0\" encoding=\"utf-8\" standalone=\"no\"?>\n",
       "<!DOCTYPE svg PUBLIC \"-//W3C//DTD SVG 1.1//EN\"\n",
       "  \"http://www.w3.org/Graphics/SVG/1.1/DTD/svg11.dtd\">\n",
       "<!-- Created with matplotlib (https://matplotlib.org/) -->\n",
       "<svg height=\"262.19625pt\" version=\"1.1\" viewBox=\"0 0 376.240625 262.19625\" width=\"376.240625pt\" xmlns=\"http://www.w3.org/2000/svg\" xmlns:xlink=\"http://www.w3.org/1999/xlink\">\n",
       " <metadata>\n",
       "  <rdf:RDF xmlns:cc=\"http://creativecommons.org/ns#\" xmlns:dc=\"http://purl.org/dc/elements/1.1/\" xmlns:rdf=\"http://www.w3.org/1999/02/22-rdf-syntax-ns#\">\n",
       "   <cc:Work>\n",
       "    <dc:type rdf:resource=\"http://purl.org/dc/dcmitype/StillImage\"/>\n",
       "    <dc:date>2021-09-12T01:40:55.485032</dc:date>\n",
       "    <dc:format>image/svg+xml</dc:format>\n",
       "    <dc:creator>\n",
       "     <cc:Agent>\n",
       "      <dc:title>Matplotlib v3.3.3, https://matplotlib.org/</dc:title>\n",
       "     </cc:Agent>\n",
       "    </dc:creator>\n",
       "   </cc:Work>\n",
       "  </rdf:RDF>\n",
       " </metadata>\n",
       " <defs>\n",
       "  <style type=\"text/css\">*{stroke-linecap:butt;stroke-linejoin:round;}</style>\n",
       " </defs>\n",
       " <g id=\"figure_1\">\n",
       "  <g id=\"patch_1\">\n",
       "   <path d=\"M 0 262.19625 \n",
       "L 376.240625 262.19625 \n",
       "L 376.240625 0 \n",
       "L 0 0 \n",
       "z\n",
       "\" style=\"fill:none;\"/>\n",
       "  </g>\n",
       "  <g id=\"axes_1\">\n",
       "   <g id=\"patch_2\">\n",
       "    <path d=\"M 34.240625 224.64 \n",
       "L 369.040625 224.64 \n",
       "L 369.040625 7.2 \n",
       "L 34.240625 7.2 \n",
       "z\n",
       "\" style=\"fill:#ffffff;\"/>\n",
       "   </g>\n",
       "   <g id=\"PathCollection_1\">\n",
       "    <defs>\n",
       "     <path d=\"M 0 3 \n",
       "C 0.795609 3 1.55874 2.683901 2.12132 2.12132 \n",
       "C 2.683901 1.55874 3 0.795609 3 0 \n",
       "C 3 -0.795609 2.683901 -1.55874 2.12132 -2.12132 \n",
       "C 1.55874 -2.683901 0.795609 -3 0 -3 \n",
       "C -0.795609 -3 -1.55874 -2.683901 -2.12132 -2.12132 \n",
       "C -2.683901 -1.55874 -3 -0.795609 -3 0 \n",
       "C -3 0.795609 -2.683901 1.55874 -2.12132 2.12132 \n",
       "C -1.55874 2.683901 -0.795609 3 0 3 \n",
       "z\n",
       "\" id=\"m092c3d0ad3\" style=\"stroke:#1f77b4;\"/>\n",
       "    </defs>\n",
       "    <g clip-path=\"url(#p76b6180c57)\">\n",
       "     <use style=\"fill:#1f77b4;stroke:#1f77b4;\" x=\"49.458807\" xlink:href=\"#m092c3d0ad3\" y=\"214.756364\"/>\n",
       "     <use style=\"fill:#1f77b4;stroke:#1f77b4;\" x=\"50.067534\" xlink:href=\"#m092c3d0ad3\" y=\"99.746777\"/>\n",
       "     <use style=\"fill:#1f77b4;stroke:#1f77b4;\" x=\"50.676261\" xlink:href=\"#m092c3d0ad3\" y=\"61.410248\"/>\n",
       "     <use style=\"fill:#1f77b4;stroke:#1f77b4;\" x=\"51.284989\" xlink:href=\"#m092c3d0ad3\" y=\"42.241983\"/>\n",
       "     <use style=\"fill:#1f77b4;stroke:#1f77b4;\" x=\"51.893716\" xlink:href=\"#m092c3d0ad3\" y=\"42.241983\"/>\n",
       "     <use style=\"fill:#1f77b4;stroke:#1f77b4;\" x=\"52.502443\" xlink:href=\"#m092c3d0ad3\" y=\"37.449917\"/>\n",
       "     <use style=\"fill:#1f77b4;stroke:#1f77b4;\" x=\"53.11117\" xlink:href=\"#m092c3d0ad3\" y=\"25.812043\"/>\n",
       "     <use style=\"fill:#1f77b4;stroke:#1f77b4;\" x=\"53.719898\" xlink:href=\"#m092c3d0ad3\" y=\"17.083636\"/>\n",
       "     <use style=\"fill:#1f77b4;stroke:#1f77b4;\" x=\"54.328625\" xlink:href=\"#m092c3d0ad3\" y=\"19.879008\"/>\n",
       "     <use style=\"fill:#1f77b4;stroke:#1f77b4;\" x=\"54.937352\" xlink:href=\"#m092c3d0ad3\" y=\"27.865785\"/>\n",
       "     <use style=\"fill:#1f77b4;stroke:#1f77b4;\" x=\"55.54608\" xlink:href=\"#m092c3d0ad3\" y=\"31.786566\"/>\n",
       "     <use style=\"fill:#1f77b4;stroke:#1f77b4;\" x=\"56.154807\" xlink:href=\"#m092c3d0ad3\" y=\"27.865785\"/>\n",
       "     <use style=\"fill:#1f77b4;stroke:#1f77b4;\" x=\"56.763534\" xlink:href=\"#m092c3d0ad3\" y=\"31.183369\"/>\n",
       "     <use style=\"fill:#1f77b4;stroke:#1f77b4;\" x=\"57.372261\" xlink:href=\"#m092c3d0ad3\" y=\"36.080756\"/>\n",
       "     <use style=\"fill:#1f77b4;stroke:#1f77b4;\" x=\"57.980989\" xlink:href=\"#m092c3d0ad3\" y=\"32.657851\"/>\n",
       "     <use style=\"fill:#1f77b4;stroke:#1f77b4;\" x=\"58.589716\" xlink:href=\"#m092c3d0ad3\" y=\"35.053884\"/>\n",
       "     <use style=\"fill:#1f77b4;stroke:#1f77b4;\" x=\"59.198443\" xlink:href=\"#m092c3d0ad3\" y=\"35.476714\"/>\n",
       "     <use style=\"fill:#1f77b4;stroke:#1f77b4;\" x=\"59.80717\" xlink:href=\"#m092c3d0ad3\" y=\"31.060496\"/>\n",
       "     <use style=\"fill:#1f77b4;stroke:#1f77b4;\" x=\"60.415898\" xlink:href=\"#m092c3d0ad3\" y=\"34.675563\"/>\n",
       "     <use style=\"fill:#1f77b4;stroke:#1f77b4;\" x=\"61.024625\" xlink:href=\"#m092c3d0ad3\" y=\"30.741025\"/>\n",
       "     <use style=\"fill:#1f77b4;stroke:#1f77b4;\" x=\"61.633352\" xlink:href=\"#m092c3d0ad3\" y=\"32.657851\"/>\n",
       "     <use style=\"fill:#1f77b4;stroke:#1f77b4;\" x=\"62.24208\" xlink:href=\"#m092c3d0ad3\" y=\"35.707348\"/>\n",
       "     <use style=\"fill:#1f77b4;stroke:#1f77b4;\" x=\"62.850807\" xlink:href=\"#m092c3d0ad3\" y=\"34.741358\"/>\n",
       "     <use style=\"fill:#1f77b4;stroke:#1f77b4;\" x=\"63.459534\" xlink:href=\"#m092c3d0ad3\" y=\"35.053884\"/>\n",
       "     <use style=\"fill:#1f77b4;stroke:#1f77b4;\" x=\"64.068261\" xlink:href=\"#m092c3d0ad3\" y=\"33.041217\"/>\n",
       "     <use style=\"fill:#1f77b4;stroke:#1f77b4;\" x=\"64.676989\" xlink:href=\"#m092c3d0ad3\" y=\"36.712676\"/>\n",
       "     <use style=\"fill:#1f77b4;stroke:#1f77b4;\" x=\"65.285716\" xlink:href=\"#m092c3d0ad3\" y=\"36.917466\"/>\n",
       "     <use style=\"fill:#1f77b4;stroke:#1f77b4;\" x=\"65.894443\" xlink:href=\"#m092c3d0ad3\" y=\"35.053884\"/>\n",
       "     <use style=\"fill:#1f77b4;stroke:#1f77b4;\" x=\"66.50317\" xlink:href=\"#m092c3d0ad3\" y=\"34.310288\"/>\n",
       "     <use style=\"fill:#1f77b4;stroke:#1f77b4;\" x=\"67.111898\" xlink:href=\"#m092c3d0ad3\" y=\"33.616264\"/>\n",
       "     <use style=\"fill:#1f77b4;stroke:#1f77b4;\" x=\"67.720625\" xlink:href=\"#m092c3d0ad3\" y=\"32.967017\"/>\n",
       "     <use style=\"fill:#1f77b4;stroke:#1f77b4;\" x=\"68.329352\" xlink:href=\"#m092c3d0ad3\" y=\"33.25686\"/>\n",
       "     <use style=\"fill:#1f77b4;stroke:#1f77b4;\" x=\"68.93808\" xlink:href=\"#m092c3d0ad3\" y=\"33.529136\"/>\n",
       "     <use style=\"fill:#1f77b4;stroke:#1f77b4;\" x=\"69.546807\" xlink:href=\"#m092c3d0ad3\" y=\"32.939737\"/>\n",
       "     <use style=\"fill:#1f77b4;stroke:#1f77b4;\" x=\"70.155534\" xlink:href=\"#m092c3d0ad3\" y=\"31.562522\"/>\n",
       "     <use style=\"fill:#1f77b4;stroke:#1f77b4;\" x=\"70.764261\" xlink:href=\"#m092c3d0ad3\" y=\"31.060496\"/>\n",
       "     <use style=\"fill:#1f77b4;stroke:#1f77b4;\" x=\"71.372989\" xlink:href=\"#m092c3d0ad3\" y=\"30.585606\"/>\n",
       "     <use style=\"fill:#1f77b4;stroke:#1f77b4;\" x=\"71.981716\" xlink:href=\"#m092c3d0ad3\" y=\"30.892353\"/>\n",
       "     <use style=\"fill:#1f77b4;stroke:#1f77b4;\" x=\"72.590443\" xlink:href=\"#m092c3d0ad3\" y=\"28.971647\"/>\n",
       "     <use style=\"fill:#1f77b4;stroke:#1f77b4;\" x=\"73.19917\" xlink:href=\"#m092c3d0ad3\" y=\"29.303405\"/>\n",
       "     <use style=\"fill:#1f77b4;stroke:#1f77b4;\" x=\"73.807898\" xlink:href=\"#m092c3d0ad3\" y=\"27.515146\"/>\n",
       "     <use style=\"fill:#1f77b4;stroke:#1f77b4;\" x=\"74.416625\" xlink:href=\"#m092c3d0ad3\" y=\"28.550366\"/>\n",
       "     <use style=\"fill:#1f77b4;stroke:#1f77b4;\" x=\"75.025352\" xlink:href=\"#m092c3d0ad3\" y=\"28.200115\"/>\n",
       "     <use style=\"fill:#1f77b4;stroke:#1f77b4;\" x=\"75.63408\" xlink:href=\"#m092c3d0ad3\" y=\"29.172712\"/>\n",
       "     <use style=\"fill:#1f77b4;stroke:#1f77b4;\" x=\"76.242807\" xlink:href=\"#m092c3d0ad3\" y=\"30.741025\"/>\n",
       "     <use style=\"fill:#1f77b4;stroke:#1f77b4;\" x=\"76.851534\" xlink:href=\"#m092c3d0ad3\" y=\"31.616098\"/>\n",
       "     <use style=\"fill:#1f77b4;stroke:#1f77b4;\" x=\"77.460261\" xlink:href=\"#m092c3d0ad3\" y=\"32.453934\"/>\n",
       "     <use style=\"fill:#1f77b4;stroke:#1f77b4;\" x=\"78.068989\" xlink:href=\"#m092c3d0ad3\" y=\"32.657851\"/>\n",
       "     <use style=\"fill:#1f77b4;stroke:#1f77b4;\" x=\"78.677716\" xlink:href=\"#m092c3d0ad3\" y=\"31.679879\"/>\n",
       "     <use style=\"fill:#1f77b4;stroke:#1f77b4;\" x=\"79.286443\" xlink:href=\"#m092c3d0ad3\" y=\"30.165977\"/>\n",
       "     <use style=\"fill:#1f77b4;stroke:#1f77b4;\" x=\"79.89517\" xlink:href=\"#m092c3d0ad3\" y=\"28.711444\"/>\n",
       "     <use style=\"fill:#1f77b4;stroke:#1f77b4;\" x=\"80.503898\" xlink:href=\"#m092c3d0ad3\" y=\"27.312854\"/>\n",
       "     <use style=\"fill:#1f77b4;stroke:#1f77b4;\" x=\"81.112625\" xlink:href=\"#m092c3d0ad3\" y=\"28.137034\"/>\n",
       "     <use style=\"fill:#1f77b4;stroke:#1f77b4;\" x=\"81.721352\" xlink:href=\"#m092c3d0ad3\" y=\"28.398237\"/>\n",
       "     <use style=\"fill:#1f77b4;stroke:#1f77b4;\" x=\"82.33008\" xlink:href=\"#m092c3d0ad3\" y=\"28.649941\"/>\n",
       "     <use style=\"fill:#1f77b4;stroke:#1f77b4;\" x=\"82.938807\" xlink:href=\"#m092c3d0ad3\" y=\"29.406092\"/>\n",
       "     <use style=\"fill:#1f77b4;stroke:#1f77b4;\" x=\"83.547534\" xlink:href=\"#m092c3d0ad3\" y=\"28.117999\"/>\n",
       "     <use style=\"fill:#1f77b4;stroke:#1f77b4;\" x=\"84.156261\" xlink:href=\"#m092c3d0ad3\" y=\"28.361516\"/>\n",
       "     <use style=\"fill:#1f77b4;stroke:#1f77b4;\" x=\"84.764989\" xlink:href=\"#m092c3d0ad3\" y=\"28.10945\"/>\n",
       "     <use style=\"fill:#1f77b4;stroke:#1f77b4;\" x=\"85.373716\" xlink:href=\"#m092c3d0ad3\" y=\"28.824198\"/>\n",
       "     <use style=\"fill:#1f77b4;stroke:#1f77b4;\" x=\"85.982443\" xlink:href=\"#m092c3d0ad3\" y=\"29.044162\"/>\n",
       "     <use style=\"fill:#1f77b4;stroke:#1f77b4;\" x=\"86.59117\" xlink:href=\"#m092c3d0ad3\" y=\"28.793282\"/>\n",
       "     <use style=\"fill:#1f77b4;stroke:#1f77b4;\" x=\"87.199898\" xlink:href=\"#m092c3d0ad3\" y=\"29.46314\"/>\n",
       "     <use style=\"fill:#1f77b4;stroke:#1f77b4;\" x=\"87.808625\" xlink:href=\"#m092c3d0ad3\" y=\"29.213554\"/>\n",
       "     <use style=\"fill:#1f77b4;stroke:#1f77b4;\" x=\"88.417352\" xlink:href=\"#m092c3d0ad3\" y=\"29.856336\"/>\n",
       "     <use style=\"fill:#1f77b4;stroke:#1f77b4;\" x=\"89.02608\" xlink:href=\"#m092c3d0ad3\" y=\"30.043997\"/>\n",
       "     <use style=\"fill:#1f77b4;stroke:#1f77b4;\" x=\"89.634807\" xlink:href=\"#m092c3d0ad3\" y=\"28.938636\"/>\n",
       "     <use style=\"fill:#1f77b4;stroke:#1f77b4;\" x=\"90.243534\" xlink:href=\"#m092c3d0ad3\" y=\"27.865785\"/>\n",
       "     <use style=\"fill:#1f77b4;stroke:#1f77b4;\" x=\"90.852261\" xlink:href=\"#m092c3d0ad3\" y=\"27.657434\"/>\n",
       "     <use style=\"fill:#1f77b4;stroke:#1f77b4;\" x=\"91.460989\" xlink:href=\"#m092c3d0ad3\" y=\"28.276534\"/>\n",
       "     <use style=\"fill:#1f77b4;stroke:#1f77b4;\" x=\"92.069716\" xlink:href=\"#m092c3d0ad3\" y=\"28.47323\"/>\n",
       "     <use style=\"fill:#1f77b4;stroke:#1f77b4;\" x=\"92.678443\" xlink:href=\"#m092c3d0ad3\" y=\"29.063802\"/>\n",
       "     <use style=\"fill:#1f77b4;stroke:#1f77b4;\" x=\"93.28717\" xlink:href=\"#m092c3d0ad3\" y=\"29.244325\"/>\n",
       "     <use style=\"fill:#1f77b4;stroke:#1f77b4;\" x=\"93.895898\" xlink:href=\"#m092c3d0ad3\" y=\"29.031423\"/>\n",
       "     <use style=\"fill:#1f77b4;stroke:#1f77b4;\" x=\"94.504625\" xlink:href=\"#m092c3d0ad3\" y=\"28.440833\"/>\n",
       "     <use style=\"fill:#1f77b4;stroke:#1f77b4;\" x=\"95.113352\" xlink:href=\"#m092c3d0ad3\" y=\"29.379069\"/>\n",
       "     <use style=\"fill:#1f77b4;stroke:#1f77b4;\" x=\"95.72208\" xlink:href=\"#m092c3d0ad3\" y=\"29.919528\"/>\n",
       "     <use style=\"fill:#1f77b4;stroke:#1f77b4;\" x=\"96.330807\" xlink:href=\"#m092c3d0ad3\" y=\"30.814749\"/>\n",
       "     <use style=\"fill:#1f77b4;stroke:#1f77b4;\" x=\"96.939534\" xlink:href=\"#m092c3d0ad3\" y=\"30.595443\"/>\n",
       "     <use style=\"fill:#1f77b4;stroke:#1f77b4;\" x=\"97.548261\" xlink:href=\"#m092c3d0ad3\" y=\"31.10043\"/>\n",
       "     <use style=\"fill:#1f77b4;stroke:#1f77b4;\" x=\"98.156989\" xlink:href=\"#m092c3d0ad3\" y=\"30.173076\"/>\n",
       "     <use style=\"fill:#1f77b4;stroke:#1f77b4;\" x=\"98.765716\" xlink:href=\"#m092c3d0ad3\" y=\"29.268341\"/>\n",
       "     <use style=\"fill:#1f77b4;stroke:#1f77b4;\" x=\"99.374443\" xlink:href=\"#m092c3d0ad3\" y=\"29.771064\"/>\n",
       "     <use style=\"fill:#1f77b4;stroke:#1f77b4;\" x=\"99.98317\" xlink:href=\"#m092c3d0ad3\" y=\"30.261818\"/>\n",
       "     <use style=\"fill:#1f77b4;stroke:#1f77b4;\" x=\"100.591898\" xlink:href=\"#m092c3d0ad3\" y=\"29.726234\"/>\n",
       "     <use style=\"fill:#1f77b4;stroke:#1f77b4;\" x=\"101.200625\" xlink:href=\"#m092c3d0ad3\" y=\"30.206096\"/>\n",
       "     <use style=\"fill:#1f77b4;stroke:#1f77b4;\" x=\"101.809352\" xlink:href=\"#m092c3d0ad3\" y=\"29.683465\"/>\n",
       "     <use style=\"fill:#1f77b4;stroke:#1f77b4;\" x=\"102.41808\" xlink:href=\"#m092c3d0ad3\" y=\"31.133103\"/>\n",
       "     <use style=\"fill:#1f77b4;stroke:#1f77b4;\" x=\"103.026807\" xlink:href=\"#m092c3d0ad3\" y=\"31.257922\"/>\n",
       "     <use style=\"fill:#1f77b4;stroke:#1f77b4;\" x=\"103.635534\" xlink:href=\"#m092c3d0ad3\" y=\"32.33838\"/>\n",
       "     <use style=\"fill:#1f77b4;stroke:#1f77b4;\" x=\"104.244261\" xlink:href=\"#m092c3d0ad3\" y=\"32.763171\"/>\n",
       "     <use style=\"fill:#1f77b4;stroke:#1f77b4;\" x=\"104.852989\" xlink:href=\"#m092c3d0ad3\" y=\"32.866202\"/>\n",
       "     <use style=\"fill:#1f77b4;stroke:#1f77b4;\" x=\"105.461716\" xlink:href=\"#m092c3d0ad3\" y=\"33.276182\"/>\n",
       "     <use style=\"fill:#1f77b4;stroke:#1f77b4;\" x=\"106.070443\" xlink:href=\"#m092c3d0ad3\" y=\"33.67744\"/>\n",
       "     <use style=\"fill:#1f77b4;stroke:#1f77b4;\" x=\"106.67917\" xlink:href=\"#m092c3d0ad3\" y=\"32.859622\"/>\n",
       "     <use style=\"fill:#1f77b4;stroke:#1f77b4;\" x=\"107.287898\" xlink:href=\"#m092c3d0ad3\" y=\"33.25686\"/>\n",
       "     <use style=\"fill:#1f77b4;stroke:#1f77b4;\" x=\"107.896625\" xlink:href=\"#m092c3d0ad3\" y=\"34.535155\"/>\n",
       "     <use style=\"fill:#1f77b4;stroke:#1f77b4;\" x=\"108.505352\" xlink:href=\"#m092c3d0ad3\" y=\"34.613797\"/>\n",
       "     <use style=\"fill:#1f77b4;stroke:#1f77b4;\" x=\"109.11408\" xlink:href=\"#m092c3d0ad3\" y=\"33.819564\"/>\n",
       "     <use style=\"fill:#1f77b4;stroke:#1f77b4;\" x=\"109.722807\" xlink:href=\"#m092c3d0ad3\" y=\"35.341408\"/>\n",
       "     <use style=\"fill:#1f77b4;stroke:#1f77b4;\" x=\"110.331534\" xlink:href=\"#m092c3d0ad3\" y=\"34.840376\"/>\n",
       "     <use style=\"fill:#1f77b4;stroke:#1f77b4;\" x=\"110.940261\" xlink:href=\"#m092c3d0ad3\" y=\"35.476714\"/>\n",
       "     <use style=\"fill:#1f77b4;stroke:#1f77b4;\" x=\"111.548989\" xlink:href=\"#m092c3d0ad3\" y=\"35.263246\"/>\n",
       "     <use style=\"fill:#1f77b4;stroke:#1f77b4;\" x=\"112.157716\" xlink:href=\"#m092c3d0ad3\" y=\"34.500954\"/>\n",
       "     <use style=\"fill:#1f77b4;stroke:#1f77b4;\" x=\"112.766443\" xlink:href=\"#m092c3d0ad3\" y=\"34.300845\"/>\n",
       "     <use style=\"fill:#1f77b4;stroke:#1f77b4;\" x=\"113.37517\" xlink:href=\"#m092c3d0ad3\" y=\"34.375762\"/>\n",
       "     <use style=\"fill:#1f77b4;stroke:#1f77b4;\" x=\"113.983898\" xlink:href=\"#m092c3d0ad3\" y=\"34.717992\"/>\n",
       "     <use style=\"fill:#1f77b4;stroke:#1f77b4;\" x=\"114.592625\" xlink:href=\"#m092c3d0ad3\" y=\"35.053884\"/>\n",
       "     <use style=\"fill:#1f77b4;stroke:#1f77b4;\" x=\"115.201352\" xlink:href=\"#m092c3d0ad3\" y=\"34.856047\"/>\n",
       "     <use style=\"fill:#1f77b4;stroke:#1f77b4;\" x=\"115.81008\" xlink:href=\"#m092c3d0ad3\" y=\"34.923192\"/>\n",
       "     <use style=\"fill:#1f77b4;stroke:#1f77b4;\" x=\"116.418807\" xlink:href=\"#m092c3d0ad3\" y=\"34.989127\"/>\n",
       "     <use style=\"fill:#1f77b4;stroke:#1f77b4;\" x=\"117.027534\" xlink:href=\"#m092c3d0ad3\" y=\"35.053884\"/>\n",
       "     <use style=\"fill:#1f77b4;stroke:#1f77b4;\" x=\"117.636261\" xlink:href=\"#m092c3d0ad3\" y=\"34.86305\"/>\n",
       "     <use style=\"fill:#1f77b4;stroke:#1f77b4;\" x=\"118.244989\" xlink:href=\"#m092c3d0ad3\" y=\"34.423349\"/>\n",
       "     <use style=\"fill:#1f77b4;stroke:#1f77b4;\" x=\"118.853716\" xlink:href=\"#m092c3d0ad3\" y=\"34.241317\"/>\n",
       "     <use style=\"fill:#1f77b4;stroke:#1f77b4;\" x=\"119.462443\" xlink:href=\"#m092c3d0ad3\" y=\"33.814557\"/>\n",
       "     <use style=\"fill:#1f77b4;stroke:#1f77b4;\" x=\"120.07117\" xlink:href=\"#m092c3d0ad3\" y=\"33.640839\"/>\n",
       "     <use style=\"fill:#1f77b4;stroke:#1f77b4;\" x=\"120.679898\" xlink:href=\"#m092c3d0ad3\" y=\"33.71373\"/>\n",
       "     <use style=\"fill:#1f77b4;stroke:#1f77b4;\" x=\"121.288625\" xlink:href=\"#m092c3d0ad3\" y=\"33.543779\"/>\n",
       "     <use style=\"fill:#1f77b4;stroke:#1f77b4;\" x=\"121.897352\" xlink:href=\"#m092c3d0ad3\" y=\"32.657851\"/>\n",
       "     <use style=\"fill:#1f77b4;stroke:#1f77b4;\" x=\"122.50608\" xlink:href=\"#m092c3d0ad3\" y=\"32.499436\"/>\n",
       "     <use style=\"fill:#1f77b4;stroke:#1f77b4;\" x=\"123.114807\" xlink:href=\"#m092c3d0ad3\" y=\"32.343617\"/>\n",
       "     <use style=\"fill:#1f77b4;stroke:#1f77b4;\" x=\"123.723534\" xlink:href=\"#m092c3d0ad3\" y=\"32.190333\"/>\n",
       "     <use style=\"fill:#1f77b4;stroke:#1f77b4;\" x=\"124.332261\" xlink:href=\"#m092c3d0ad3\" y=\"32.503268\"/>\n",
       "     <use style=\"fill:#1f77b4;stroke:#1f77b4;\" x=\"124.940989\" xlink:href=\"#m092c3d0ad3\" y=\"32.581178\"/>\n",
       "     <use style=\"fill:#1f77b4;stroke:#1f77b4;\" x=\"125.549716\" xlink:href=\"#m092c3d0ad3\" y=\"32.886045\"/>\n",
       "     <use style=\"fill:#1f77b4;stroke:#1f77b4;\" x=\"126.158443\" xlink:href=\"#m092c3d0ad3\" y=\"33.18611\"/>\n",
       "     <use style=\"fill:#1f77b4;stroke:#1f77b4;\" x=\"126.76717\" xlink:href=\"#m092c3d0ad3\" y=\"33.25686\"/>\n",
       "     <use style=\"fill:#1f77b4;stroke:#1f77b4;\" x=\"127.375898\" xlink:href=\"#m092c3d0ad3\" y=\"32.657851\"/>\n",
       "     <use style=\"fill:#1f77b4;stroke:#1f77b4;\" x=\"127.984625\" xlink:href=\"#m092c3d0ad3\" y=\"32.731575\"/>\n",
       "     <use style=\"fill:#1f77b4;stroke:#1f77b4;\" x=\"128.593352\" xlink:href=\"#m092c3d0ad3\" y=\"32.804174\"/>\n",
       "     <use style=\"fill:#1f77b4;stroke:#1f77b4;\" x=\"129.20208\" xlink:href=\"#m092c3d0ad3\" y=\"32.44003\"/>\n",
       "     <use style=\"fill:#1f77b4;stroke:#1f77b4;\" x=\"129.810807\" xlink:href=\"#m092c3d0ad3\" y=\"32.297546\"/>\n",
       "     <use style=\"fill:#1f77b4;stroke:#1f77b4;\" x=\"130.419534\" xlink:href=\"#m092c3d0ad3\" y=\"32.800898\"/>\n",
       "     <use style=\"fill:#1f77b4;stroke:#1f77b4;\" x=\"131.028261\" xlink:href=\"#m092c3d0ad3\" y=\"33.296793\"/>\n",
       "     <use style=\"fill:#1f77b4;stroke:#1f77b4;\" x=\"131.636989\" xlink:href=\"#m092c3d0ad3\" y=\"33.151152\"/>\n",
       "     <use style=\"fill:#1f77b4;stroke:#1f77b4;\" x=\"132.245716\" xlink:href=\"#m092c3d0ad3\" y=\"32.797766\"/>\n",
       "     <use style=\"fill:#1f77b4;stroke:#1f77b4;\" x=\"132.854443\" xlink:href=\"#m092c3d0ad3\" y=\"32.449501\"/>\n",
       "     <use style=\"fill:#1f77b4;stroke:#1f77b4;\" x=\"133.46317\" xlink:href=\"#m092c3d0ad3\" y=\"32.933654\"/>\n",
       "     <use style=\"fill:#1f77b4;stroke:#1f77b4;\" x=\"134.071898\" xlink:href=\"#m092c3d0ad3\" y=\"32.794767\"/>\n",
       "     <use style=\"fill:#1f77b4;stroke:#1f77b4;\" x=\"134.680625\" xlink:href=\"#m092c3d0ad3\" y=\"33.065687\"/>\n",
       "     <use style=\"fill:#1f77b4;stroke:#1f77b4;\" x=\"135.289352\" xlink:href=\"#m092c3d0ad3\" y=\"33.130308\"/>\n",
       "     <use style=\"fill:#1f77b4;stroke:#1f77b4;\" x=\"135.89808\" xlink:href=\"#m092c3d0ad3\" y=\"32.992961\"/>\n",
       "     <use style=\"fill:#1f77b4;stroke:#1f77b4;\" x=\"136.506807\" xlink:href=\"#m092c3d0ad3\" y=\"33.25686\"/>\n",
       "     <use style=\"fill:#1f77b4;stroke:#1f77b4;\" x=\"137.115534\" xlink:href=\"#m092c3d0ad3\" y=\"32.922241\"/>\n",
       "     <use style=\"fill:#1f77b4;stroke:#1f77b4;\" x=\"137.724261\" xlink:href=\"#m092c3d0ad3\" y=\"32.592206\"/>\n",
       "     <use style=\"fill:#1f77b4;stroke:#1f77b4;\" x=\"138.332989\" xlink:href=\"#m092c3d0ad3\" y=\"32.853446\"/>\n",
       "     <use style=\"fill:#1f77b4;stroke:#1f77b4;\" x=\"138.941716\" xlink:href=\"#m092c3d0ad3\" y=\"32.722609\"/>\n",
       "     <use style=\"fill:#1f77b4;stroke:#1f77b4;\" x=\"139.550443\" xlink:href=\"#m092c3d0ad3\" y=\"32.979466\"/>\n",
       "     <use style=\"fill:#1f77b4;stroke:#1f77b4;\" x=\"140.15917\" xlink:href=\"#m092c3d0ad3\" y=\"32.849534\"/>\n",
       "     <use style=\"fill:#1f77b4;stroke:#1f77b4;\" x=\"140.767898\" xlink:href=\"#m092c3d0ad3\" y=\"32.911736\"/>\n",
       "     <use style=\"fill:#1f77b4;stroke:#1f77b4;\" x=\"141.376625\" xlink:href=\"#m092c3d0ad3\" y=\"32.783958\"/>\n",
       "     <use style=\"fill:#1f77b4;stroke:#1f77b4;\" x=\"141.985352\" xlink:href=\"#m092c3d0ad3\" y=\"32.845775\"/>\n",
       "     <use style=\"fill:#1f77b4;stroke:#1f77b4;\" x=\"142.59408\" xlink:href=\"#m092c3d0ad3\" y=\"32.90679\"/>\n",
       "     <use style=\"fill:#1f77b4;stroke:#1f77b4;\" x=\"143.202807\" xlink:href=\"#m092c3d0ad3\" y=\"32.967017\"/>\n",
       "     <use style=\"fill:#1f77b4;stroke:#1f77b4;\" x=\"143.811534\" xlink:href=\"#m092c3d0ad3\" y=\"33.026472\"/>\n",
       "     <use style=\"fill:#1f77b4;stroke:#1f77b4;\" x=\"144.420261\" xlink:href=\"#m092c3d0ad3\" y=\"33.268306\"/>\n",
       "     <use style=\"fill:#1f77b4;stroke:#1f77b4;\" x=\"145.028989\" xlink:href=\"#m092c3d0ad3\" y=\"32.961147\"/>\n",
       "     <use style=\"fill:#1f77b4;stroke:#1f77b4;\" x=\"145.637716\" xlink:href=\"#m092c3d0ad3\" y=\"33.200349\"/>\n",
       "     <use style=\"fill:#1f77b4;stroke:#1f77b4;\" x=\"146.246443\" xlink:href=\"#m092c3d0ad3\" y=\"33.436562\"/>\n",
       "     <use style=\"fill:#1f77b4;stroke:#1f77b4;\" x=\"146.85517\" xlink:href=\"#m092c3d0ad3\" y=\"34.027013\"/>\n",
       "     <use style=\"fill:#1f77b4;stroke:#1f77b4;\" x=\"147.463898\" xlink:href=\"#m092c3d0ad3\" y=\"33.900239\"/>\n",
       "     <use style=\"fill:#1f77b4;stroke:#1f77b4;\" x=\"148.072625\" xlink:href=\"#m092c3d0ad3\" y=\"34.12781\"/>\n",
       "     <use style=\"fill:#1f77b4;stroke:#1f77b4;\" x=\"148.681352\" xlink:href=\"#m092c3d0ad3\" y=\"34.001967\"/>\n",
       "     <use style=\"fill:#1f77b4;stroke:#1f77b4;\" x=\"149.29008\" xlink:href=\"#m092c3d0ad3\" y=\"34.226164\"/>\n",
       "     <use style=\"fill:#1f77b4;stroke:#1f77b4;\" x=\"149.898807\" xlink:href=\"#m092c3d0ad3\" y=\"34.101245\"/>\n",
       "     <use style=\"fill:#1f77b4;stroke:#1f77b4;\" x=\"150.507534\" xlink:href=\"#m092c3d0ad3\" y=\"33.977822\"/>\n",
       "     <use style=\"fill:#1f77b4;stroke:#1f77b4;\" x=\"151.116261\" xlink:href=\"#m092c3d0ad3\" y=\"34.027013\"/>\n",
       "     <use style=\"fill:#1f77b4;stroke:#1f77b4;\" x=\"151.724989\" xlink:href=\"#m092c3d0ad3\" y=\"34.245755\"/>\n",
       "     <use style=\"fill:#1f77b4;stroke:#1f77b4;\" x=\"152.333716\" xlink:href=\"#m092c3d0ad3\" y=\"33.616264\"/>\n",
       "     <use style=\"fill:#1f77b4;stroke:#1f77b4;\" x=\"152.942443\" xlink:href=\"#m092c3d0ad3\" y=\"33.330422\"/>\n",
       "     <use style=\"fill:#1f77b4;stroke:#1f77b4;\" x=\"153.55117\" xlink:href=\"#m092c3d0ad3\" y=\"33.215068\"/>\n",
       "     <use style=\"fill:#1f77b4;stroke:#1f77b4;\" x=\"154.159898\" xlink:href=\"#m092c3d0ad3\" y=\"33.599645\"/>\n",
       "     <use style=\"fill:#1f77b4;stroke:#1f77b4;\" x=\"154.768625\" xlink:href=\"#m092c3d0ad3\" y=\"33.649313\"/>\n",
       "     <use style=\"fill:#1f77b4;stroke:#1f77b4;\" x=\"155.377352\" xlink:href=\"#m092c3d0ad3\" y=\"33.534115\"/>\n",
       "     <use style=\"fill:#1f77b4;stroke:#1f77b4;\" x=\"155.98608\" xlink:href=\"#m092c3d0ad3\" y=\"33.583591\"/>\n",
       "     <use style=\"fill:#1f77b4;stroke:#1f77b4;\" x=\"156.594807\" xlink:href=\"#m092c3d0ad3\" y=\"33.957395\"/>\n",
       "     <use style=\"fill:#1f77b4;stroke:#1f77b4;\" x=\"157.203534\" xlink:href=\"#m092c3d0ad3\" y=\"33.519346\"/>\n",
       "     <use style=\"fill:#1f77b4;stroke:#1f77b4;\" x=\"157.812261\" xlink:href=\"#m092c3d0ad3\" y=\"34.210588\"/>\n",
       "     <use style=\"fill:#1f77b4;stroke:#1f77b4;\" x=\"158.420989\" xlink:href=\"#m092c3d0ad3\" y=\"34.574678\"/>\n",
       "     <use style=\"fill:#1f77b4;stroke:#1f77b4;\" x=\"159.029716\" xlink:href=\"#m092c3d0ad3\" y=\"33.981626\"/>\n",
       "     <use style=\"fill:#1f77b4;stroke:#1f77b4;\" x=\"159.638443\" xlink:href=\"#m092c3d0ad3\" y=\"34.342973\"/>\n",
       "     <use style=\"fill:#1f77b4;stroke:#1f77b4;\" x=\"160.24717\" xlink:href=\"#m092c3d0ad3\" y=\"33.914787\"/>\n",
       "     <use style=\"fill:#1f77b4;stroke:#1f77b4;\" x=\"160.855898\" xlink:href=\"#m092c3d0ad3\" y=\"33.647517\"/>\n",
       "     <use style=\"fill:#1f77b4;stroke:#1f77b4;\" x=\"161.464625\" xlink:href=\"#m092c3d0ad3\" y=\"33.538555\"/>\n",
       "     <use style=\"fill:#1f77b4;stroke:#1f77b4;\" x=\"162.073352\" xlink:href=\"#m092c3d0ad3\" y=\"34.049096\"/>\n",
       "     <use style=\"fill:#1f77b4;stroke:#1f77b4;\" x=\"162.68208\" xlink:href=\"#m092c3d0ad3\" y=\"34.092908\"/>\n",
       "     <use style=\"fill:#1f77b4;stroke:#1f77b4;\" x=\"163.290807\" xlink:href=\"#m092c3d0ad3\" y=\"34.289193\"/>\n",
       "     <use style=\"fill:#1f77b4;stroke:#1f77b4;\" x=\"163.899534\" xlink:href=\"#m092c3d0ad3\" y=\"34.4834\"/>\n",
       "     <use style=\"fill:#1f77b4;stroke:#1f77b4;\" x=\"164.508261\" xlink:href=\"#m092c3d0ad3\" y=\"34.97822\"/>\n",
       "     <use style=\"fill:#1f77b4;stroke:#1f77b4;\" x=\"165.116989\" xlink:href=\"#m092c3d0ad3\" y=\"35.166786\"/>\n",
       "     <use style=\"fill:#1f77b4;stroke:#1f77b4;\" x=\"165.725716\" xlink:href=\"#m092c3d0ad3\" y=\"35.50314\"/>\n",
       "     <use style=\"fill:#1f77b4;stroke:#1f77b4;\" x=\"166.334443\" xlink:href=\"#m092c3d0ad3\" y=\"35.389081\"/>\n",
       "     <use style=\"fill:#1f77b4;stroke:#1f77b4;\" x=\"166.94317\" xlink:href=\"#m092c3d0ad3\" y=\"35.276197\"/>\n",
       "     <use style=\"fill:#1f77b4;stroke:#1f77b4;\" x=\"167.551898\" xlink:href=\"#m092c3d0ad3\" y=\"35.311919\"/>\n",
       "     <use style=\"fill:#1f77b4;stroke:#1f77b4;\" x=\"168.160625\" xlink:href=\"#m092c3d0ad3\" y=\"35.053884\"/>\n",
       "     <use style=\"fill:#1f77b4;stroke:#1f77b4;\" x=\"168.769352\" xlink:href=\"#m092c3d0ad3\" y=\"34.79847\"/>\n",
       "     <use style=\"fill:#1f77b4;stroke:#1f77b4;\" x=\"169.37808\" xlink:href=\"#m092c3d0ad3\" y=\"35.41692\"/>\n",
       "     <use style=\"fill:#1f77b4;stroke:#1f77b4;\" x=\"169.986807\" xlink:href=\"#m092c3d0ad3\" y=\"35.595701\"/>\n",
       "     <use style=\"fill:#1f77b4;stroke:#1f77b4;\" x=\"170.595534\" xlink:href=\"#m092c3d0ad3\" y=\"35.341408\"/>\n",
       "     <use style=\"fill:#1f77b4;stroke:#1f77b4;\" x=\"171.204261\" xlink:href=\"#m092c3d0ad3\" y=\"35.375739\"/>\n",
       "     <use style=\"fill:#1f77b4;stroke:#1f77b4;\" x=\"171.812989\" xlink:href=\"#m092c3d0ad3\" y=\"35.409731\"/>\n",
       "     <use style=\"fill:#1f77b4;stroke:#1f77b4;\" x=\"172.421716\" xlink:href=\"#m092c3d0ad3\" y=\"35.160112\"/>\n",
       "     <use style=\"fill:#1f77b4;stroke:#1f77b4;\" x=\"173.030443\" xlink:href=\"#m092c3d0ad3\" y=\"35.053884\"/>\n",
       "     <use style=\"fill:#1f77b4;stroke:#1f77b4;\" x=\"173.63917\" xlink:href=\"#m092c3d0ad3\" y=\"35.369459\"/>\n",
       "     <use style=\"fill:#1f77b4;stroke:#1f77b4;\" x=\"174.247898\" xlink:href=\"#m092c3d0ad3\" y=\"35.402821\"/>\n",
       "     <use style=\"fill:#1f77b4;stroke:#1f77b4;\" x=\"174.856625\" xlink:href=\"#m092c3d0ad3\" y=\"35.435861\"/>\n",
       "     <use style=\"fill:#1f77b4;stroke:#1f77b4;\" x=\"175.465352\" xlink:href=\"#m092c3d0ad3\" y=\"35.468582\"/>\n",
       "     <use style=\"fill:#1f77b4;stroke:#1f77b4;\" x=\"176.07408\" xlink:href=\"#m092c3d0ad3\" y=\"35.638562\"/>\n",
       "     <use style=\"fill:#1f77b4;stroke:#1f77b4;\" x=\"176.682807\" xlink:href=\"#m092c3d0ad3\" y=\"36.080756\"/>\n",
       "     <use style=\"fill:#1f77b4;stroke:#1f77b4;\" x=\"177.291534\" xlink:href=\"#m092c3d0ad3\" y=\"36.246223\"/>\n",
       "     <use style=\"fill:#1f77b4;stroke:#1f77b4;\" x=\"177.900261\" xlink:href=\"#m092c3d0ad3\" y=\"36.410129\"/>\n",
       "     <use style=\"fill:#1f77b4;stroke:#1f77b4;\" x=\"178.508989\" xlink:href=\"#m092c3d0ad3\" y=\"36.572497\"/>\n",
       "     <use style=\"fill:#1f77b4;stroke:#1f77b4;\" x=\"179.117716\" xlink:href=\"#m092c3d0ad3\" y=\"37.136418\"/>\n",
       "     <use style=\"fill:#1f77b4;stroke:#1f77b4;\" x=\"179.726443\" xlink:href=\"#m092c3d0ad3\" y=\"37.160165\"/>\n",
       "     <use style=\"fill:#1f77b4;stroke:#1f77b4;\" x=\"180.33517\" xlink:href=\"#m092c3d0ad3\" y=\"37.050579\"/>\n",
       "     <use style=\"fill:#1f77b4;stroke:#1f77b4;\" x=\"180.943898\" xlink:href=\"#m092c3d0ad3\" y=\"37.074502\"/>\n",
       "     <use style=\"fill:#1f77b4;stroke:#1f77b4;\" x=\"181.552625\" xlink:href=\"#m092c3d0ad3\" y=\"37.098206\"/>\n",
       "     <use style=\"fill:#1f77b4;stroke:#1f77b4;\" x=\"182.161352\" xlink:href=\"#m092c3d0ad3\" y=\"37.384273\"/>\n",
       "     <use style=\"fill:#1f77b4;stroke:#1f77b4;\" x=\"182.77008\" xlink:href=\"#m092c3d0ad3\" y=\"37.144968\"/>\n",
       "     <use style=\"fill:#1f77b4;stroke:#1f77b4;\" x=\"183.378807\" xlink:href=\"#m092c3d0ad3\" y=\"37.298132\"/>\n",
       "     <use style=\"fill:#1f77b4;stroke:#1f77b4;\" x=\"183.987534\" xlink:href=\"#m092c3d0ad3\" y=\"37.190887\"/>\n",
       "     <use style=\"fill:#1f77b4;stroke:#1f77b4;\" x=\"184.596261\" xlink:href=\"#m092c3d0ad3\" y=\"36.955668\"/>\n",
       "     <use style=\"fill:#1f77b4;stroke:#1f77b4;\" x=\"185.204989\" xlink:href=\"#m092c3d0ad3\" y=\"36.979268\"/>\n",
       "     <use style=\"fill:#1f77b4;stroke:#1f77b4;\" x=\"185.813716\" xlink:href=\"#m092c3d0ad3\" y=\"37.258235\"/>\n",
       "     <use style=\"fill:#1f77b4;stroke:#1f77b4;\" x=\"186.422443\" xlink:href=\"#m092c3d0ad3\" y=\"37.280287\"/>\n",
       "     <use style=\"fill:#1f77b4;stroke:#1f77b4;\" x=\"187.03117\" xlink:href=\"#m092c3d0ad3\" y=\"37.302144\"/>\n",
       "     <use style=\"fill:#1f77b4;stroke:#1f77b4;\" x=\"187.639898\" xlink:href=\"#m092c3d0ad3\" y=\"37.702131\"/>\n",
       "     <use style=\"fill:#1f77b4;stroke:#1f77b4;\" x=\"188.248625\" xlink:href=\"#m092c3d0ad3\" y=\"37.847512\"/>\n",
       "     <use style=\"fill:#1f77b4;stroke:#1f77b4;\" x=\"188.857352\" xlink:href=\"#m092c3d0ad3\" y=\"37.991629\"/>\n",
       "     <use style=\"fill:#1f77b4;stroke:#1f77b4;\" x=\"189.46608\" xlink:href=\"#m092c3d0ad3\" y=\"37.76109\"/>\n",
       "     <use style=\"fill:#1f77b4;stroke:#1f77b4;\" x=\"190.074807\" xlink:href=\"#m092c3d0ad3\" y=\"37.656472\"/>\n",
       "     <use style=\"fill:#1f77b4;stroke:#1f77b4;\" x=\"190.683534\" xlink:href=\"#m092c3d0ad3\" y=\"37.922954\"/>\n",
       "     <use style=\"fill:#1f77b4;stroke:#1f77b4;\" x=\"191.292261\" xlink:href=\"#m092c3d0ad3\" y=\"37.941411\"/>\n",
       "     <use style=\"fill:#1f77b4;stroke:#1f77b4;\" x=\"191.900989\" xlink:href=\"#m092c3d0ad3\" y=\"37.71501\"/>\n",
       "     <use style=\"fill:#1f77b4;stroke:#1f77b4;\" x=\"192.509716\" xlink:href=\"#m092c3d0ad3\" y=\"37.734192\"/>\n",
       "     <use style=\"fill:#1f77b4;stroke:#1f77b4;\" x=\"193.118443\" xlink:href=\"#m092c3d0ad3\" y=\"37.510576\"/>\n",
       "     <use style=\"fill:#1f77b4;stroke:#1f77b4;\" x=\"193.72717\" xlink:href=\"#m092c3d0ad3\" y=\"37.409648\"/>\n",
       "     <use style=\"fill:#1f77b4;stroke:#1f77b4;\" x=\"194.335898\" xlink:href=\"#m092c3d0ad3\" y=\"37.068958\"/>\n",
       "     <use style=\"fill:#1f77b4;stroke:#1f77b4;\" x=\"194.944625\" xlink:href=\"#m092c3d0ad3\" y=\"37.210314\"/>\n",
       "     <use style=\"fill:#1f77b4;stroke:#1f77b4;\" x=\"195.553352\" xlink:href=\"#m092c3d0ad3\" y=\"37.94702\"/>\n",
       "     <use style=\"fill:#1f77b4;stroke:#1f77b4;\" x=\"196.16208\" xlink:href=\"#m092c3d0ad3\" y=\"37.489521\"/>\n",
       "     <use style=\"fill:#1f77b4;stroke:#1f77b4;\" x=\"196.770807\" xlink:href=\"#m092c3d0ad3\" y=\"37.390756\"/>\n",
       "     <use style=\"fill:#1f77b4;stroke:#1f77b4;\" x=\"197.379534\" xlink:href=\"#m092c3d0ad3\" y=\"37.528476\"/>\n",
       "     <use style=\"fill:#1f77b4;stroke:#1f77b4;\" x=\"197.988261\" xlink:href=\"#m092c3d0ad3\" y=\"37.313001\"/>\n",
       "     <use style=\"fill:#1f77b4;stroke:#1f77b4;\" x=\"198.596989\" xlink:href=\"#m092c3d0ad3\" y=\"37.683677\"/>\n",
       "     <use style=\"fill:#1f77b4;stroke:#1f77b4;\" x=\"199.205716\" xlink:href=\"#m092c3d0ad3\" y=\"37.818538\"/>\n",
       "     <use style=\"fill:#1f77b4;stroke:#1f77b4;\" x=\"199.814443\" xlink:href=\"#m092c3d0ad3\" y=\"37.488563\"/>\n",
       "     <use style=\"fill:#1f77b4;stroke:#1f77b4;\" x=\"200.42317\" xlink:href=\"#m092c3d0ad3\" y=\"37.854068\"/>\n",
       "     <use style=\"fill:#1f77b4;stroke:#1f77b4;\" x=\"201.031898\" xlink:href=\"#m092c3d0ad3\" y=\"37.75661\"/>\n",
       "     <use style=\"fill:#1f77b4;stroke:#1f77b4;\" x=\"201.640625\" xlink:href=\"#m092c3d0ad3\" y=\"37.889031\"/>\n",
       "     <use style=\"fill:#1f77b4;stroke:#1f77b4;\" x=\"202.249352\" xlink:href=\"#m092c3d0ad3\" y=\"37.906305\"/>\n",
       "     <use style=\"fill:#1f77b4;stroke:#1f77b4;\" x=\"202.85808\" xlink:href=\"#m092c3d0ad3\" y=\"37.809796\"/>\n",
       "     <use style=\"fill:#1f77b4;stroke:#1f77b4;\" x=\"203.466807\" xlink:href=\"#m092c3d0ad3\" y=\"37.940444\"/>\n",
       "     <use style=\"fill:#1f77b4;stroke:#1f77b4;\" x=\"204.075534\" xlink:href=\"#m092c3d0ad3\" y=\"38.070067\"/>\n",
       "     <use style=\"fill:#1f77b4;stroke:#1f77b4;\" x=\"204.684261\" xlink:href=\"#m092c3d0ad3\" y=\"37.97405\"/>\n",
       "     <use style=\"fill:#1f77b4;stroke:#1f77b4;\" x=\"205.292989\" xlink:href=\"#m092c3d0ad3\" y=\"37.990656\"/>\n",
       "     <use style=\"fill:#1f77b4;stroke:#1f77b4;\" x=\"205.901716\" xlink:href=\"#m092c3d0ad3\" y=\"38.007134\"/>\n",
       "     <use style=\"fill:#1f77b4;stroke:#1f77b4;\" x=\"206.510443\" xlink:href=\"#m092c3d0ad3\" y=\"38.467538\"/>\n",
       "     <use style=\"fill:#1f77b4;stroke:#1f77b4;\" x=\"207.11917\" xlink:href=\"#m092c3d0ad3\" y=\"38.482055\"/>\n",
       "     <use style=\"fill:#1f77b4;stroke:#1f77b4;\" x=\"207.727898\" xlink:href=\"#m092c3d0ad3\" y=\"38.386298\"/>\n",
       "     <use style=\"fill:#1f77b4;stroke:#1f77b4;\" x=\"208.336625\" xlink:href=\"#m092c3d0ad3\" y=\"38.181531\"/>\n",
       "     <use style=\"fill:#1f77b4;stroke:#1f77b4;\" x=\"208.945352\" xlink:href=\"#m092c3d0ad3\" y=\"37.97832\"/>\n",
       "     <use style=\"fill:#1f77b4;stroke:#1f77b4;\" x=\"209.55408\" xlink:href=\"#m092c3d0ad3\" y=\"37.88556\"/>\n",
       "     <use style=\"fill:#1f77b4;stroke:#1f77b4;\" x=\"210.162807\" xlink:href=\"#m092c3d0ad3\" y=\"37.901999\"/>\n",
       "     <use style=\"fill:#1f77b4;stroke:#1f77b4;\" x=\"210.771534\" xlink:href=\"#m092c3d0ad3\" y=\"37.918315\"/>\n",
       "     <use style=\"fill:#1f77b4;stroke:#1f77b4;\" x=\"211.380261\" xlink:href=\"#m092c3d0ad3\" y=\"37.503761\"/>\n",
       "     <use style=\"fill:#1f77b4;stroke:#1f77b4;\" x=\"211.988989\" xlink:href=\"#m092c3d0ad3\" y=\"37.628726\"/>\n",
       "     <use style=\"fill:#1f77b4;stroke:#1f77b4;\" x=\"212.597716\" xlink:href=\"#m092c3d0ad3\" y=\"37.538989\"/>\n",
       "     <use style=\"fill:#1f77b4;stroke:#1f77b4;\" x=\"213.206443\" xlink:href=\"#m092c3d0ad3\" y=\"37.449917\"/>\n",
       "     <use style=\"fill:#1f77b4;stroke:#1f77b4;\" x=\"213.81517\" xlink:href=\"#m092c3d0ad3\" y=\"37.361503\"/>\n",
       "     <use style=\"fill:#1f77b4;stroke:#1f77b4;\" x=\"214.423898\" xlink:href=\"#m092c3d0ad3\" y=\"37.485153\"/>\n",
       "     <use style=\"fill:#1f77b4;stroke:#1f77b4;\" x=\"215.032625\" xlink:href=\"#m092c3d0ad3\" y=\"37.397257\"/>\n",
       "     <use style=\"fill:#1f77b4;stroke:#1f77b4;\" x=\"215.641352\" xlink:href=\"#m092c3d0ad3\" y=\"37.100132\"/>\n",
       "     <use style=\"fill:#1f77b4;stroke:#1f77b4;\" x=\"216.25008\" xlink:href=\"#m092c3d0ad3\" y=\"37.014275\"/>\n",
       "     <use style=\"fill:#1f77b4;stroke:#1f77b4;\" x=\"216.858807\" xlink:href=\"#m092c3d0ad3\" y=\"36.824865\"/>\n",
       "     <use style=\"fill:#1f77b4;stroke:#1f77b4;\" x=\"217.467534\" xlink:href=\"#m092c3d0ad3\" y=\"36.844422\"/>\n",
       "     <use style=\"fill:#1f77b4;stroke:#1f77b4;\" x=\"218.076261\" xlink:href=\"#m092c3d0ad3\" y=\"36.760411\"/>\n",
       "     <use style=\"fill:#1f77b4;stroke:#1f77b4;\" x=\"218.684989\" xlink:href=\"#m092c3d0ad3\" y=\"36.986169\"/>\n",
       "     <use style=\"fill:#1f77b4;stroke:#1f77b4;\" x=\"219.293716\" xlink:href=\"#m092c3d0ad3\" y=\"37.107627\"/>\n",
       "     <use style=\"fill:#1f77b4;stroke:#1f77b4;\" x=\"219.902443\" xlink:href=\"#m092c3d0ad3\" y=\"37.432864\"/>\n",
       "     <use style=\"fill:#1f77b4;stroke:#1f77b4;\" x=\"220.51117\" xlink:href=\"#m092c3d0ad3\" y=\"37.653835\"/>\n",
       "     <use style=\"fill:#1f77b4;stroke:#1f77b4;\" x=\"221.119898\" xlink:href=\"#m092c3d0ad3\" y=\"37.670048\"/>\n",
       "     <use style=\"fill:#1f77b4;stroke:#1f77b4;\" x=\"221.728625\" xlink:href=\"#m092c3d0ad3\" y=\"37.686146\"/>\n",
       "     <use style=\"fill:#1f77b4;stroke:#1f77b4;\" x=\"222.337352\" xlink:href=\"#m092c3d0ad3\" y=\"37.803017\"/>\n",
       "     <use style=\"fill:#1f77b4;stroke:#1f77b4;\" x=\"222.94608\" xlink:href=\"#m092c3d0ad3\" y=\"37.718005\"/>\n",
       "     <use style=\"fill:#1f77b4;stroke:#1f77b4;\" x=\"223.554807\" xlink:href=\"#m092c3d0ad3\" y=\"38.034316\"/>\n",
       "     <use style=\"fill:#1f77b4;stroke:#1f77b4;\" x=\"224.163534\" xlink:href=\"#m092c3d0ad3\" y=\"38.048926\"/>\n",
       "     <use style=\"fill:#1f77b4;stroke:#1f77b4;\" x=\"224.772261\" xlink:href=\"#m092c3d0ad3\" y=\"37.764967\"/>\n",
       "     <use style=\"fill:#1f77b4;stroke:#1f77b4;\" x=\"225.380989\" xlink:href=\"#m092c3d0ad3\" y=\"37.780405\"/>\n",
       "     <use style=\"fill:#1f77b4;stroke:#1f77b4;\" x=\"225.989716\" xlink:href=\"#m092c3d0ad3\" y=\"37.696931\"/>\n",
       "     <use style=\"fill:#1f77b4;stroke:#1f77b4;\" x=\"226.598443\" xlink:href=\"#m092c3d0ad3\" y=\"37.614029\"/>\n",
       "     <use style=\"fill:#1f77b4;stroke:#1f77b4;\" x=\"227.20717\" xlink:href=\"#m092c3d0ad3\" y=\"37.531693\"/>\n",
       "     <use style=\"fill:#1f77b4;stroke:#1f77b4;\" x=\"227.815898\" xlink:href=\"#m092c3d0ad3\" y=\"37.645512\"/>\n",
       "     <use style=\"fill:#1f77b4;stroke:#1f77b4;\" x=\"228.424625\" xlink:href=\"#m092c3d0ad3\" y=\"37.368696\"/>\n",
       "     <use style=\"fill:#1f77b4;stroke:#1f77b4;\" x=\"229.033352\" xlink:href=\"#m092c3d0ad3\" y=\"37.288023\"/>\n",
       "     <use style=\"fill:#1f77b4;stroke:#1f77b4;\" x=\"229.64208\" xlink:href=\"#m092c3d0ad3\" y=\"37.304703\"/>\n",
       "     <use style=\"fill:#1f77b4;stroke:#1f77b4;\" x=\"230.250807\" xlink:href=\"#m092c3d0ad3\" y=\"37.128302\"/>\n",
       "     <use style=\"fill:#1f77b4;stroke:#1f77b4;\" x=\"230.859534\" xlink:href=\"#m092c3d0ad3\" y=\"37.241567\"/>\n",
       "     <use style=\"fill:#1f77b4;stroke:#1f77b4;\" x=\"231.468261\" xlink:href=\"#m092c3d0ad3\" y=\"37.449917\"/>\n",
       "     <use style=\"fill:#1f77b4;stroke:#1f77b4;\" x=\"232.076989\" xlink:href=\"#m092c3d0ad3\" y=\"37.752407\"/>\n",
       "     <use style=\"fill:#1f77b4;stroke:#1f77b4;\" x=\"232.685716\" xlink:href=\"#m092c3d0ad3\" y=\"37.672066\"/>\n",
       "     <use style=\"fill:#1f77b4;stroke:#1f77b4;\" x=\"233.294443\" xlink:href=\"#m092c3d0ad3\" y=\"37.402471\"/>\n",
       "     <use style=\"fill:#1f77b4;stroke:#1f77b4;\" x=\"233.90317\" xlink:href=\"#m092c3d0ad3\" y=\"37.702131\"/>\n",
       "     <use style=\"fill:#1f77b4;stroke:#1f77b4;\" x=\"234.511898\" xlink:href=\"#m092c3d0ad3\" y=\"37.622746\"/>\n",
       "     <use style=\"fill:#1f77b4;stroke:#1f77b4;\" x=\"235.120625\" xlink:href=\"#m092c3d0ad3\" y=\"37.731804\"/>\n",
       "     <use style=\"fill:#1f77b4;stroke:#1f77b4;\" x=\"235.729352\" xlink:href=\"#m092c3d0ad3\" y=\"37.652839\"/>\n",
       "     <use style=\"fill:#1f77b4;stroke:#1f77b4;\" x=\"236.33808\" xlink:href=\"#m092c3d0ad3\" y=\"37.667739\"/>\n",
       "     <use style=\"fill:#1f77b4;stroke:#1f77b4;\" x=\"236.946807\" xlink:href=\"#m092c3d0ad3\" y=\"37.496442\"/>\n",
       "     <use style=\"fill:#1f77b4;stroke:#1f77b4;\" x=\"237.555534\" xlink:href=\"#m092c3d0ad3\" y=\"37.326251\"/>\n",
       "     <use style=\"fill:#1f77b4;stroke:#1f77b4;\" x=\"238.164261\" xlink:href=\"#m092c3d0ad3\" y=\"37.157154\"/>\n",
       "     <use style=\"fill:#1f77b4;stroke:#1f77b4;\" x=\"238.772989\" xlink:href=\"#m092c3d0ad3\" y=\"37.357762\"/>\n",
       "     <use style=\"fill:#1f77b4;stroke:#1f77b4;\" x=\"239.381716\" xlink:href=\"#m092c3d0ad3\" y=\"37.373367\"/>\n",
       "     <use style=\"fill:#1f77b4;stroke:#1f77b4;\" x=\"239.990443\" xlink:href=\"#m092c3d0ad3\" y=\"37.663576\"/>\n",
       "     <use style=\"fill:#1f77b4;stroke:#1f77b4;\" x=\"240.59917\" xlink:href=\"#m092c3d0ad3\" y=\"37.586834\"/>\n",
       "     <use style=\"fill:#1f77b4;stroke:#1f77b4;\" x=\"241.207898\" xlink:href=\"#m092c3d0ad3\" y=\"37.419588\"/>\n",
       "     <use style=\"fill:#1f77b4;stroke:#1f77b4;\" x=\"241.816625\" xlink:href=\"#m092c3d0ad3\" y=\"37.4348\"/>\n",
       "     <use style=\"fill:#1f77b4;stroke:#1f77b4;\" x=\"242.425352\" xlink:href=\"#m092c3d0ad3\" y=\"37.269085\"/>\n",
       "     <use style=\"fill:#1f77b4;stroke:#1f77b4;\" x=\"243.03408\" xlink:href=\"#m092c3d0ad3\" y=\"37.555072\"/>\n",
       "     <use style=\"fill:#1f77b4;stroke:#1f77b4;\" x=\"243.642807\" xlink:href=\"#m092c3d0ad3\" y=\"37.749421\"/>\n",
       "     <use style=\"fill:#1f77b4;stroke:#1f77b4;\" x=\"244.251534\" xlink:href=\"#m092c3d0ad3\" y=\"37.94256\"/>\n",
       "     <use style=\"fill:#1f77b4;stroke:#1f77b4;\" x=\"244.860261\" xlink:href=\"#m092c3d0ad3\" y=\"38.313085\"/>\n",
       "     <use style=\"fill:#1f77b4;stroke:#1f77b4;\" x=\"245.468989\" xlink:href=\"#m092c3d0ad3\" y=\"38.503282\"/>\n",
       "     <use style=\"fill:#1f77b4;stroke:#1f77b4;\" x=\"246.077716\" xlink:href=\"#m092c3d0ad3\" y=\"38.426079\"/>\n",
       "     <use style=\"fill:#1f77b4;stroke:#1f77b4;\" x=\"246.686443\" xlink:href=\"#m092c3d0ad3\" y=\"38.703227\"/>\n",
       "     <use style=\"fill:#1f77b4;stroke:#1f77b4;\" x=\"247.29517\" xlink:href=\"#m092c3d0ad3\" y=\"38.978675\"/>\n",
       "     <use style=\"fill:#1f77b4;stroke:#1f77b4;\" x=\"247.903898\" xlink:href=\"#m092c3d0ad3\" y=\"38.988654\"/>\n",
       "     <use style=\"fill:#1f77b4;stroke:#1f77b4;\" x=\"248.512625\" xlink:href=\"#m092c3d0ad3\" y=\"39.086233\"/>\n",
       "     <use style=\"fill:#1f77b4;stroke:#1f77b4;\" x=\"249.121352\" xlink:href=\"#m092c3d0ad3\" y=\"39.008431\"/>\n",
       "     <use style=\"fill:#1f77b4;stroke:#1f77b4;\" x=\"249.73008\" xlink:href=\"#m092c3d0ad3\" y=\"39.01823\"/>\n",
       "     <use style=\"fill:#1f77b4;stroke:#1f77b4;\" x=\"250.338807\" xlink:href=\"#m092c3d0ad3\" y=\"39.462296\"/>\n",
       "     <use style=\"fill:#1f77b4;stroke:#1f77b4;\" x=\"250.947534\" xlink:href=\"#m092c3d0ad3\" y=\"39.384065\"/>\n",
       "     <use style=\"fill:#1f77b4;stroke:#1f77b4;\" x=\"251.556261\" xlink:href=\"#m092c3d0ad3\" y=\"39.651677\"/>\n",
       "     <use style=\"fill:#1f77b4;stroke:#1f77b4;\" x=\"252.164989\" xlink:href=\"#m092c3d0ad3\" y=\"39.573348\"/>\n",
       "     <use style=\"fill:#1f77b4;stroke:#1f77b4;\" x=\"252.773716\" xlink:href=\"#m092c3d0ad3\" y=\"39.495486\"/>\n",
       "     <use style=\"fill:#1f77b4;stroke:#1f77b4;\" x=\"253.382443\" xlink:href=\"#m092c3d0ad3\" y=\"39.332515\"/>\n",
       "     <use style=\"fill:#1f77b4;stroke:#1f77b4;\" x=\"253.99117\" xlink:href=\"#m092c3d0ad3\" y=\"39.426467\"/>\n",
       "     <use style=\"fill:#1f77b4;stroke:#1f77b4;\" x=\"254.599898\" xlink:href=\"#m092c3d0ad3\" y=\"39.264664\"/>\n",
       "     <use style=\"fill:#1f77b4;stroke:#1f77b4;\" x=\"255.208625\" xlink:href=\"#m092c3d0ad3\" y=\"39.273447\"/>\n",
       "     <use style=\"fill:#1f77b4;stroke:#1f77b4;\" x=\"255.817352\" xlink:href=\"#m092c3d0ad3\" y=\"39.197612\"/>\n",
       "     <use style=\"fill:#1f77b4;stroke:#1f77b4;\" x=\"256.42608\" xlink:href=\"#m092c3d0ad3\" y=\"39.375176\"/>\n",
       "     <use style=\"fill:#1f77b4;stroke:#1f77b4;\" x=\"257.034807\" xlink:href=\"#m092c3d0ad3\" y=\"39.467629\"/>\n",
       "     <use style=\"fill:#1f77b4;stroke:#1f77b4;\" x=\"257.643534\" xlink:href=\"#m092c3d0ad3\" y=\"39.475718\"/>\n",
       "     <use style=\"fill:#1f77b4;stroke:#1f77b4;\" x=\"258.252261\" xlink:href=\"#m092c3d0ad3\" y=\"39.567342\"/>\n",
       "     <use style=\"fill:#1f77b4;stroke:#1f77b4;\" x=\"258.860989\" xlink:href=\"#m092c3d0ad3\" y=\"39.741775\"/>\n",
       "     <use style=\"fill:#1f77b4;stroke:#1f77b4;\" x=\"259.469716\" xlink:href=\"#m092c3d0ad3\" y=\"39.9152\"/>\n",
       "     <use style=\"fill:#1f77b4;stroke:#1f77b4;\" x=\"260.078443\" xlink:href=\"#m092c3d0ad3\" y=\"40.170485\"/>\n",
       "     <use style=\"fill:#1f77b4;stroke:#1f77b4;\" x=\"260.68717\" xlink:href=\"#m092c3d0ad3\" y=\"40.25906\"/>\n",
       "     <use style=\"fill:#1f77b4;stroke:#1f77b4;\" x=\"261.295898\" xlink:href=\"#m092c3d0ad3\" y=\"40.264741\"/>\n",
       "     <use style=\"fill:#1f77b4;stroke:#1f77b4;\" x=\"261.904625\" xlink:href=\"#m092c3d0ad3\" y=\"40.270391\"/>\n",
       "     <use style=\"fill:#1f77b4;stroke:#1f77b4;\" x=\"262.513352\" xlink:href=\"#m092c3d0ad3\" y=\"40.439839\"/>\n",
       "     <use style=\"fill:#1f77b4;stroke:#1f77b4;\" x=\"263.12208\" xlink:href=\"#m092c3d0ad3\" y=\"40.281593\"/>\n",
       "     <use style=\"fill:#1f77b4;stroke:#1f77b4;\" x=\"263.730807\" xlink:href=\"#m092c3d0ad3\" y=\"40.368598\"/>\n",
       "     <use style=\"fill:#1f77b4;stroke:#1f77b4;\" x=\"264.339534\" xlink:href=\"#m092c3d0ad3\" y=\"40.536333\"/>\n",
       "     <use style=\"fill:#1f77b4;stroke:#1f77b4;\" x=\"264.948261\" xlink:href=\"#m092c3d0ad3\" y=\"40.62213\"/>\n",
       "     <use style=\"fill:#1f77b4;stroke:#1f77b4;\" x=\"265.556989\" xlink:href=\"#m092c3d0ad3\" y=\"40.62668\"/>\n",
       "     <use style=\"fill:#1f77b4;stroke:#1f77b4;\" x=\"266.165716\" xlink:href=\"#m092c3d0ad3\" y=\"40.631205\"/>\n",
       "     <use style=\"fill:#1f77b4;stroke:#1f77b4;\" x=\"266.774443\" xlink:href=\"#m092c3d0ad3\" y=\"40.635704\"/>\n",
       "     <use style=\"fill:#1f77b4;stroke:#1f77b4;\" x=\"267.38317\" xlink:href=\"#m092c3d0ad3\" y=\"40.800359\"/>\n",
       "     <use style=\"fill:#1f77b4;stroke:#1f77b4;\" x=\"267.991898\" xlink:href=\"#m092c3d0ad3\" y=\"40.964099\"/>\n",
       "     <use style=\"fill:#1f77b4;stroke:#1f77b4;\" x=\"268.600625\" xlink:href=\"#m092c3d0ad3\" y=\"40.967639\"/>\n",
       "     <use style=\"fill:#1f77b4;stroke:#1f77b4;\" x=\"269.209352\" xlink:href=\"#m092c3d0ad3\" y=\"41.130012\"/>\n",
       "     <use style=\"fill:#1f77b4;stroke:#1f77b4;\" x=\"269.81808\" xlink:href=\"#m092c3d0ad3\" y=\"41.212283\"/>\n",
       "     <use style=\"fill:#1f77b4;stroke:#1f77b4;\" x=\"270.426807\" xlink:href=\"#m092c3d0ad3\" y=\"41.294102\"/>\n",
       "     <use style=\"fill:#1f77b4;stroke:#1f77b4;\" x=\"271.035534\" xlink:href=\"#m092c3d0ad3\" y=\"41.375473\"/>\n",
       "     <use style=\"fill:#1f77b4;stroke:#1f77b4;\" x=\"271.644261\" xlink:href=\"#m092c3d0ad3\" y=\"41.613516\"/>\n",
       "     <use style=\"fill:#1f77b4;stroke:#1f77b4;\" x=\"272.252989\" xlink:href=\"#m092c3d0ad3\" y=\"41.850261\"/>\n",
       "     <use style=\"fill:#1f77b4;stroke:#1f77b4;\" x=\"272.861716\" xlink:href=\"#m092c3d0ad3\" y=\"41.5388\"/>\n",
       "     <use style=\"fill:#1f77b4;stroke:#1f77b4;\" x=\"273.470443\" xlink:href=\"#m092c3d0ad3\" y=\"41.306946\"/>\n",
       "     <use style=\"fill:#1f77b4;stroke:#1f77b4;\" x=\"274.07917\" xlink:href=\"#m092c3d0ad3\" y=\"40.998637\"/>\n",
       "     <use style=\"fill:#1f77b4;stroke:#1f77b4;\" x=\"274.687898\" xlink:href=\"#m092c3d0ad3\" y=\"40.769489\"/>\n",
       "     <use style=\"fill:#1f77b4;stroke:#1f77b4;\" x=\"275.296625\" xlink:href=\"#m092c3d0ad3\" y=\"40.464282\"/>\n",
       "     <use style=\"fill:#1f77b4;stroke:#1f77b4;\" x=\"275.905352\" xlink:href=\"#m092c3d0ad3\" y=\"40.237795\"/>\n",
       "     <use style=\"fill:#1f77b4;stroke:#1f77b4;\" x=\"276.51408\" xlink:href=\"#m092c3d0ad3\" y=\"39.935641\"/>\n",
       "     <use style=\"fill:#1f77b4;stroke:#1f77b4;\" x=\"277.122807\" xlink:href=\"#m092c3d0ad3\" y=\"39.711773\"/>\n",
       "     <use style=\"fill:#1f77b4;stroke:#1f77b4;\" x=\"277.731534\" xlink:href=\"#m092c3d0ad3\" y=\"39.489094\"/>\n",
       "     <use style=\"fill:#1f77b4;stroke:#1f77b4;\" x=\"278.340261\" xlink:href=\"#m092c3d0ad3\" y=\"39.343864\"/>\n",
       "     <use style=\"fill:#1f77b4;stroke:#1f77b4;\" x=\"278.948989\" xlink:href=\"#m092c3d0ad3\" y=\"39.275466\"/>\n",
       "     <use style=\"fill:#1f77b4;stroke:#1f77b4;\" x=\"279.557716\" xlink:href=\"#m092c3d0ad3\" y=\"39.131566\"/>\n",
       "     <use style=\"fill:#1f77b4;stroke:#1f77b4;\" x=\"280.166443\" xlink:href=\"#m092c3d0ad3\" y=\"38.837094\"/>\n",
       "     <use style=\"fill:#1f77b4;stroke:#1f77b4;\" x=\"280.77517\" xlink:href=\"#m092c3d0ad3\" y=\"38.996962\"/>\n",
       "     <use style=\"fill:#1f77b4;stroke:#1f77b4;\" x=\"281.383898\" xlink:href=\"#m092c3d0ad3\" y=\"38.779653\"/>\n",
       "     <use style=\"fill:#1f77b4;stroke:#1f77b4;\" x=\"281.992625\" xlink:href=\"#m092c3d0ad3\" y=\"38.488407\"/>\n",
       "     <use style=\"fill:#1f77b4;stroke:#1f77b4;\" x=\"282.601352\" xlink:href=\"#m092c3d0ad3\" y=\"38.34843\"/>\n",
       "     <use style=\"fill:#1f77b4;stroke:#1f77b4;\" x=\"283.21008\" xlink:href=\"#m092c3d0ad3\" y=\"38.358543\"/>\n",
       "     <use style=\"fill:#1f77b4;stroke:#1f77b4;\" x=\"283.818807\" xlink:href=\"#m092c3d0ad3\" y=\"38.219627\"/>\n",
       "     <use style=\"fill:#1f77b4;stroke:#1f77b4;\" x=\"284.427534\" xlink:href=\"#m092c3d0ad3\" y=\"38.452908\"/>\n",
       "     <use style=\"fill:#1f77b4;stroke:#1f77b4;\" x=\"285.036261\" xlink:href=\"#m092c3d0ad3\" y=\"38.536778\"/>\n",
       "     <use style=\"fill:#1f77b4;stroke:#1f77b4;\" x=\"285.644989\" xlink:href=\"#m092c3d0ad3\" y=\"38.324562\"/>\n",
       "     <use style=\"fill:#1f77b4;stroke:#1f77b4;\" x=\"286.253716\" xlink:href=\"#m092c3d0ad3\" y=\"38.03971\"/>\n",
       "     <use style=\"fill:#1f77b4;stroke:#1f77b4;\" x=\"286.862443\" xlink:href=\"#m092c3d0ad3\" y=\"37.829851\"/>\n",
       "     <use style=\"fill:#1f77b4;stroke:#1f77b4;\" x=\"287.47117\" xlink:href=\"#m092c3d0ad3\" y=\"37.694411\"/>\n",
       "     <use style=\"fill:#1f77b4;stroke:#1f77b4;\" x=\"288.079898\" xlink:href=\"#m092c3d0ad3\" y=\"37.486498\"/>\n",
       "     <use style=\"fill:#1f77b4;stroke:#1f77b4;\" x=\"288.688625\" xlink:href=\"#m092c3d0ad3\" y=\"37.425592\"/>\n",
       "     <use style=\"fill:#1f77b4;stroke:#1f77b4;\" x=\"289.297352\" xlink:href=\"#m092c3d0ad3\" y=\"37.510576\"/>\n",
       "     <use style=\"fill:#1f77b4;stroke:#1f77b4;\" x=\"289.90608\" xlink:href=\"#m092c3d0ad3\" y=\"37.304703\"/>\n",
       "     <use style=\"fill:#1f77b4;stroke:#1f77b4;\" x=\"290.514807\" xlink:href=\"#m092c3d0ad3\" y=\"37.027443\"/>\n",
       "     <use style=\"fill:#1f77b4;stroke:#1f77b4;\" x=\"291.123534\" xlink:href=\"#m092c3d0ad3\" y=\"36.823818\"/>\n",
       "     <use style=\"fill:#1f77b4;stroke:#1f77b4;\" x=\"291.732261\" xlink:href=\"#m092c3d0ad3\" y=\"36.621214\"/>\n",
       "     <use style=\"fill:#1f77b4;stroke:#1f77b4;\" x=\"292.340989\" xlink:href=\"#m092c3d0ad3\" y=\"36.563385\"/>\n",
       "     <use style=\"fill:#1f77b4;stroke:#1f77b4;\" x=\"292.949716\" xlink:href=\"#m092c3d0ad3\" y=\"36.290739\"/>\n",
       "     <use style=\"fill:#1f77b4;stroke:#1f77b4;\" x=\"293.558443\" xlink:href=\"#m092c3d0ad3\" y=\"36.377067\"/>\n",
       "     <use style=\"fill:#1f77b4;stroke:#1f77b4;\" x=\"294.16717\" xlink:href=\"#m092c3d0ad3\" y=\"36.534312\"/>\n",
       "     <use style=\"fill:#1f77b4;stroke:#1f77b4;\" x=\"294.775898\" xlink:href=\"#m092c3d0ad3\" y=\"36.263762\"/>\n",
       "     <use style=\"fill:#1f77b4;stroke:#1f77b4;\" x=\"295.384625\" xlink:href=\"#m092c3d0ad3\" y=\"35.994549\"/>\n",
       "     <use style=\"fill:#1f77b4;stroke:#1f77b4;\" x=\"295.993352\" xlink:href=\"#m092c3d0ad3\" y=\"35.868299\"/>\n",
       "     <use style=\"fill:#1f77b4;stroke:#1f77b4;\" x=\"296.60208\" xlink:href=\"#m092c3d0ad3\" y=\"35.74267\"/>\n",
       "     <use style=\"fill:#1f77b4;stroke:#1f77b4;\" x=\"297.210807\" xlink:href=\"#m092c3d0ad3\" y=\"35.476714\"/>\n",
       "     <use style=\"fill:#1f77b4;stroke:#1f77b4;\" x=\"297.819534\" xlink:href=\"#m092c3d0ad3\" y=\"35.493255\"/>\n",
       "     <use style=\"fill:#1f77b4;stroke:#1f77b4;\" x=\"298.428261\" xlink:href=\"#m092c3d0ad3\" y=\"35.299332\"/>\n",
       "     <use style=\"fill:#1f77b4;stroke:#1f77b4;\" x=\"299.036989\" xlink:href=\"#m092c3d0ad3\" y=\"35.106352\"/>\n",
       "     <use style=\"fill:#1f77b4;stroke:#1f77b4;\" x=\"299.645716\" xlink:href=\"#m092c3d0ad3\" y=\"34.844522\"/>\n",
       "     <use style=\"fill:#1f77b4;stroke:#1f77b4;\" x=\"300.254443\" xlink:href=\"#m092c3d0ad3\" y=\"34.653579\"/>\n",
       "     <use style=\"fill:#1f77b4;stroke:#1f77b4;\" x=\"300.86317\" xlink:href=\"#m092c3d0ad3\" y=\"34.533008\"/>\n",
       "     <use style=\"fill:#1f77b4;stroke:#1f77b4;\" x=\"301.471898\" xlink:href=\"#m092c3d0ad3\" y=\"34.759432\"/>\n",
       "     <use style=\"fill:#1f77b4;stroke:#1f77b4;\" x=\"302.080625\" xlink:href=\"#m092c3d0ad3\" y=\"34.846535\"/>\n",
       "     <use style=\"fill:#1f77b4;stroke:#1f77b4;\" x=\"302.689352\" xlink:href=\"#m092c3d0ad3\" y=\"34.588468\"/>\n",
       "     <use style=\"fill:#1f77b4;stroke:#1f77b4;\" x=\"303.29808\" xlink:href=\"#m092c3d0ad3\" y=\"34.331635\"/>\n",
       "     <use style=\"fill:#1f77b4;stroke:#1f77b4;\" x=\"303.906807\" xlink:href=\"#m092c3d0ad3\" y=\"34.076028\"/>\n",
       "     <use style=\"fill:#1f77b4;stroke:#1f77b4;\" x=\"304.515534\" xlink:href=\"#m092c3d0ad3\" y=\"33.821639\"/>\n",
       "     <use style=\"fill:#1f77b4;stroke:#1f77b4;\" x=\"305.124261\" xlink:href=\"#m092c3d0ad3\" y=\"33.636753\"/>\n",
       "     <use style=\"fill:#1f77b4;stroke:#1f77b4;\" x=\"305.732989\" xlink:href=\"#m092c3d0ad3\" y=\"33.520877\"/>\n",
       "     <use style=\"fill:#1f77b4;stroke:#1f77b4;\" x=\"306.341716\" xlink:href=\"#m092c3d0ad3\" y=\"33.473522\"/>\n",
       "     <use style=\"fill:#1f77b4;stroke:#1f77b4;\" x=\"306.950443\" xlink:href=\"#m092c3d0ad3\" y=\"33.358578\"/>\n",
       "     <use style=\"fill:#1f77b4;stroke:#1f77b4;\" x=\"307.55917\" xlink:href=\"#m092c3d0ad3\" y=\"33.311827\"/>\n",
       "     <use style=\"fill:#1f77b4;stroke:#1f77b4;\" x=\"308.167898\" xlink:href=\"#m092c3d0ad3\" y=\"33.130308\"/>\n",
       "     <use style=\"fill:#1f77b4;stroke:#1f77b4;\" x=\"308.776625\" xlink:href=\"#m092c3d0ad3\" y=\"33.084311\"/>\n",
       "     <use style=\"fill:#1f77b4;stroke:#1f77b4;\" x=\"309.385352\" xlink:href=\"#m092c3d0ad3\" y=\"32.836994\"/>\n",
       "     <use style=\"fill:#1f77b4;stroke:#1f77b4;\" x=\"309.99408\" xlink:href=\"#m092c3d0ad3\" y=\"32.590829\"/>\n",
       "     <use style=\"fill:#1f77b4;stroke:#1f77b4;\" x=\"310.602807\" xlink:href=\"#m092c3d0ad3\" y=\"32.34581\"/>\n",
       "     <use style=\"fill:#1f77b4;stroke:#1f77b4;\" x=\"311.211534\" xlink:href=\"#m092c3d0ad3\" y=\"32.168638\"/>\n",
       "     <use style=\"fill:#1f77b4;stroke:#1f77b4;\" x=\"311.820261\" xlink:href=\"#m092c3d0ad3\" y=\"32.058843\"/>\n",
       "     <use style=\"fill:#1f77b4;stroke:#1f77b4;\" x=\"312.428989\" xlink:href=\"#m092c3d0ad3\" y=\"31.883152\"/>\n",
       "     <use style=\"fill:#1f77b4;stroke:#1f77b4;\" x=\"313.037716\" xlink:href=\"#m092c3d0ad3\" y=\"31.642022\"/>\n",
       "     <use style=\"fill:#1f77b4;stroke:#1f77b4;\" x=\"313.646443\" xlink:href=\"#m092c3d0ad3\" y=\"31.401999\"/>\n",
       "     <use style=\"fill:#1f77b4;stroke:#1f77b4;\" x=\"314.25517\" xlink:href=\"#m092c3d0ad3\" y=\"31.163078\"/>\n",
       "     <use style=\"fill:#1f77b4;stroke:#1f77b4;\" x=\"314.863898\" xlink:href=\"#m092c3d0ad3\" y=\"30.991046\"/>\n",
       "     <use style=\"fill:#1f77b4;stroke:#1f77b4;\" x=\"315.472625\" xlink:href=\"#m092c3d0ad3\" y=\"30.819798\"/>\n",
       "     <use style=\"fill:#1f77b4;stroke:#1f77b4;\" x=\"316.081352\" xlink:href=\"#m092c3d0ad3\" y=\"30.780322\"/>\n",
       "     <use style=\"fill:#1f77b4;stroke:#1f77b4;\" x=\"316.69008\" xlink:href=\"#m092c3d0ad3\" y=\"30.675678\"/>\n",
       "     <use style=\"fill:#1f77b4;stroke:#1f77b4;\" x=\"317.298807\" xlink:href=\"#m092c3d0ad3\" y=\"30.441113\"/>\n",
       "     <use style=\"fill:#1f77b4;stroke:#1f77b4;\" x=\"317.907534\" xlink:href=\"#m092c3d0ad3\" y=\"30.27266\"/>\n",
       "     <use style=\"fill:#1f77b4;stroke:#1f77b4;\" x=\"318.516261\" xlink:href=\"#m092c3d0ad3\" y=\"30.234775\"/>\n",
       "     <use style=\"fill:#1f77b4;stroke:#1f77b4;\" x=\"319.124989\" xlink:href=\"#m092c3d0ad3\" y=\"30.067545\"/>\n",
       "     <use style=\"fill:#1f77b4;stroke:#1f77b4;\" x=\"319.733716\" xlink:href=\"#m092c3d0ad3\" y=\"29.901067\"/>\n",
       "     <use style=\"fill:#1f77b4;stroke:#1f77b4;\" x=\"320.342443\" xlink:href=\"#m092c3d0ad3\" y=\"29.735336\"/>\n",
       "     <use style=\"fill:#1f77b4;stroke:#1f77b4;\" x=\"320.95117\" xlink:href=\"#m092c3d0ad3\" y=\"29.570346\"/>\n",
       "     <use style=\"fill:#1f77b4;stroke:#1f77b4;\" x=\"321.559898\" xlink:href=\"#m092c3d0ad3\" y=\"29.470272\"/>\n",
       "     <use style=\"fill:#1f77b4;stroke:#1f77b4;\" x=\"322.168625\" xlink:href=\"#m092c3d0ad3\" y=\"29.306607\"/>\n",
       "     <use style=\"fill:#1f77b4;stroke:#1f77b4;\" x=\"322.777352\" xlink:href=\"#m092c3d0ad3\" y=\"29.079775\"/>\n",
       "     <use style=\"fill:#1f77b4;stroke:#1f77b4;\" x=\"323.38608\" xlink:href=\"#m092c3d0ad3\" y=\"28.981455\"/>\n",
       "     <use style=\"fill:#1f77b4;stroke:#1f77b4;\" x=\"323.994807\" xlink:href=\"#m092c3d0ad3\" y=\"29.074404\"/>\n",
       "     <use style=\"fill:#1f77b4;stroke:#1f77b4;\" x=\"324.603534\" xlink:href=\"#m092c3d0ad3\" y=\"28.913058\"/>\n",
       "     <use style=\"fill:#1f77b4;stroke:#1f77b4;\" x=\"325.212261\" xlink:href=\"#m092c3d0ad3\" y=\"28.879085\"/>\n",
       "     <use style=\"fill:#1f77b4;stroke:#1f77b4;\" x=\"325.820989\" xlink:href=\"#m092c3d0ad3\" y=\"28.78207\"/>\n",
       "     <use style=\"fill:#1f77b4;stroke:#1f77b4;\" x=\"326.429716\" xlink:href=\"#m092c3d0ad3\" y=\"28.559374\"/>\n",
       "     <use style=\"fill:#1f77b4;stroke:#1f77b4;\" x=\"327.038443\" xlink:href=\"#m092c3d0ad3\" y=\"28.400567\"/>\n",
       "     <use style=\"fill:#1f77b4;stroke:#1f77b4;\" x=\"327.64717\" xlink:href=\"#m092c3d0ad3\" y=\"28.36801\"/>\n",
       "     <use style=\"fill:#1f77b4;stroke:#1f77b4;\" x=\"328.255898\" xlink:href=\"#m092c3d0ad3\" y=\"28.335596\"/>\n",
       "     <use style=\"fill:#1f77b4;stroke:#1f77b4;\" x=\"328.864625\" xlink:href=\"#m092c3d0ad3\" y=\"28.240816\"/>\n",
       "     <use style=\"fill:#1f77b4;stroke:#1f77b4;\" x=\"329.473352\" xlink:href=\"#m092c3d0ad3\" y=\"28.021709\"/>\n",
       "     <use style=\"fill:#1f77b4;stroke:#1f77b4;\" x=\"330.08208\" xlink:href=\"#m092c3d0ad3\" y=\"27.990254\"/>\n",
       "     <use style=\"fill:#1f77b4;stroke:#1f77b4;\" x=\"330.690807\" xlink:href=\"#m092c3d0ad3\" y=\"28.021036\"/>\n",
       "     <use style=\"fill:#1f77b4;stroke:#1f77b4;\" x=\"331.299534\" xlink:href=\"#m092c3d0ad3\" y=\"27.803819\"/>\n",
       "     <use style=\"fill:#1f77b4;stroke:#1f77b4;\" x=\"331.908261\" xlink:href=\"#m092c3d0ad3\" y=\"27.587536\"/>\n",
       "     <use style=\"fill:#1f77b4;stroke:#1f77b4;\" x=\"332.516989\" xlink:href=\"#m092c3d0ad3\" y=\"27.557283\"/>\n",
       "     <use style=\"fill:#1f77b4;stroke:#1f77b4;\" x=\"333.125716\" xlink:href=\"#m092c3d0ad3\" y=\"27.342455\"/>\n",
       "     <use style=\"fill:#1f77b4;stroke:#1f77b4;\" x=\"333.734443\" xlink:href=\"#m092c3d0ad3\" y=\"27.251418\"/>\n",
       "     <use style=\"fill:#1f77b4;stroke:#1f77b4;\" x=\"334.34317\" xlink:href=\"#m092c3d0ad3\" y=\"27.222075\"/>\n",
       "     <use style=\"fill:#1f77b4;stroke:#1f77b4;\" x=\"334.951898\" xlink:href=\"#m092c3d0ad3\" y=\"27.376383\"/>\n",
       "     <use style=\"fill:#1f77b4;stroke:#1f77b4;\" x=\"335.560625\" xlink:href=\"#m092c3d0ad3\" y=\"27.224808\"/>\n",
       "     <use style=\"fill:#1f77b4;stroke:#1f77b4;\" x=\"336.169352\" xlink:href=\"#m092c3d0ad3\" y=\"27.134792\"/>\n",
       "     <use style=\"fill:#1f77b4;stroke:#1f77b4;\" x=\"336.77808\" xlink:href=\"#m092c3d0ad3\" y=\"26.984369\"/>\n",
       "     <use style=\"fill:#1f77b4;stroke:#1f77b4;\" x=\"337.386807\" xlink:href=\"#m092c3d0ad3\" y=\"26.834581\"/>\n",
       "     <use style=\"fill:#1f77b4;stroke:#1f77b4;\" x=\"337.995534\" xlink:href=\"#m092c3d0ad3\" y=\"26.685424\"/>\n",
       "     <use style=\"fill:#1f77b4;stroke:#1f77b4;\" x=\"338.604261\" xlink:href=\"#m092c3d0ad3\" y=\"26.476489\"/>\n",
       "     <use style=\"fill:#1f77b4;stroke:#1f77b4;\" x=\"339.212989\" xlink:href=\"#m092c3d0ad3\" y=\"26.328707\"/>\n",
       "     <use style=\"fill:#1f77b4;stroke:#1f77b4;\" x=\"339.821716\" xlink:href=\"#m092c3d0ad3\" y=\"26.121393\"/>\n",
       "     <use style=\"fill:#1f77b4;stroke:#1f77b4;\" x=\"340.430443\" xlink:href=\"#m092c3d0ad3\" y=\"25.97497\"/>\n",
       "     <use style=\"fill:#1f77b4;stroke:#1f77b4;\" x=\"341.03917\" xlink:href=\"#m092c3d0ad3\" y=\"25.889058\"/>\n",
       "     <use style=\"fill:#1f77b4;stroke:#1f77b4;\" x=\"341.647898\" xlink:href=\"#m092c3d0ad3\" y=\"25.743727\"/>\n",
       "     <use style=\"fill:#1f77b4;stroke:#1f77b4;\" x=\"342.256625\" xlink:href=\"#m092c3d0ad3\" y=\"25.718303\"/>\n",
       "     <use style=\"fill:#1f77b4;stroke:#1f77b4;\" x=\"342.865352\" xlink:href=\"#m092c3d0ad3\" y=\"25.514399\"/>\n",
       "     <use style=\"fill:#1f77b4;stroke:#1f77b4;\" x=\"343.47408\" xlink:href=\"#m092c3d0ad3\" y=\"25.54896\"/>\n",
       "     <use style=\"fill:#1f77b4;stroke:#1f77b4;\" x=\"344.082807\" xlink:href=\"#m092c3d0ad3\" y=\"25.405528\"/>\n",
       "     <use style=\"fill:#1f77b4;stroke:#1f77b4;\" x=\"344.691534\" xlink:href=\"#m092c3d0ad3\" y=\"25.38101\"/>\n",
       "     <use style=\"fill:#1f77b4;stroke:#1f77b4;\" x=\"345.300261\" xlink:href=\"#m092c3d0ad3\" y=\"25.297553\"/>\n",
       "     <use style=\"fill:#1f77b4;stroke:#1f77b4;\" x=\"345.908989\" xlink:href=\"#m092c3d0ad3\" y=\"25.509031\"/>\n",
       "     <use style=\"fill:#1f77b4;stroke:#1f77b4;\" x=\"346.517716\" xlink:href=\"#m092c3d0ad3\" y=\"25.308057\"/>\n",
       "     <use style=\"fill:#1f77b4;stroke:#1f77b4;\" x=\"347.126443\" xlink:href=\"#m092c3d0ad3\" y=\"25.166581\"/>\n",
       "     <use style=\"fill:#1f77b4;stroke:#1f77b4;\" x=\"347.73517\" xlink:href=\"#m092c3d0ad3\" y=\"25.025681\"/>\n",
       "     <use style=\"fill:#1f77b4;stroke:#1f77b4;\" x=\"348.343898\" xlink:href=\"#m092c3d0ad3\" y=\"24.885354\"/>\n",
       "     <use style=\"fill:#1f77b4;stroke:#1f77b4;\" x=\"348.952625\" xlink:href=\"#m092c3d0ad3\" y=\"24.745596\"/>\n",
       "     <use style=\"fill:#1f77b4;stroke:#1f77b4;\" x=\"349.561352\" xlink:href=\"#m092c3d0ad3\" y=\"24.606404\"/>\n",
       "     <use style=\"fill:#1f77b4;stroke:#1f77b4;\" x=\"350.17008\" xlink:href=\"#m092c3d0ad3\" y=\"24.409689\"/>\n",
       "     <use style=\"fill:#1f77b4;stroke:#1f77b4;\" x=\"350.778807\" xlink:href=\"#m092c3d0ad3\" y=\"24.445641\"/>\n",
       "     <use style=\"fill:#1f77b4;stroke:#1f77b4;\" x=\"351.387534\" xlink:href=\"#m092c3d0ad3\" y=\"24.423597\"/>\n",
       "     <use style=\"fill:#1f77b4;stroke:#1f77b4;\" x=\"351.996261\" xlink:href=\"#m092c3d0ad3\" y=\"24.343905\"/>\n",
       "     <use style=\"fill:#1f77b4;stroke:#1f77b4;\" x=\"352.604989\" xlink:href=\"#m092c3d0ad3\" y=\"24.379773\"/>\n",
       "     <use style=\"fill:#1f77b4;stroke:#1f77b4;\" x=\"353.213716\" xlink:href=\"#m092c3d0ad3\" y=\"24.185478\"/>\n",
       "     <use style=\"fill:#1f77b4;stroke:#1f77b4;\" x=\"353.822443\" xlink:href=\"#m092c3d0ad3\" y=\"24.049349\"/>\n",
       "    </g>\n",
       "   </g>\n",
       "   <g id=\"matplotlib.axis_1\">\n",
       "    <g id=\"xtick_1\">\n",
       "     <g id=\"line2d_1\">\n",
       "      <defs>\n",
       "       <path d=\"M 0 0 \n",
       "L 0 3.5 \n",
       "\" id=\"mc06efe0b5a\" style=\"stroke:#000000;stroke-width:0.8;\"/>\n",
       "      </defs>\n",
       "      <g>\n",
       "       <use style=\"stroke:#000000;stroke-width:0.8;\" x=\"49.458807\" xlink:href=\"#mc06efe0b5a\" y=\"224.64\"/>\n",
       "      </g>\n",
       "     </g>\n",
       "     <g id=\"text_1\">\n",
       "      <!-- 0 -->\n",
       "      <g transform=\"translate(46.277557 239.238437)scale(0.1 -0.1)\">\n",
       "       <defs>\n",
       "        <path d=\"M 31.78125 66.40625 \n",
       "Q 24.171875 66.40625 20.328125 58.90625 \n",
       "Q 16.5 51.421875 16.5 36.375 \n",
       "Q 16.5 21.390625 20.328125 13.890625 \n",
       "Q 24.171875 6.390625 31.78125 6.390625 \n",
       "Q 39.453125 6.390625 43.28125 13.890625 \n",
       "Q 47.125 21.390625 47.125 36.375 \n",
       "Q 47.125 51.421875 43.28125 58.90625 \n",
       "Q 39.453125 66.40625 31.78125 66.40625 \n",
       "z\n",
       "M 31.78125 74.21875 \n",
       "Q 44.046875 74.21875 50.515625 64.515625 \n",
       "Q 56.984375 54.828125 56.984375 36.375 \n",
       "Q 56.984375 17.96875 50.515625 8.265625 \n",
       "Q 44.046875 -1.421875 31.78125 -1.421875 \n",
       "Q 19.53125 -1.421875 13.0625 8.265625 \n",
       "Q 6.59375 17.96875 6.59375 36.375 \n",
       "Q 6.59375 54.828125 13.0625 64.515625 \n",
       "Q 19.53125 74.21875 31.78125 74.21875 \n",
       "z\n",
       "\" id=\"DejaVuSans-48\"/>\n",
       "       </defs>\n",
       "       <use xlink:href=\"#DejaVuSans-48\"/>\n",
       "      </g>\n",
       "     </g>\n",
       "    </g>\n",
       "    <g id=\"xtick_2\">\n",
       "     <g id=\"line2d_2\">\n",
       "      <g>\n",
       "       <use style=\"stroke:#000000;stroke-width:0.8;\" x=\"110.331534\" xlink:href=\"#mc06efe0b5a\" y=\"224.64\"/>\n",
       "      </g>\n",
       "     </g>\n",
       "     <g id=\"text_2\">\n",
       "      <!-- 100 -->\n",
       "      <g transform=\"translate(100.787784 239.238437)scale(0.1 -0.1)\">\n",
       "       <defs>\n",
       "        <path d=\"M 12.40625 8.296875 \n",
       "L 28.515625 8.296875 \n",
       "L 28.515625 63.921875 \n",
       "L 10.984375 60.40625 \n",
       "L 10.984375 69.390625 \n",
       "L 28.421875 72.90625 \n",
       "L 38.28125 72.90625 \n",
       "L 38.28125 8.296875 \n",
       "L 54.390625 8.296875 \n",
       "L 54.390625 0 \n",
       "L 12.40625 0 \n",
       "z\n",
       "\" id=\"DejaVuSans-49\"/>\n",
       "       </defs>\n",
       "       <use xlink:href=\"#DejaVuSans-49\"/>\n",
       "       <use x=\"63.623047\" xlink:href=\"#DejaVuSans-48\"/>\n",
       "       <use x=\"127.246094\" xlink:href=\"#DejaVuSans-48\"/>\n",
       "      </g>\n",
       "     </g>\n",
       "    </g>\n",
       "    <g id=\"xtick_3\">\n",
       "     <g id=\"line2d_3\">\n",
       "      <g>\n",
       "       <use style=\"stroke:#000000;stroke-width:0.8;\" x=\"171.204261\" xlink:href=\"#mc06efe0b5a\" y=\"224.64\"/>\n",
       "      </g>\n",
       "     </g>\n",
       "     <g id=\"text_3\">\n",
       "      <!-- 200 -->\n",
       "      <g transform=\"translate(161.660511 239.238437)scale(0.1 -0.1)\">\n",
       "       <defs>\n",
       "        <path d=\"M 19.1875 8.296875 \n",
       "L 53.609375 8.296875 \n",
       "L 53.609375 0 \n",
       "L 7.328125 0 \n",
       "L 7.328125 8.296875 \n",
       "Q 12.9375 14.109375 22.625 23.890625 \n",
       "Q 32.328125 33.6875 34.8125 36.53125 \n",
       "Q 39.546875 41.84375 41.421875 45.53125 \n",
       "Q 43.3125 49.21875 43.3125 52.78125 \n",
       "Q 43.3125 58.59375 39.234375 62.25 \n",
       "Q 35.15625 65.921875 28.609375 65.921875 \n",
       "Q 23.96875 65.921875 18.8125 64.3125 \n",
       "Q 13.671875 62.703125 7.8125 59.421875 \n",
       "L 7.8125 69.390625 \n",
       "Q 13.765625 71.78125 18.9375 73 \n",
       "Q 24.125 74.21875 28.421875 74.21875 \n",
       "Q 39.75 74.21875 46.484375 68.546875 \n",
       "Q 53.21875 62.890625 53.21875 53.421875 \n",
       "Q 53.21875 48.921875 51.53125 44.890625 \n",
       "Q 49.859375 40.875 45.40625 35.40625 \n",
       "Q 44.1875 33.984375 37.640625 27.21875 \n",
       "Q 31.109375 20.453125 19.1875 8.296875 \n",
       "z\n",
       "\" id=\"DejaVuSans-50\"/>\n",
       "       </defs>\n",
       "       <use xlink:href=\"#DejaVuSans-50\"/>\n",
       "       <use x=\"63.623047\" xlink:href=\"#DejaVuSans-48\"/>\n",
       "       <use x=\"127.246094\" xlink:href=\"#DejaVuSans-48\"/>\n",
       "      </g>\n",
       "     </g>\n",
       "    </g>\n",
       "    <g id=\"xtick_4\">\n",
       "     <g id=\"line2d_4\">\n",
       "      <g>\n",
       "       <use style=\"stroke:#000000;stroke-width:0.8;\" x=\"232.076989\" xlink:href=\"#mc06efe0b5a\" y=\"224.64\"/>\n",
       "      </g>\n",
       "     </g>\n",
       "     <g id=\"text_4\">\n",
       "      <!-- 300 -->\n",
       "      <g transform=\"translate(222.533239 239.238437)scale(0.1 -0.1)\">\n",
       "       <defs>\n",
       "        <path d=\"M 40.578125 39.3125 \n",
       "Q 47.65625 37.796875 51.625 33 \n",
       "Q 55.609375 28.21875 55.609375 21.1875 \n",
       "Q 55.609375 10.40625 48.1875 4.484375 \n",
       "Q 40.765625 -1.421875 27.09375 -1.421875 \n",
       "Q 22.515625 -1.421875 17.65625 -0.515625 \n",
       "Q 12.796875 0.390625 7.625 2.203125 \n",
       "L 7.625 11.71875 \n",
       "Q 11.71875 9.328125 16.59375 8.109375 \n",
       "Q 21.484375 6.890625 26.8125 6.890625 \n",
       "Q 36.078125 6.890625 40.9375 10.546875 \n",
       "Q 45.796875 14.203125 45.796875 21.1875 \n",
       "Q 45.796875 27.640625 41.28125 31.265625 \n",
       "Q 36.765625 34.90625 28.71875 34.90625 \n",
       "L 20.21875 34.90625 \n",
       "L 20.21875 43.015625 \n",
       "L 29.109375 43.015625 \n",
       "Q 36.375 43.015625 40.234375 45.921875 \n",
       "Q 44.09375 48.828125 44.09375 54.296875 \n",
       "Q 44.09375 59.90625 40.109375 62.90625 \n",
       "Q 36.140625 65.921875 28.71875 65.921875 \n",
       "Q 24.65625 65.921875 20.015625 65.03125 \n",
       "Q 15.375 64.15625 9.8125 62.3125 \n",
       "L 9.8125 71.09375 \n",
       "Q 15.4375 72.65625 20.34375 73.4375 \n",
       "Q 25.25 74.21875 29.59375 74.21875 \n",
       "Q 40.828125 74.21875 47.359375 69.109375 \n",
       "Q 53.90625 64.015625 53.90625 55.328125 \n",
       "Q 53.90625 49.265625 50.4375 45.09375 \n",
       "Q 46.96875 40.921875 40.578125 39.3125 \n",
       "z\n",
       "\" id=\"DejaVuSans-51\"/>\n",
       "       </defs>\n",
       "       <use xlink:href=\"#DejaVuSans-51\"/>\n",
       "       <use x=\"63.623047\" xlink:href=\"#DejaVuSans-48\"/>\n",
       "       <use x=\"127.246094\" xlink:href=\"#DejaVuSans-48\"/>\n",
       "      </g>\n",
       "     </g>\n",
       "    </g>\n",
       "    <g id=\"xtick_5\">\n",
       "     <g id=\"line2d_5\">\n",
       "      <g>\n",
       "       <use style=\"stroke:#000000;stroke-width:0.8;\" x=\"292.949716\" xlink:href=\"#mc06efe0b5a\" y=\"224.64\"/>\n",
       "      </g>\n",
       "     </g>\n",
       "     <g id=\"text_5\">\n",
       "      <!-- 400 -->\n",
       "      <g transform=\"translate(283.405966 239.238437)scale(0.1 -0.1)\">\n",
       "       <defs>\n",
       "        <path d=\"M 37.796875 64.3125 \n",
       "L 12.890625 25.390625 \n",
       "L 37.796875 25.390625 \n",
       "z\n",
       "M 35.203125 72.90625 \n",
       "L 47.609375 72.90625 \n",
       "L 47.609375 25.390625 \n",
       "L 58.015625 25.390625 \n",
       "L 58.015625 17.1875 \n",
       "L 47.609375 17.1875 \n",
       "L 47.609375 0 \n",
       "L 37.796875 0 \n",
       "L 37.796875 17.1875 \n",
       "L 4.890625 17.1875 \n",
       "L 4.890625 26.703125 \n",
       "z\n",
       "\" id=\"DejaVuSans-52\"/>\n",
       "       </defs>\n",
       "       <use xlink:href=\"#DejaVuSans-52\"/>\n",
       "       <use x=\"63.623047\" xlink:href=\"#DejaVuSans-48\"/>\n",
       "       <use x=\"127.246094\" xlink:href=\"#DejaVuSans-48\"/>\n",
       "      </g>\n",
       "     </g>\n",
       "    </g>\n",
       "    <g id=\"xtick_6\">\n",
       "     <g id=\"line2d_6\">\n",
       "      <g>\n",
       "       <use style=\"stroke:#000000;stroke-width:0.8;\" x=\"353.822443\" xlink:href=\"#mc06efe0b5a\" y=\"224.64\"/>\n",
       "      </g>\n",
       "     </g>\n",
       "     <g id=\"text_6\">\n",
       "      <!-- 500 -->\n",
       "      <g transform=\"translate(344.278693 239.238437)scale(0.1 -0.1)\">\n",
       "       <defs>\n",
       "        <path d=\"M 10.796875 72.90625 \n",
       "L 49.515625 72.90625 \n",
       "L 49.515625 64.59375 \n",
       "L 19.828125 64.59375 \n",
       "L 19.828125 46.734375 \n",
       "Q 21.96875 47.46875 24.109375 47.828125 \n",
       "Q 26.265625 48.1875 28.421875 48.1875 \n",
       "Q 40.625 48.1875 47.75 41.5 \n",
       "Q 54.890625 34.8125 54.890625 23.390625 \n",
       "Q 54.890625 11.625 47.5625 5.09375 \n",
       "Q 40.234375 -1.421875 26.90625 -1.421875 \n",
       "Q 22.3125 -1.421875 17.546875 -0.640625 \n",
       "Q 12.796875 0.140625 7.71875 1.703125 \n",
       "L 7.71875 11.625 \n",
       "Q 12.109375 9.234375 16.796875 8.0625 \n",
       "Q 21.484375 6.890625 26.703125 6.890625 \n",
       "Q 35.15625 6.890625 40.078125 11.328125 \n",
       "Q 45.015625 15.765625 45.015625 23.390625 \n",
       "Q 45.015625 31 40.078125 35.4375 \n",
       "Q 35.15625 39.890625 26.703125 39.890625 \n",
       "Q 22.75 39.890625 18.8125 39.015625 \n",
       "Q 14.890625 38.140625 10.796875 36.28125 \n",
       "z\n",
       "\" id=\"DejaVuSans-53\"/>\n",
       "       </defs>\n",
       "       <use xlink:href=\"#DejaVuSans-53\"/>\n",
       "       <use x=\"63.623047\" xlink:href=\"#DejaVuSans-48\"/>\n",
       "       <use x=\"127.246094\" xlink:href=\"#DejaVuSans-48\"/>\n",
       "      </g>\n",
       "     </g>\n",
       "    </g>\n",
       "    <g id=\"text_7\">\n",
       "     <!-- Plays -->\n",
       "     <g transform=\"translate(188.608594 252.916562)scale(0.1 -0.1)\">\n",
       "      <defs>\n",
       "       <path d=\"M 19.671875 64.796875 \n",
       "L 19.671875 37.40625 \n",
       "L 32.078125 37.40625 \n",
       "Q 38.96875 37.40625 42.71875 40.96875 \n",
       "Q 46.484375 44.53125 46.484375 51.125 \n",
       "Q 46.484375 57.671875 42.71875 61.234375 \n",
       "Q 38.96875 64.796875 32.078125 64.796875 \n",
       "z\n",
       "M 9.8125 72.90625 \n",
       "L 32.078125 72.90625 \n",
       "Q 44.34375 72.90625 50.609375 67.359375 \n",
       "Q 56.890625 61.8125 56.890625 51.125 \n",
       "Q 56.890625 40.328125 50.609375 34.8125 \n",
       "Q 44.34375 29.296875 32.078125 29.296875 \n",
       "L 19.671875 29.296875 \n",
       "L 19.671875 0 \n",
       "L 9.8125 0 \n",
       "z\n",
       "\" id=\"DejaVuSans-80\"/>\n",
       "       <path d=\"M 9.421875 75.984375 \n",
       "L 18.40625 75.984375 \n",
       "L 18.40625 0 \n",
       "L 9.421875 0 \n",
       "z\n",
       "\" id=\"DejaVuSans-108\"/>\n",
       "       <path d=\"M 34.28125 27.484375 \n",
       "Q 23.390625 27.484375 19.1875 25 \n",
       "Q 14.984375 22.515625 14.984375 16.5 \n",
       "Q 14.984375 11.71875 18.140625 8.90625 \n",
       "Q 21.296875 6.109375 26.703125 6.109375 \n",
       "Q 34.1875 6.109375 38.703125 11.40625 \n",
       "Q 43.21875 16.703125 43.21875 25.484375 \n",
       "L 43.21875 27.484375 \n",
       "z\n",
       "M 52.203125 31.203125 \n",
       "L 52.203125 0 \n",
       "L 43.21875 0 \n",
       "L 43.21875 8.296875 \n",
       "Q 40.140625 3.328125 35.546875 0.953125 \n",
       "Q 30.953125 -1.421875 24.3125 -1.421875 \n",
       "Q 15.921875 -1.421875 10.953125 3.296875 \n",
       "Q 6 8.015625 6 15.921875 \n",
       "Q 6 25.140625 12.171875 29.828125 \n",
       "Q 18.359375 34.515625 30.609375 34.515625 \n",
       "L 43.21875 34.515625 \n",
       "L 43.21875 35.40625 \n",
       "Q 43.21875 41.609375 39.140625 45 \n",
       "Q 35.0625 48.390625 27.6875 48.390625 \n",
       "Q 23 48.390625 18.546875 47.265625 \n",
       "Q 14.109375 46.140625 10.015625 43.890625 \n",
       "L 10.015625 52.203125 \n",
       "Q 14.9375 54.109375 19.578125 55.046875 \n",
       "Q 24.21875 56 28.609375 56 \n",
       "Q 40.484375 56 46.34375 49.84375 \n",
       "Q 52.203125 43.703125 52.203125 31.203125 \n",
       "z\n",
       "\" id=\"DejaVuSans-97\"/>\n",
       "       <path d=\"M 32.171875 -5.078125 \n",
       "Q 28.375 -14.84375 24.75 -17.8125 \n",
       "Q 21.140625 -20.796875 15.09375 -20.796875 \n",
       "L 7.90625 -20.796875 \n",
       "L 7.90625 -13.28125 \n",
       "L 13.1875 -13.28125 \n",
       "Q 16.890625 -13.28125 18.9375 -11.515625 \n",
       "Q 21 -9.765625 23.484375 -3.21875 \n",
       "L 25.09375 0.875 \n",
       "L 2.984375 54.6875 \n",
       "L 12.5 54.6875 \n",
       "L 29.59375 11.921875 \n",
       "L 46.6875 54.6875 \n",
       "L 56.203125 54.6875 \n",
       "z\n",
       "\" id=\"DejaVuSans-121\"/>\n",
       "       <path d=\"M 44.28125 53.078125 \n",
       "L 44.28125 44.578125 \n",
       "Q 40.484375 46.53125 36.375 47.5 \n",
       "Q 32.28125 48.484375 27.875 48.484375 \n",
       "Q 21.1875 48.484375 17.84375 46.4375 \n",
       "Q 14.5 44.390625 14.5 40.28125 \n",
       "Q 14.5 37.15625 16.890625 35.375 \n",
       "Q 19.28125 33.59375 26.515625 31.984375 \n",
       "L 29.59375 31.296875 \n",
       "Q 39.15625 29.25 43.1875 25.515625 \n",
       "Q 47.21875 21.78125 47.21875 15.09375 \n",
       "Q 47.21875 7.46875 41.1875 3.015625 \n",
       "Q 35.15625 -1.421875 24.609375 -1.421875 \n",
       "Q 20.21875 -1.421875 15.453125 -0.5625 \n",
       "Q 10.6875 0.296875 5.421875 2 \n",
       "L 5.421875 11.28125 \n",
       "Q 10.40625 8.6875 15.234375 7.390625 \n",
       "Q 20.0625 6.109375 24.8125 6.109375 \n",
       "Q 31.15625 6.109375 34.5625 8.28125 \n",
       "Q 37.984375 10.453125 37.984375 14.40625 \n",
       "Q 37.984375 18.0625 35.515625 20.015625 \n",
       "Q 33.0625 21.96875 24.703125 23.78125 \n",
       "L 21.578125 24.515625 \n",
       "Q 13.234375 26.265625 9.515625 29.90625 \n",
       "Q 5.8125 33.546875 5.8125 39.890625 \n",
       "Q 5.8125 47.609375 11.28125 51.796875 \n",
       "Q 16.75 56 26.8125 56 \n",
       "Q 31.78125 56 36.171875 55.265625 \n",
       "Q 40.578125 54.546875 44.28125 53.078125 \n",
       "z\n",
       "\" id=\"DejaVuSans-115\"/>\n",
       "      </defs>\n",
       "      <use xlink:href=\"#DejaVuSans-80\"/>\n",
       "      <use x=\"60.302734\" xlink:href=\"#DejaVuSans-108\"/>\n",
       "      <use x=\"88.085938\" xlink:href=\"#DejaVuSans-97\"/>\n",
       "      <use x=\"149.365234\" xlink:href=\"#DejaVuSans-121\"/>\n",
       "      <use x=\"208.544922\" xlink:href=\"#DejaVuSans-115\"/>\n",
       "     </g>\n",
       "    </g>\n",
       "   </g>\n",
       "   <g id=\"matplotlib.axis_2\">\n",
       "    <g id=\"ytick_1\">\n",
       "     <g id=\"line2d_7\">\n",
       "      <defs>\n",
       "       <path d=\"M 0 0 \n",
       "L -3.5 0 \n",
       "\" id=\"md57b416f6e\" style=\"stroke:#000000;stroke-width:0.8;\"/>\n",
       "      </defs>\n",
       "      <g>\n",
       "       <use style=\"stroke:#000000;stroke-width:0.8;\" x=\"34.240625\" xlink:href=\"#md57b416f6e\" y=\"214.756364\"/>\n",
       "      </g>\n",
       "     </g>\n",
       "     <g id=\"text_8\">\n",
       "      <!-- 0 -->\n",
       "      <g transform=\"translate(20.878125 218.555582)scale(0.1 -0.1)\">\n",
       "       <use xlink:href=\"#DejaVuSans-48\"/>\n",
       "      </g>\n",
       "     </g>\n",
       "    </g>\n",
       "    <g id=\"ytick_2\">\n",
       "     <g id=\"line2d_8\">\n",
       "      <g>\n",
       "       <use style=\"stroke:#000000;stroke-width:0.8;\" x=\"34.240625\" xlink:href=\"#md57b416f6e\" y=\"186.003967\"/>\n",
       "      </g>\n",
       "     </g>\n",
       "     <g id=\"text_9\">\n",
       "      <!-- 1 -->\n",
       "      <g transform=\"translate(20.878125 189.803186)scale(0.1 -0.1)\">\n",
       "       <use xlink:href=\"#DejaVuSans-49\"/>\n",
       "      </g>\n",
       "     </g>\n",
       "    </g>\n",
       "    <g id=\"ytick_3\">\n",
       "     <g id=\"line2d_9\">\n",
       "      <g>\n",
       "       <use style=\"stroke:#000000;stroke-width:0.8;\" x=\"34.240625\" xlink:href=\"#md57b416f6e\" y=\"157.25157\"/>\n",
       "      </g>\n",
       "     </g>\n",
       "     <g id=\"text_10\">\n",
       "      <!-- 2 -->\n",
       "      <g transform=\"translate(20.878125 161.050789)scale(0.1 -0.1)\">\n",
       "       <use xlink:href=\"#DejaVuSans-50\"/>\n",
       "      </g>\n",
       "     </g>\n",
       "    </g>\n",
       "    <g id=\"ytick_4\">\n",
       "     <g id=\"line2d_10\">\n",
       "      <g>\n",
       "       <use style=\"stroke:#000000;stroke-width:0.8;\" x=\"34.240625\" xlink:href=\"#md57b416f6e\" y=\"128.499174\"/>\n",
       "      </g>\n",
       "     </g>\n",
       "     <g id=\"text_11\">\n",
       "      <!-- 3 -->\n",
       "      <g transform=\"translate(20.878125 132.298392)scale(0.1 -0.1)\">\n",
       "       <use xlink:href=\"#DejaVuSans-51\"/>\n",
       "      </g>\n",
       "     </g>\n",
       "    </g>\n",
       "    <g id=\"ytick_5\">\n",
       "     <g id=\"line2d_11\">\n",
       "      <g>\n",
       "       <use style=\"stroke:#000000;stroke-width:0.8;\" x=\"34.240625\" xlink:href=\"#md57b416f6e\" y=\"99.746777\"/>\n",
       "      </g>\n",
       "     </g>\n",
       "     <g id=\"text_12\">\n",
       "      <!-- 4 -->\n",
       "      <g transform=\"translate(20.878125 103.545996)scale(0.1 -0.1)\">\n",
       "       <use xlink:href=\"#DejaVuSans-52\"/>\n",
       "      </g>\n",
       "     </g>\n",
       "    </g>\n",
       "    <g id=\"ytick_6\">\n",
       "     <g id=\"line2d_12\">\n",
       "      <g>\n",
       "       <use style=\"stroke:#000000;stroke-width:0.8;\" x=\"34.240625\" xlink:href=\"#md57b416f6e\" y=\"70.99438\"/>\n",
       "      </g>\n",
       "     </g>\n",
       "     <g id=\"text_13\">\n",
       "      <!-- 5 -->\n",
       "      <g transform=\"translate(20.878125 74.793599)scale(0.1 -0.1)\">\n",
       "       <use xlink:href=\"#DejaVuSans-53\"/>\n",
       "      </g>\n",
       "     </g>\n",
       "    </g>\n",
       "    <g id=\"ytick_7\">\n",
       "     <g id=\"line2d_13\">\n",
       "      <g>\n",
       "       <use style=\"stroke:#000000;stroke-width:0.8;\" x=\"34.240625\" xlink:href=\"#md57b416f6e\" y=\"42.241983\"/>\n",
       "      </g>\n",
       "     </g>\n",
       "     <g id=\"text_14\">\n",
       "      <!-- 6 -->\n",
       "      <g transform=\"translate(20.878125 46.041202)scale(0.1 -0.1)\">\n",
       "       <defs>\n",
       "        <path d=\"M 33.015625 40.375 \n",
       "Q 26.375 40.375 22.484375 35.828125 \n",
       "Q 18.609375 31.296875 18.609375 23.390625 \n",
       "Q 18.609375 15.53125 22.484375 10.953125 \n",
       "Q 26.375 6.390625 33.015625 6.390625 \n",
       "Q 39.65625 6.390625 43.53125 10.953125 \n",
       "Q 47.40625 15.53125 47.40625 23.390625 \n",
       "Q 47.40625 31.296875 43.53125 35.828125 \n",
       "Q 39.65625 40.375 33.015625 40.375 \n",
       "z\n",
       "M 52.59375 71.296875 \n",
       "L 52.59375 62.3125 \n",
       "Q 48.875 64.0625 45.09375 64.984375 \n",
       "Q 41.3125 65.921875 37.59375 65.921875 \n",
       "Q 27.828125 65.921875 22.671875 59.328125 \n",
       "Q 17.53125 52.734375 16.796875 39.40625 \n",
       "Q 19.671875 43.65625 24.015625 45.921875 \n",
       "Q 28.375 48.1875 33.59375 48.1875 \n",
       "Q 44.578125 48.1875 50.953125 41.515625 \n",
       "Q 57.328125 34.859375 57.328125 23.390625 \n",
       "Q 57.328125 12.15625 50.6875 5.359375 \n",
       "Q 44.046875 -1.421875 33.015625 -1.421875 \n",
       "Q 20.359375 -1.421875 13.671875 8.265625 \n",
       "Q 6.984375 17.96875 6.984375 36.375 \n",
       "Q 6.984375 53.65625 15.1875 63.9375 \n",
       "Q 23.390625 74.21875 37.203125 74.21875 \n",
       "Q 40.921875 74.21875 44.703125 73.484375 \n",
       "Q 48.484375 72.75 52.59375 71.296875 \n",
       "z\n",
       "\" id=\"DejaVuSans-54\"/>\n",
       "       </defs>\n",
       "       <use xlink:href=\"#DejaVuSans-54\"/>\n",
       "      </g>\n",
       "     </g>\n",
       "    </g>\n",
       "    <g id=\"ytick_8\">\n",
       "     <g id=\"line2d_14\">\n",
       "      <g>\n",
       "       <use style=\"stroke:#000000;stroke-width:0.8;\" x=\"34.240625\" xlink:href=\"#md57b416f6e\" y=\"13.489587\"/>\n",
       "      </g>\n",
       "     </g>\n",
       "     <g id=\"text_15\">\n",
       "      <!-- 7 -->\n",
       "      <g transform=\"translate(20.878125 17.288806)scale(0.1 -0.1)\">\n",
       "       <defs>\n",
       "        <path d=\"M 8.203125 72.90625 \n",
       "L 55.078125 72.90625 \n",
       "L 55.078125 68.703125 \n",
       "L 28.609375 0 \n",
       "L 18.3125 0 \n",
       "L 43.21875 64.59375 \n",
       "L 8.203125 64.59375 \n",
       "z\n",
       "\" id=\"DejaVuSans-55\"/>\n",
       "       </defs>\n",
       "       <use xlink:href=\"#DejaVuSans-55\"/>\n",
       "      </g>\n",
       "     </g>\n",
       "    </g>\n",
       "    <g id=\"text_16\">\n",
       "     <!-- Avg Reward -->\n",
       "     <g transform=\"translate(14.798437 145.390312)rotate(-90)scale(0.1 -0.1)\">\n",
       "      <defs>\n",
       "       <path d=\"M 34.1875 63.1875 \n",
       "L 20.796875 26.90625 \n",
       "L 47.609375 26.90625 \n",
       "z\n",
       "M 28.609375 72.90625 \n",
       "L 39.796875 72.90625 \n",
       "L 67.578125 0 \n",
       "L 57.328125 0 \n",
       "L 50.6875 18.703125 \n",
       "L 17.828125 18.703125 \n",
       "L 11.1875 0 \n",
       "L 0.78125 0 \n",
       "z\n",
       "\" id=\"DejaVuSans-65\"/>\n",
       "       <path d=\"M 2.984375 54.6875 \n",
       "L 12.5 54.6875 \n",
       "L 29.59375 8.796875 \n",
       "L 46.6875 54.6875 \n",
       "L 56.203125 54.6875 \n",
       "L 35.6875 0 \n",
       "L 23.484375 0 \n",
       "z\n",
       "\" id=\"DejaVuSans-118\"/>\n",
       "       <path d=\"M 45.40625 27.984375 \n",
       "Q 45.40625 37.75 41.375 43.109375 \n",
       "Q 37.359375 48.484375 30.078125 48.484375 \n",
       "Q 22.859375 48.484375 18.828125 43.109375 \n",
       "Q 14.796875 37.75 14.796875 27.984375 \n",
       "Q 14.796875 18.265625 18.828125 12.890625 \n",
       "Q 22.859375 7.515625 30.078125 7.515625 \n",
       "Q 37.359375 7.515625 41.375 12.890625 \n",
       "Q 45.40625 18.265625 45.40625 27.984375 \n",
       "z\n",
       "M 54.390625 6.78125 \n",
       "Q 54.390625 -7.171875 48.1875 -13.984375 \n",
       "Q 42 -20.796875 29.203125 -20.796875 \n",
       "Q 24.46875 -20.796875 20.265625 -20.09375 \n",
       "Q 16.0625 -19.390625 12.109375 -17.921875 \n",
       "L 12.109375 -9.1875 \n",
       "Q 16.0625 -11.328125 19.921875 -12.34375 \n",
       "Q 23.78125 -13.375 27.78125 -13.375 \n",
       "Q 36.625 -13.375 41.015625 -8.765625 \n",
       "Q 45.40625 -4.15625 45.40625 5.171875 \n",
       "L 45.40625 9.625 \n",
       "Q 42.625 4.78125 38.28125 2.390625 \n",
       "Q 33.9375 0 27.875 0 \n",
       "Q 17.828125 0 11.671875 7.65625 \n",
       "Q 5.515625 15.328125 5.515625 27.984375 \n",
       "Q 5.515625 40.671875 11.671875 48.328125 \n",
       "Q 17.828125 56 27.875 56 \n",
       "Q 33.9375 56 38.28125 53.609375 \n",
       "Q 42.625 51.21875 45.40625 46.390625 \n",
       "L 45.40625 54.6875 \n",
       "L 54.390625 54.6875 \n",
       "z\n",
       "\" id=\"DejaVuSans-103\"/>\n",
       "       <path id=\"DejaVuSans-32\"/>\n",
       "       <path d=\"M 44.390625 34.1875 \n",
       "Q 47.5625 33.109375 50.5625 29.59375 \n",
       "Q 53.5625 26.078125 56.59375 19.921875 \n",
       "L 66.609375 0 \n",
       "L 56 0 \n",
       "L 46.6875 18.703125 \n",
       "Q 43.0625 26.03125 39.671875 28.421875 \n",
       "Q 36.28125 30.8125 30.421875 30.8125 \n",
       "L 19.671875 30.8125 \n",
       "L 19.671875 0 \n",
       "L 9.8125 0 \n",
       "L 9.8125 72.90625 \n",
       "L 32.078125 72.90625 \n",
       "Q 44.578125 72.90625 50.734375 67.671875 \n",
       "Q 56.890625 62.453125 56.890625 51.90625 \n",
       "Q 56.890625 45.015625 53.6875 40.46875 \n",
       "Q 50.484375 35.9375 44.390625 34.1875 \n",
       "z\n",
       "M 19.671875 64.796875 \n",
       "L 19.671875 38.921875 \n",
       "L 32.078125 38.921875 \n",
       "Q 39.203125 38.921875 42.84375 42.21875 \n",
       "Q 46.484375 45.515625 46.484375 51.90625 \n",
       "Q 46.484375 58.296875 42.84375 61.546875 \n",
       "Q 39.203125 64.796875 32.078125 64.796875 \n",
       "z\n",
       "\" id=\"DejaVuSans-82\"/>\n",
       "       <path d=\"M 56.203125 29.59375 \n",
       "L 56.203125 25.203125 \n",
       "L 14.890625 25.203125 \n",
       "Q 15.484375 15.921875 20.484375 11.0625 \n",
       "Q 25.484375 6.203125 34.421875 6.203125 \n",
       "Q 39.59375 6.203125 44.453125 7.46875 \n",
       "Q 49.3125 8.734375 54.109375 11.28125 \n",
       "L 54.109375 2.78125 \n",
       "Q 49.265625 0.734375 44.1875 -0.34375 \n",
       "Q 39.109375 -1.421875 33.890625 -1.421875 \n",
       "Q 20.796875 -1.421875 13.15625 6.1875 \n",
       "Q 5.515625 13.8125 5.515625 26.8125 \n",
       "Q 5.515625 40.234375 12.765625 48.109375 \n",
       "Q 20.015625 56 32.328125 56 \n",
       "Q 43.359375 56 49.78125 48.890625 \n",
       "Q 56.203125 41.796875 56.203125 29.59375 \n",
       "z\n",
       "M 47.21875 32.234375 \n",
       "Q 47.125 39.59375 43.09375 43.984375 \n",
       "Q 39.0625 48.390625 32.421875 48.390625 \n",
       "Q 24.90625 48.390625 20.390625 44.140625 \n",
       "Q 15.875 39.890625 15.1875 32.171875 \n",
       "z\n",
       "\" id=\"DejaVuSans-101\"/>\n",
       "       <path d=\"M 4.203125 54.6875 \n",
       "L 13.1875 54.6875 \n",
       "L 24.421875 12.015625 \n",
       "L 35.59375 54.6875 \n",
       "L 46.1875 54.6875 \n",
       "L 57.421875 12.015625 \n",
       "L 68.609375 54.6875 \n",
       "L 77.59375 54.6875 \n",
       "L 63.28125 0 \n",
       "L 52.6875 0 \n",
       "L 40.921875 44.828125 \n",
       "L 29.109375 0 \n",
       "L 18.5 0 \n",
       "z\n",
       "\" id=\"DejaVuSans-119\"/>\n",
       "       <path d=\"M 41.109375 46.296875 \n",
       "Q 39.59375 47.171875 37.8125 47.578125 \n",
       "Q 36.03125 48 33.890625 48 \n",
       "Q 26.265625 48 22.1875 43.046875 \n",
       "Q 18.109375 38.09375 18.109375 28.8125 \n",
       "L 18.109375 0 \n",
       "L 9.078125 0 \n",
       "L 9.078125 54.6875 \n",
       "L 18.109375 54.6875 \n",
       "L 18.109375 46.1875 \n",
       "Q 20.953125 51.171875 25.484375 53.578125 \n",
       "Q 30.03125 56 36.53125 56 \n",
       "Q 37.453125 56 38.578125 55.875 \n",
       "Q 39.703125 55.765625 41.0625 55.515625 \n",
       "z\n",
       "\" id=\"DejaVuSans-114\"/>\n",
       "       <path d=\"M 45.40625 46.390625 \n",
       "L 45.40625 75.984375 \n",
       "L 54.390625 75.984375 \n",
       "L 54.390625 0 \n",
       "L 45.40625 0 \n",
       "L 45.40625 8.203125 \n",
       "Q 42.578125 3.328125 38.25 0.953125 \n",
       "Q 33.9375 -1.421875 27.875 -1.421875 \n",
       "Q 17.96875 -1.421875 11.734375 6.484375 \n",
       "Q 5.515625 14.40625 5.515625 27.296875 \n",
       "Q 5.515625 40.1875 11.734375 48.09375 \n",
       "Q 17.96875 56 27.875 56 \n",
       "Q 33.9375 56 38.25 53.625 \n",
       "Q 42.578125 51.265625 45.40625 46.390625 \n",
       "z\n",
       "M 14.796875 27.296875 \n",
       "Q 14.796875 17.390625 18.875 11.75 \n",
       "Q 22.953125 6.109375 30.078125 6.109375 \n",
       "Q 37.203125 6.109375 41.296875 11.75 \n",
       "Q 45.40625 17.390625 45.40625 27.296875 \n",
       "Q 45.40625 37.203125 41.296875 42.84375 \n",
       "Q 37.203125 48.484375 30.078125 48.484375 \n",
       "Q 22.953125 48.484375 18.875 42.84375 \n",
       "Q 14.796875 37.203125 14.796875 27.296875 \n",
       "z\n",
       "\" id=\"DejaVuSans-100\"/>\n",
       "      </defs>\n",
       "      <use xlink:href=\"#DejaVuSans-65\"/>\n",
       "      <use x=\"62.533203\" xlink:href=\"#DejaVuSans-118\"/>\n",
       "      <use x=\"121.712891\" xlink:href=\"#DejaVuSans-103\"/>\n",
       "      <use x=\"185.189453\" xlink:href=\"#DejaVuSans-32\"/>\n",
       "      <use x=\"216.976562\" xlink:href=\"#DejaVuSans-82\"/>\n",
       "      <use x=\"281.958984\" xlink:href=\"#DejaVuSans-101\"/>\n",
       "      <use x=\"343.482422\" xlink:href=\"#DejaVuSans-119\"/>\n",
       "      <use x=\"425.269531\" xlink:href=\"#DejaVuSans-97\"/>\n",
       "      <use x=\"486.548828\" xlink:href=\"#DejaVuSans-114\"/>\n",
       "      <use x=\"525.912109\" xlink:href=\"#DejaVuSans-100\"/>\n",
       "     </g>\n",
       "    </g>\n",
       "   </g>\n",
       "   <g id=\"patch_3\">\n",
       "    <path d=\"M 34.240625 224.64 \n",
       "L 34.240625 7.2 \n",
       "\" style=\"fill:none;stroke:#000000;stroke-linecap:square;stroke-linejoin:miter;stroke-width:0.8;\"/>\n",
       "   </g>\n",
       "   <g id=\"patch_4\">\n",
       "    <path d=\"M 369.040625 224.64 \n",
       "L 369.040625 7.2 \n",
       "\" style=\"fill:none;stroke:#000000;stroke-linecap:square;stroke-linejoin:miter;stroke-width:0.8;\"/>\n",
       "   </g>\n",
       "   <g id=\"patch_5\">\n",
       "    <path d=\"M 34.240625 224.64 \n",
       "L 369.040625 224.64 \n",
       "\" style=\"fill:none;stroke:#000000;stroke-linecap:square;stroke-linejoin:miter;stroke-width:0.8;\"/>\n",
       "   </g>\n",
       "   <g id=\"patch_6\">\n",
       "    <path d=\"M 34.240625 7.2 \n",
       "L 369.040625 7.2 \n",
       "\" style=\"fill:none;stroke:#000000;stroke-linecap:square;stroke-linejoin:miter;stroke-width:0.8;\"/>\n",
       "   </g>\n",
       "  </g>\n",
       " </g>\n",
       " <defs>\n",
       "  <clipPath id=\"p76b6180c57\">\n",
       "   <rect height=\"217.44\" width=\"334.8\" x=\"34.240625\" y=\"7.2\"/>\n",
       "  </clipPath>\n",
       " </defs>\n",
       "</svg>\n"
      ],
      "text/plain": [
       "<Figure size 432x288 with 1 Axes>"
      ]
     },
     "metadata": {
      "needs_background": "light"
     },
     "output_type": "display_data"
    },
    {
     "name": "stdout",
     "output_type": "stream",
     "text": [
      "time: 570 ms (started: 2021-09-12 01:40:55 +08:00)\n"
     ]
    }
   ],
   "source": [
    "n = 10\n",
    "probs = np.random.rand(n)\n",
    "record = np.zeros((n,2))\n",
    "\n",
    "fig,ax = plt.subplots(1,1)\n",
    "ax.set_xlabel(\"Plays\")\n",
    "ax.set_ylabel(\"Avg Reward\")\n",
    "#fig.set_size_inches(9,5)\n",
    "\n",
    "rewards = [0]\n",
    "for i in range(500):\n",
    "    p = softmax(record[:,1]) \n",
    "    choice = np.random.choice(np.arange(n),p=p) \n",
    "    r = get_reward(probs[choice])\n",
    "    record = update_record(record,choice,r)\n",
    "    mean_reward = ((i+1) * rewards[-1] + r)/(i+2)\n",
    "    rewards.append(mean_reward)\n",
    "ax.scatter(np.arange(len(rewards)),rewards)"
   ]
  },
  {
   "cell_type": "markdown",
   "metadata": {},
   "source": [
    "从图 2.4 可以看出，对于这个问题，Softmax 动作选择似乎比 epsilon-greedy 方法做得更好； 看起来它更快地收敛于最优策略。 softmax 的缺点是必须手动选择 τ 参数。 这里的 Softmax 对 τ 非常敏感，需要花一些时间才能找到合适的值。 显然，对于 epsilon-greedy，我们必须设置 epsilon 参数，但选择该参数要直观得多。"
   ]
  },
  {
   "cell_type": "markdown",
   "metadata": {},
   "source": [
    "## 应用bandits优化广告展示位置"
   ]
  },
  {
   "cell_type": "markdown",
   "metadata": {},
   "source": [
    "老虎机的例子似乎不是一个特别现实的问题，但如果我们添加一个元素，它确实成为一个实际的商业问题，其中一个很大的例子是广告投放。 每当您访问带有广告的网站时，放置广告的公司都希望最大限度地提高您点击它们的可能性。"
   ]
  },
  {
   "cell_type": "markdown",
   "metadata": {},
   "source": [
    "假设我们管理着 10 个电子商务网站，每个网站都专注于销售不同类别的零售商品，例如电脑、鞋子、珠宝等。我们希望通过将在我们的一个网站上购物的客户推荐到另一个网站来增加销售额 他们可能会感兴趣。当客户在我们网络中的某个特定站点结账时，我们将向我们的其他站点之一展示广告，希望他们去那里购买其他东西。 或者，我们可以在同一网站上放置另一个产品的广告。 我们的问题是我们不知道应该向用户推荐哪些网站。 我们可以尝试放置随机广告，但我们怀疑有可能采用更焦化的方法。"
   ]
  },
  {
   "cell_type": "markdown",
   "metadata": {},
   "source": [
    "### 语境bandits"
   ]
  },
  {
   "cell_type": "markdown",
   "metadata": {},
   "source": [
    "也许你可以看到这只是给我们在本章开头考虑的 n-armed ban dit 问题增加了一层新的复杂性。在每次玩游戏时（每次客户在特定网站上结账时），我们可以采取 n = 10 种可能的操作，对应于我们可以放置的 10 种不同类型的广告。不同之处在于，要放置的最佳广告可能取决于当前客户所在的网络站点。例如，在我们的珠宝网站上结账的客户可能更愿意购买一双新鞋来搭配他们的新钻石项链，而不是购买新笔记本电脑。因此，我们的问题是弄清楚特定站点如何与特定广告相关联。\n",
    "\n",
    "这将我们引向状态空间。我们开始的 n-armed bandit 问题有一个 n 元素动作空间（所有可能动作的空间或集合），但没有状态的概念。也就是说，环境中没有信息可以帮助我们选择一个好的手臂。我们可以找出哪些臂好用的唯一方法是反复试验。在广告问题中，我们知道用户正在特定网站上购买东西，这可能会为我们提供有关该用户偏好的一些信息，并有助于指导我们决定投放哪个广告。我们将此上下文信息称为状态，并将此类新问题称为上下文bandits（见图 2.5）。"
   ]
  },
  {
   "cell_type": "markdown",
   "metadata": {},
   "source": [
    "![](https://tva1.sinaimg.cn/large/008i3skNly1gue3qyg24lj61h80nsq7902.jpg)"
   ]
  },
  {
   "cell_type": "markdown",
   "metadata": {},
   "source": [
    "> 定义 游戏中的状态（或者更普遍的强化学习问题）是环境中可用于做出决策的一组可用信息。"
   ]
  },
  {
   "cell_type": "markdown",
   "metadata": {},
   "source": [
    "### 状态、动作、奖励\n",
    "在我们继续之前，让我们合并一些我们迄今为止介绍过的术语和概念。 强化学习算法试图以计算机可以理解和计算的方式对世界进行建模。 特别是，RL 算法对世界进行建模，就好像它只涉及一组状态 S（状态空间），这是一组关于环境的特征，一组动作 A（动作空间），可以在 给定的状态，以及在特定状态下采取行动而给予的奖励 r。 当我们谈到在特定状态下采取特定动作时，我们通常称其为状态-动作对 (s, a)。"
   ]
  },
  {
   "cell_type": "markdown",
   "metadata": {},
   "source": [
    "> 注意 任何 RL 算法的目标都是在整个剧集的过程中最大化奖励。"
   ]
  },
  {
   "cell_type": "markdown",
   "metadata": {},
   "source": [
    "由于我们最初的 n-armed bandit 问题没有状态空间，只有动作空间，我们只需要学习动作和奖励之间的关系。 我们通过使用查找表来存储我们为特定行为获得奖励的经验来了解这种关系。 我们存储了动作-奖励对 ($a_k$, $r_k$)，其中在游戏 k 中的奖励是与采取动作$a_k$ 相关的所有过去游戏的平均值。"
   ]
  },
  {
   "cell_type": "markdown",
   "metadata": {},
   "source": [
    "在我们的 n-armed bandit 问题中，我们只有 10 个动作，所以一个 10 行的查找表是非常合理的。但是当我们引入一个带有上下文禁令的状态空间时，我们开始得到可能的状态-动作-奖励元组的组合爆炸。例如，如果我们有一个包含 100 个状态的状态空间，并且每个状态与 10 个动作相关联，那么我们需要存储和重新计算 1,000 条不同的数据。在本书中我们将考虑的大多数问题中，状态空间非常大，因此简单的查找表是不可行的。\n",
    "\n",
    "这就是深度学习的用武之地。当它们得到适当的训练时，神经网络非常擅长学习抽象，摆脱无意义的细节。他们可以学习数据中的可组合模式和规律，这样他们就可以有效地压缩大量数据，同时保留重要信息。因此，神经网络可用于学习状态-动作对和奖励之间的复杂关系，而我们不必将所有此类体验存储为原始记忆。我们经常将基于某些信息做出决策的 RL 算法部分称为agent。为了解决我们一直在讨论的上下文老虎机，我们将使用神经网络作为我们的agent。"
   ]
  },
  {
   "cell_type": "markdown",
   "metadata": {},
   "source": [
    "不过，首先，我们将花点时间介绍 PyTorch，我们将在整本书中使用深度学习框架来构建神经网络。"
   ]
  },
  {
   "cell_type": "markdown",
   "metadata": {},
   "source": [
    "## 使用 PyTorch 构建网络\n",
    "目前有许多深度学习框架可用，其中 TensorFlow、MXNet 和 PyTorch 可能是最受欢迎的。 我们选择在本书中使用 PyTorch，因为它很简单。 它允许您编写具有原生外观的 Python 代码，并且仍然可以获得良好框架的所有优点，例如自动微分和内置优化。 我们将在此处快速介绍 PyTorch，但我们将在进行过程中进行更多解释。 如果您需要复习基本的深度学习，请参阅附录，其中我们对深度学习进行了相当详细的回顾，并对 PyTorch 进行了更全面的介绍。\n",
    " \n",
    "如果您对 numpy 多维数组感到满意，那么您几乎可以用 PyTorch 替换 numpy 所做的一切。 例如，这里我们在 numpy 中实例化一个 2 × 3 矩阵："
   ]
  },
  {
   "cell_type": "code",
   "execution_count": 30,
   "metadata": {},
   "outputs": [
    {
     "name": "stdout",
     "output_type": "stream",
     "text": [
      "time: 2.1 ms (started: 2021-09-12 20:18:33 +08:00)\n"
     ]
    }
   ],
   "source": [
    "import numpy"
   ]
  },
  {
   "cell_type": "code",
   "execution_count": 31,
   "metadata": {},
   "outputs": [
    {
     "data": {
      "text/plain": [
       "array([[1, 2, 3],\n",
       "       [4, 5, 6]])"
      ]
     },
     "execution_count": 31,
     "metadata": {},
     "output_type": "execute_result"
    },
    {
     "name": "stdout",
     "output_type": "stream",
     "text": [
      "time: 4.71 ms (started: 2021-09-12 20:18:41 +08:00)\n"
     ]
    }
   ],
   "source": [
    "numpy.array([[1, 2, 3], [4, 5, 6]])"
   ]
  },
  {
   "cell_type": "markdown",
   "metadata": {},
   "source": [
    "以下是使用 PyTorch 实例化相同矩阵的方法："
   ]
  },
  {
   "cell_type": "code",
   "execution_count": 32,
   "metadata": {},
   "outputs": [
    {
     "data": {
      "text/plain": [
       "tensor([[1., 2., 3.],\n",
       "        [4., 5., 6.]])"
      ]
     },
     "execution_count": 32,
     "metadata": {},
     "output_type": "execute_result"
    },
    {
     "name": "stdout",
     "output_type": "stream",
     "text": [
      "time: 822 ms (started: 2021-09-12 20:19:26 +08:00)\n"
     ]
    }
   ],
   "source": [
    "import torch\n",
    "torch.Tensor([[1, 2, 3], [4, 5, 6]])"
   ]
  },
  {
   "cell_type": "code",
   "execution_count": 33,
   "metadata": {},
   "outputs": [
    {
     "data": {
      "text/plain": [
       "tensor([[1, 2, 3],\n",
       "        [4, 5, 6]])"
      ]
     },
     "execution_count": 33,
     "metadata": {},
     "output_type": "execute_result"
    },
    {
     "name": "stdout",
     "output_type": "stream",
     "text": [
      "time: 4.18 ms (started: 2021-09-12 20:19:33 +08:00)\n"
     ]
    }
   ],
   "source": [
    "torch.tensor([[1, 2, 3], [4, 5, 6]])"
   ]
  },
  {
   "cell_type": "markdown",
   "metadata": {},
   "source": [
    "PyTorch 代码与 numpy 版本基本相同，只是在 PyTorch 中我们称其为多维数组张量。不出所料，这也是 TensorFlow 和其他框架中使用的术语，因此习惯于看到称为张量的多维数组。我们可以并且确实参考张量阶，这基本上是张量有多少个索引维度。这有点令人困惑，因为有时我们谈到向量的维度，在这种情况下，我们指的是向量的长度。但是当我们谈到张量的阶时，我们指的是它有多少个索引。一个向量有一个索引，这意味着每个元素都可以通过一个索引值“寻址”，所以它是一个 1 阶张量或简称 1-张量。矩阵有两个索引，每个维度一个，所以它是一个 2 张量。高阶张量可以称为 k-Tensor，其中 k 是阶数，非负整数。另一方面，单个数字是 0 张量，也称为标量，因为它没有索引。"
   ]
  },
  {
   "cell_type": "markdown",
   "metadata": {},
   "source": [
    "### 自动微分\n",
    "我们需要而 numpy 不提供的 PyTorch 最重要的功能是自动微分和优化。 假设我们想建立一个简单的线性模型来预测一些感兴趣的数据。 我们可以使用普通的类似 numpy 的语法轻松定义模型："
   ]
  },
  {
   "cell_type": "code",
   "execution_count": 37,
   "metadata": {},
   "outputs": [
    {
     "data": {
      "text/plain": [
       "tensor([ 57.0674, 114.1348])"
      ]
     },
     "execution_count": 37,
     "metadata": {},
     "output_type": "execute_result"
    },
    {
     "name": "stdout",
     "output_type": "stream",
     "text": [
      "time: 5.27 ms (started: 2021-09-12 20:25:10 +08:00)\n"
     ]
    }
   ],
   "source": [
    "x = torch.Tensor([2,4]) #input data\n",
    "y_known = torch.Tensor([2,2])\n",
    "m = torch.randn(2, requires_grad=True) #parameter 1\n",
    "b = torch.randn(1, requires_grad=True) #parameter 2\n",
    "y = x@m+b #linear model\n",
    "loss = (torch.sum(y_known - y))**2 #loss function\n",
    "loss.backward() #calculate gradients\n",
    "m.grad"
   ]
  },
  {
   "cell_type": "markdown",
   "metadata": {},
   "source": [
    "您只需将 requires_grad=True 参数提供给要计算梯度的 PyTorch 张量，然后在计算图中的最后一个节点上调用 backward() 方法，这将通过 requires_grad=True 的所有节点反向传播梯度。 然后，您可以使用自动计算的梯度进行梯度下降。"
   ]
  },
  {
   "cell_type": "markdown",
   "metadata": {},
   "source": [
    "### 构建模型\n",
    "对于本书的大部分内容，我们不会直接处理自动计算的梯度。 相反，我们将使用 PyTorch 的 nn 模块轻松设置前馈神经网络模型，然后使用内置优化算法自动训练神经网络，而无需手动指定反向传播和梯度下降的机制。 这是一个带有优化器设置的简单两层神经网络："
   ]
  },
  {
   "cell_type": "code",
   "execution_count": 40,
   "metadata": {},
   "outputs": [
    {
     "name": "stdout",
     "output_type": "stream",
     "text": [
      "time: 1.36 s (started: 2021-09-12 20:28:26 +08:00)\n"
     ]
    }
   ],
   "source": [
    "import torchkeras"
   ]
  },
  {
   "cell_type": "code",
   "execution_count": 38,
   "metadata": {},
   "outputs": [
    {
     "name": "stdout",
     "output_type": "stream",
     "text": [
      "time: 3.11 ms (started: 2021-09-12 20:26:43 +08:00)\n"
     ]
    }
   ],
   "source": [
    "model = torch.nn.Sequential(\n",
    " torch.nn.Linear(10, 150),\n",
    " torch.nn.ReLU(),\n",
    " torch.nn.Linear(150, 4),\n",
    " torch.nn.ReLU(),\n",
    ")\n",
    "loss_fn = torch.nn.MSELoss()\n",
    "optimizer = torch.optim.Adam(model.parameters(), lr=0.01)"
   ]
  },
  {
   "cell_type": "code",
   "execution_count": 48,
   "metadata": {},
   "outputs": [
    {
     "name": "stdout",
     "output_type": "stream",
     "text": [
      "----------------------------------------------------------------\n",
      "        Layer (type)               Output Shape         Param #\n",
      "================================================================\n",
      "            Linear-1                  [-1, 150]           1,650\n",
      "              ReLU-2                  [-1, 150]               0\n",
      "            Linear-3                    [-1, 4]             604\n",
      "              ReLU-4                    [-1, 4]               0\n",
      "================================================================\n",
      "Total params: 2,254\n",
      "Trainable params: 2,254\n",
      "Non-trainable params: 0\n",
      "----------------------------------------------------------------\n",
      "Input size (MB): 0.000038\n",
      "Forward/backward pass size (MB): 0.002350\n",
      "Params size (MB): 0.008598\n",
      "Estimated Total Size (MB): 0.010986\n",
      "----------------------------------------------------------------\n",
      "time: 6.57 ms (started: 2021-09-12 20:29:50 +08:00)\n"
     ]
    }
   ],
   "source": [
    "# 网络参数\n",
    "torchkeras.summary(model, input_shape=(10,))"
   ]
  },
  {
   "cell_type": "markdown",
   "metadata": {},
   "source": [
    "我们已经建立了一个带有 ReLU（修正线性单元）激活函数的两层模型，定义了一个均方误差损失函数，并设置了一个优化器。 鉴于我们有一些标记的训练数据，我们训练这个模型所要做的就是开始一个训练循环："
   ]
  },
  {
   "cell_type": "code",
   "execution_count": null,
   "metadata": {},
   "outputs": [],
   "source": [
    "for step in range(100):\n",
    "    y_pred = model(x)\n",
    "    loss = loss_fn(y_pred, y_correct)\n",
    "    optimizer.zero_grad()\n",
    "    loss.backward()\n",
    "    optimizer.step()"
   ]
  },
  {
   "cell_type": "markdown",
   "metadata": {},
   "source": [
    "x 变量是模型的输入数据。 y_correct 变量是代表标记的正确输出的张量。 我们使用模型进行预测，计算损失，然后在计算图中的最后一个节点（几乎总是损失函数）上使用 backward() 方法计算梯度。 然后我们只需在优化器上运行 step() 方法，它将运行单步梯度下降。 如果我们需要构建比序列模型更复杂的神经网络架构，我们可以编写我们自己的 Python 类，继承自 PyTorch 的模块类，并使用它："
   ]
  },
  {
   "cell_type": "code",
   "execution_count": 50,
   "metadata": {},
   "outputs": [
    {
     "name": "stdout",
     "output_type": "stream",
     "text": [
      "time: 1.82 ms (started: 2021-09-12 20:32:05 +08:00)\n"
     ]
    }
   ],
   "source": [
    "from torch.nn import Module, Linear\n",
    "\n",
    "class MyNet(Module):\n",
    "    def __init__(self):\n",
    "        super(MyNet, self).__init__()\n",
    "        self.fc1 = Linear(784, 50)\n",
    "        self.fc2 = Linear(50, 10)\n",
    "    def forward(self, x):\n",
    "        x = F.relu(self.fc1(x))\n",
    "        x = F.relu(self.fc2(x))\n",
    "        return x\n",
    "model = MyNet()"
   ]
  },
  {
   "cell_type": "markdown",
   "metadata": {},
   "source": [
    "这就是您现在需要了解的有关 PyTorch 的全部信息，以便提高效率。 随着本书的深入，我们将讨论其他一些花里胡哨的东西。"
   ]
  },
  {
   "cell_type": "markdown",
   "metadata": {},
   "source": [
    "## 解决上下文bandits\n",
    "我们为上下文强盗构建了一个模拟环境。 模拟器包括状态（从 0 到 9 的数字，代表网络中 10 个网站中的 1 个）、奖励生成（广告点击）和选择操作的方法（要投放 10 个广告中的哪个）。 下面的清单显示了上下文老虎机环境的代码，但不要花太多时间考虑它，因为我们想演示如何使用它，而不是如何编码它。"
   ]
  },
  {
   "cell_type": "markdown",
   "metadata": {},
   "source": [
    "> 清单 2.9 上下文老虎机环境"
   ]
  },
  {
   "cell_type": "code",
   "execution_count": 53,
   "metadata": {},
   "outputs": [
    {
     "name": "stdout",
     "output_type": "stream",
     "text": [
      "time: 908 µs (started: 2021-09-12 20:51:31 +08:00)\n"
     ]
    }
   ],
   "source": [
    "class ContextBandit:\n",
    "    def __init__(self, arms=10):\n",
    "        self.arms = arms\n",
    "        self.init_distribution(arms)\n",
    "        self.update_state()\n",
    "        \n",
    "#     状态数 = 臂数，以保持简单。 每行代表一个状态，每列代表一个臂。\n",
    "    def init_distribution(self, arms): \n",
    "        self.bandit_matrix = np.random.rand(arms,arms)\n",
    "        \n",
    "    def reward(self, prob):\n",
    "        reward = 0\n",
    "        for i in range(self.arms):\n",
    "            if random.random() < prob:\n",
    "                reward += 1\n",
    "        return reward\n",
    "    \n",
    "    def get_state(self):\n",
    "        return self.state\n",
    "    \n",
    "    def update_state(self):\n",
    "        self.state = np.random.randint(0,self.arms)\n",
    "        \n",
    "    def get_reward(self,arm):\n",
    "        return self.reward(self.bandit_matrix[self.get_state()][arm])\n",
    "    \n",
    "    def choose_arm(self, arm): \n",
    "        reward = self.get_reward(arm)\n",
    "        self.update_state()\n",
    "        return reward"
   ]
  },
  {
   "cell_type": "markdown",
   "metadata": {},
   "source": [
    "以下代码片段演示了如何使用环境。 我们需要构建的唯一部分是agent，这通常是任何 RL 问题的症结所在，因为构建环境通常只涉及使用某些数据源设置输入/输出或插入现有 API。"
   ]
  },
  {
   "cell_type": "code",
   "execution_count": 54,
   "metadata": {},
   "outputs": [
    {
     "name": "stdout",
     "output_type": "stream",
     "text": [
      "4\n",
      "time: 1.69 ms (started: 2021-09-12 20:53:08 +08:00)\n"
     ]
    }
   ],
   "source": [
    "env = ContextBandit(arms=10)\n",
    "state = env.get_state()\n",
    "reward = env.choose_arm(1)\n",
    "print(state)"
   ]
  },
  {
   "cell_type": "code",
   "execution_count": 55,
   "metadata": {},
   "outputs": [
    {
     "data": {
      "text/plain": [
       "6"
      ]
     },
     "execution_count": 55,
     "metadata": {},
     "output_type": "execute_result"
    },
    {
     "name": "stdout",
     "output_type": "stream",
     "text": [
      "time: 3.98 ms (started: 2021-09-12 20:53:14 +08:00)\n"
     ]
    }
   ],
   "source": [
    "reward"
   ]
  },
  {
   "cell_type": "markdown",
   "metadata": {},
   "source": [
    "模拟器包含一个名为 ContextBandit 的简单 Python 类，可以将其初始化为特定数量的武器。 为简单起见，状态数等于臂数，但通常状态空间通常远大于动作空间。 该类有两种方法：一种是 get_state()，它不带参数调用，将返回从均匀分布中随机采样的状态。 在大多数问题中，您的状态将来自更复杂的分布。 调用另一个方法，choose_arm(...)，将模拟投放广告，并返回奖励（例如，与广告点击次数成正比）。 我们需要始终按顺序调用 get_state 和choose_arm，以不断获取新数据以供学习。"
   ]
  },
  {
   "cell_type": "markdown",
   "metadata": {},
   "source": [
    "与本书中的所有项目一样，我们将使用 PyTorch 来构建神经网络。 在这种情况下，我们将构建一个使用整流线性单元 (ReLU) 作为激活函数的两层前馈神经网络。 第一层接受一个包含 10 个元素的 one-hot（也称为 1-of-K，其中除一个元素之外的所有元素都是 0）编码的状态向量，最后一层返回一个包含 10 个元素的向量，表示预测的奖励 给定状态的每个动作。\n",
    " \n",
    "图 2.6 显示了我们描述的算法的前向传递。 与查找表方法不同，我们的神经网络代理将学习预测每个动作在给定状态下将导致的奖励。 然后我们使用 softmax 函数给我们一个动作的概率分布，并从这个分布中采样来选择一个手臂（广告）。 选择一个手臂会给我们一个奖励，我们将用它来训练我们的神经网络。"
   ]
  },
  {
   "cell_type": "markdown",
   "metadata": {},
   "source": [
    "最初我们的神经网络在状态 0 时会产生一个随机向量，例如 [1.4, 50, 4.3, 0.31, 0.43, 11, 121, 90, 8.9, 1.1]。我们将在这个向量上运行 softmax 并采样一个动作 ，最有可能是动作 6（从动作 0 到 9），因为这是示例向量中最大的数字。 选择行动 6 将产生奖励\n",
    "说 8。然后我们训练我们的神经网络来产生向量 [1.4, 50, 4.3, 0.31, 0.43, 11, 8, 90, 8.9, 1.1]，因为这是我们从动作 6 中获得的真正奖励，剩下的 值不变。 下一次当神经网络看到状态 0 时，它将对接近 8 的动作 6 产生奖励预测。随着我们对许多状态和动作不断地这样做，神经网络最终将学会为每个动作预测准确的奖励 给定一个状态。 因此，我们的算法每次都能选择最佳动作，最大化我们的奖励。"
   ]
  },
  {
   "cell_type": "markdown",
   "metadata": {},
   "source": [
    "以下代码导入必要的库并设置一些超参数（用于指定模型结构的参数）："
   ]
  },
  {
   "cell_type": "code",
   "execution_count": 57,
   "metadata": {},
   "outputs": [
    {
     "name": "stdout",
     "output_type": "stream",
     "text": [
      "time: 1.03 ms (started: 2021-09-12 22:05:14 +08:00)\n"
     ]
    }
   ],
   "source": [
    "import numpy as np\n",
    "import torch\n",
    "\n",
    "arms = 10\n",
    "N, D_in, H, D_out = 1, arms, 100, arms"
   ]
  },
  {
   "cell_type": "markdown",
   "metadata": {},
   "source": [
    "在上面的代码中，N 是批量大小，D_in 是输入维度，H 是隐藏维度，D_out 是输出维度。\n",
    "\n",
    "现在我们需要建立我们的神经网络模型。 如前所述，它是一个具有两层的简单顺序（前馈）神经网络。"
   ]
  },
  {
   "cell_type": "code",
   "execution_count": 58,
   "metadata": {},
   "outputs": [
    {
     "name": "stdout",
     "output_type": "stream",
     "text": [
      "time: 3.6 ms (started: 2021-09-12 22:06:04 +08:00)\n"
     ]
    }
   ],
   "source": [
    "model = torch.nn.Sequential(\n",
    "    torch.nn.Linear(D_in, H),\n",
    "    torch.nn.ReLU(),\n",
    "    torch.nn.Linear(H, D_out),\n",
    "    torch.nn.ReLU(),\n",
    ")"
   ]
  },
  {
   "cell_type": "markdown",
   "metadata": {},
   "source": [
    "我们将在这里使用均方误差损失函数，但其他也可以使用。"
   ]
  },
  {
   "cell_type": "code",
   "execution_count": 59,
   "metadata": {},
   "outputs": [
    {
     "name": "stdout",
     "output_type": "stream",
     "text": [
      "time: 784 µs (started: 2021-09-12 22:06:26 +08:00)\n"
     ]
    }
   ],
   "source": [
    "loss_fn = torch.nn.MSELoss()"
   ]
  },
  {
   "cell_type": "markdown",
   "metadata": {},
   "source": [
    "现在我们通过实例化 ContextBandit 类来设置一个新环境，向其构造函数提供臂数。 请记住，我们已经设置了环境，使得手臂的数量等于状态的数量。"
   ]
  },
  {
   "cell_type": "code",
   "execution_count": 60,
   "metadata": {},
   "outputs": [
    {
     "name": "stdout",
     "output_type": "stream",
     "text": [
      "time: 997 µs (started: 2021-09-12 22:06:59 +08:00)\n"
     ]
    }
   ],
   "source": [
    "env = ContextBandit(arms)"
   ]
  },
  {
   "cell_type": "markdown",
   "metadata": {},
   "source": [
    "该算法的主要 for 循环将与我们最初的 n-armed bandit 算法非常相似，但我们添加了运行神经网络并使用输出选择动作的步骤。 我们将定义一个名为 train 的函数（如清单 2.10 所示），它接受我们之前创建的环境实例、我们想要训练的 epoch 数和学习率。\n",
    " \n",
    "在该函数中，我们将为当前状态设置一个 PyTorch 变量，我们需要使用 one_hot(...) 编码函数对其进行单热编码："
   ]
  },
  {
   "cell_type": "code",
   "execution_count": 61,
   "metadata": {},
   "outputs": [
    {
     "name": "stdout",
     "output_type": "stream",
     "text": [
      "time: 810 µs (started: 2021-09-12 22:08:02 +08:00)\n"
     ]
    }
   ],
   "source": [
    "def one_hot(N, pos, val=1):\n",
    "    one_hot_vec = np.zeros(N)\n",
    "    one_hot_vec[pos] = val\n",
    "    return one_hot_vec"
   ]
  },
  {
   "cell_type": "markdown",
   "metadata": {},
   "source": [
    "一旦我们进入主要训练 for 循环，我们将使用随机初始化的当前状态向量运行我们的神经网络模型。 它将返回一个向量，表示它对每个可能动作的值的猜测。 起初，模型会输出一堆随机值，因为它没有经过训练。"
   ]
  },
  {
   "cell_type": "markdown",
   "metadata": {},
   "source": [
    "我们将对模型的输出运行 softmax 函数以生成动作的概率分布。 然后，我们将使用环境的 choose_arm(...) 函数选择一个动作，该函数将返回为执行该动作而生成的奖励； 它还将更新环境的当前状态。 我们将把奖励（它是一个非负整数）变成一个单热向量，我们可以将其用作我们的训练数据。 给定我们给模型的状态，然后我们将使用这个奖励向量运行一步反向传播。 由于我们使用神经网络模型作为我们的动作值函数，我们不再有任何类型的动作值数组来存储“记忆”； 每件事都被编码在神经网络的权重参数中。 整个 train 函数如下面的清单所示。"
   ]
  },
  {
   "cell_type": "markdown",
   "metadata": {},
   "source": [
    "> 清单 2.10 主要的训练循环"
   ]
  },
  {
   "cell_type": "code",
   "execution_count": 62,
   "metadata": {},
   "outputs": [
    {
     "name": "stdout",
     "output_type": "stream",
     "text": [
      "time: 1.96 ms (started: 2021-09-12 22:10:13 +08:00)\n"
     ]
    }
   ],
   "source": [
    "def train(env, epochs=5000, learning_rate=1e-2):\n",
    "    cur_state = torch.Tensor(one_hot(arms,env.get_state())) \n",
    "    optimizer = torch.optim.Adam(model.parameters(), lr=learning_rate)\n",
    "    rewards = []\n",
    "    for i in range(epochs):\n",
    "        y_pred = model(cur_state) \n",
    "        av_softmax = softmax(y_pred.data.numpy(), tau=2.0) \n",
    "        av_softmax /= av_softmax.sum() \n",
    "        choice = np.random.choice(arms, p=av_softmax) \n",
    "        cur_reward = env.choose_arm(choice) \n",
    "        one_hot_reward = y_pred.data.numpy().copy() \n",
    "        one_hot_reward[choice] = cur_reward \n",
    "        reward = torch.Tensor(one_hot_reward)\n",
    "        rewards.append(cur_reward)\n",
    "        loss = loss_fn(y_pred, reward)\n",
    "        optimizer.zero_grad()\n",
    "        loss.backward()\n",
    "        optimizer.step()\n",
    "        cur_state = torch.Tensor(one_hot(arms,env.get_state())) \n",
    "    return np.array(rewards)"
   ]
  },
  {
   "cell_type": "markdown",
   "metadata": {},
   "source": [
    "继续运行这个函数。 当我们训练这个网络 5,000 个 epoch 时，我们可以绘制在训练时间内获得的奖励的移动平均值（见图 2.7；我们省略了生成此类图的代码）。 我们的神经网络确实对这个上下文强盗的状态、动作和奖励之间的关系有了很好的理解。 任何游戏的最大奖励支出是 10，我们的平均值在 8.5 左右达到顶峰，这接近于这个特定强盗的数学最优值。 我们的第一个深度强化学习算法有效！ 好吧，这不是一个很深的网络，但仍然如此！"
   ]
  },
  {
   "cell_type": "code",
   "execution_count": 63,
   "metadata": {},
   "outputs": [
    {
     "data": {
      "text/plain": [
       "array([ 9,  1,  3, ...,  9, 10,  2])"
      ]
     },
     "execution_count": 63,
     "metadata": {},
     "output_type": "execute_result"
    },
    {
     "name": "stdout",
     "output_type": "stream",
     "text": [
      "time: 6.65 s (started: 2021-09-12 22:13:13 +08:00)\n"
     ]
    }
   ],
   "source": [
    "train(ContextBandit())"
   ]
  },
  {
   "cell_type": "markdown",
   "metadata": {},
   "source": [
    "![](https://tva1.sinaimg.cn/large/008i3skNly1gue7be1oakj613a0pi40v02.jpg)"
   ]
  },
  {
   "cell_type": "markdown",
   "metadata": {},
   "source": [
    "## 马尔可夫性质"
   ]
  },
  {
   "cell_type": "markdown",
   "metadata": {},
   "source": [
    "在我们的上下文老虎机问题中，我们的神经网络引导我们选择给定状态的最佳动作，而无需参考任何其他先前状态。我们只是给了它当前的状态，它为每个可能的动作产生了预期的奖励。这是强化学习中的一个重要特性，称为马尔可夫特性。表现出马尔可夫特性的游戏（或任何其他控制任务）被称为马尔可夫决策过程（MDP）。使用 MDP，仅当前状态就包含足够的信息来选择最佳动作以最大化未来的奖励。将控制任务建模为 MDP 是强化学习中的一个关键概念。\n",
    " \n",
    "MDP 模型极大地简化了 RL 问题，因为我们不需要考虑所有先前的状态或动作——我们不需要记忆，我们只需要分析当前情况。因此，我们总是试图将问题建模为（至少近似）马尔可夫决策过程。纸牌游戏 Blackjack（也称为 21）是一种 MDP，因为我们可以通过了解我们当前的状态（我们有什么牌，以及庄家的一张正面牌）来成功地玩游戏。"
   ]
  },
  {
   "cell_type": "markdown",
   "metadata": {},
   "source": [
    "为了测试您对马尔可夫性质的理解，请考虑以下列表中的每个控制问题或决策任务，看看它是否具有马尔可夫性质：\n",
    "* 开车\n",
    "* 决定是否投资股票\n",
    "* 为患者选择药物治疗\n",
    "* 诊断病人的病情\n",
    "* 预测哪支球队会在一场足球比赛中获胜\n",
    "* 选择到某个目的地的最短路线（按距离计算）\n",
    "* 用枪瞄准远处的目标"
   ]
  },
  {
   "cell_type": "markdown",
   "metadata": {},
   "source": [
    "好的，让我们看看你是怎么做的。以下是我们的回答和简要说明：\n",
    "* 驾驶汽车通常可以被认为具有马尔可夫性质，因为你不需要知道 10 分钟前发生了什么就能以最佳方式驾驶你的汽车。你只需要知道现在一切都在哪里以及你想去哪里。\n",
    "* 决定是否投资一只股票不符合马尔可夫性质的标准，因为你想知道股票过去的表现以便做出决定。\n",
    "* 选择医疗似乎具有马尔可夫特性，因为你不需要知道一个人的传记来选择一个好的治疗方法来治疗他们现在的病痛。\n",
    "* 相比之下，诊断（而不是治疗）肯定需要对过去状态的了解。为了做出诊断，了解患者症状的历史过程通常非常重要。\n",
    "* 预测哪支球队会获胜没有马尔科夫性质，因为，就像股票例子一样，你需要知道球队过去的表现才能做出好的预测。\n",
    "* 选择到达目的地的最短路线具有马尔可夫性质，因为您只需要知道各种路线到目的地的距离，这与昨天发生的事情无关。\n",
    "* 用枪瞄准远处的目标也具有马尔可夫特性，因为你只需要知道目标在哪里，可能还有当前的条件，比如风速和你的枪的细节。你不需要知道昨天的风速。"
   ]
  },
  {
   "cell_type": "markdown",
   "metadata": {},
   "source": [
    "我们希望您能够理解，对于其中一些示例，您可以对具有马尔可夫特性的它进行论证或反对。 例如，在诊断患者时，您可能需要知道他们最近的症状病史，但如果这些记录在他们的病历中并且我们将完整的病历视为我们当前的状态，那么我们已经有效地 推导出马尔可夫性质。 记住这一点很重要：许多问题可能不自然地具有马尔可夫性质，但通常我们可以通过将更多信息干扰到状态中来诱导它。"
   ]
  },
  {
   "cell_type": "markdown",
   "metadata": {},
   "source": [
    "DeepMind 的深度 Q 学习（或深度 Q 网络）算法仅从原始像素数据和当前分数就学会了玩 Atari 游戏。 Atari 游戏是否具有马尔可夫特性？ 不完全是。 在 Pacman 游戏中，如果我们的状态是来自当前帧的原始像素数据，我们不知道几格外的敌人是否正在接近我们或正在远离我们，这将强烈影响我们的行动选择 拿。 这就是为什么 DeepMind 的实现实际上是在游戏的最后四帧中输入，有效地将非 MDP 转换为 MDP。 在最后四帧中，代理可以访问所有玩家的方向和速度。"
   ]
  },
  {
   "cell_type": "markdown",
   "metadata": {},
   "source": [
    "图 2.8 给出了一个使用我们迄今为止讨论过的所有概念的马尔可夫决策过程的轻松示例。 你可以看到有一个三元素状态空间 S = {哭泣的婴儿，睡觉的婴儿，微笑的婴儿}，和一个二元素的动作空间 A = {喂，不喂}。 此外，我们还注意到转移概率，它们是从动作到结果状态概率的映射（我们将在下一节中再次讨论）。 当然，在现实生活中，您作为代理不知道转换概率是多少。 如果你这样做了，你就会有一个环境模型。 稍后您将了解到，有时代理确实可以访问环境模型，有时则不能。 在代理无法访问模型的情况下，我们可能希望我们的代理学习环境模型（它可能只是近似真实的底层模型）。"
   ]
  },
  {
   "cell_type": "markdown",
   "metadata": {},
   "source": [
    "![](https://tva1.sinaimg.cn/large/008i3skNly1gue7l0159ej61g80nwdjc02.jpg)"
   ]
  },
  {
   "cell_type": "markdown",
   "metadata": {},
   "source": [
    "## 预测未来回报：价值和政策函数\n",
    "信不信由你，我们实际上在前面的部分中走私了很多知识。 我们为 n-armed bandit 和 contextual bandit 设置解决方案的方式是标准的强化学习方法，因此，我们所做的背后有一大堆既定的术语和数学。 我们已经介绍了一些术语，例如状态和动作空间，但我们大多只是用自然语言描述事物。 为了让您了解最新的 RL 研究论文并让我们使以后的章节不那么冗长，熟悉行话和数学很重要。"
   ]
  },
  {
   "cell_type": "markdown",
   "metadata": {},
   "source": [
    "让我们回顾和形式化你到目前为止学到的东西（总结在图 2.9 中）。 强化学习算法本质上构建了一个代理，该代理在某些环境中起作用。 环境通常是一个游戏，但更一般地说，是产生状态、动作和奖励的任何过程。 代理可以访问环境的当前状态，即在特定时间点 $s_t$ ∈ S 的有关环境的所有数据。 使用此状态信息，代理在 ∈ A 处采取行动，这可能是确定性的或概率性的 将环境更改为新状态，$s_{t +1}$。"
   ]
  },
  {
   "cell_type": "markdown",
   "metadata": {},
   "source": [
    "通过采取行动将状态映射到新状态的概率称为转移概率。 代理收到奖励 rt，因为它在状态 st 处采取了导致新状态$s_{t +1}$ 的动作。 我们知道代理（我们的强化学习算法）的最终目标是最大化其奖励。 真正产生奖励的是状态转换 $s_t$ → $s_{t+1}$，而不是动作本身，因为动作可能会导致不良状态。 如果你在一部动作片中（没有双关语）并且你从一个屋顶跳到另一个屋顶上，你可能会优雅地降落在另一个屋顶上，或者完全错过并摔倒——你的危险才是最重要的（这两种可能导致 状态），而不是你跳跃的事实（动作）。"
   ]
  },
  {
   "cell_type": "markdown",
   "metadata": {},
   "source": [
    "![](https://tva1.sinaimg.cn/large/008i3skNly1gue7otkh19j61ay0syadf02.jpg)"
   ]
  },
  {
   "cell_type": "markdown",
   "metadata": {},
   "source": [
    "### 策略函数\n",
    "我们究竟如何使用我们当前的状态信息来决定采取什么行动？ 这就是价值函数和策略函数的关键概念发挥作用的地方，我们已经有了一些经验。 先说策略。"
   ]
  },
  {
   "cell_type": "markdown",
   "metadata": {},
   "source": [
    "换句话说，策略 π 是代理在某种环境中的策略。 例如，二十一点庄家的策略是一直打到牌值达到 17 或更大。 这是一个简单的固定策略。 在我们的 n-armed 强盗问题中，我们的策略是一个 epsilon-greedy 策略。 一般而言，策略是一个函数，它将状态映射到该状态下可能的操作集上的概率分布。"
   ]
  },
  {
   "cell_type": "markdown",
   "metadata": {},
   "source": [
    "![](https://tva1.sinaimg.cn/large/008i3skNly1gue7q8ywpyj61fc0aqt9y02.jpg)"
   ]
  },
  {
   "cell_type": "markdown",
   "metadata": {},
   "source": [
    "在数学符号中，s 是一个状态，而 Pr(A | s) 是给定状态 s 的一组动作 A 上的概率分布。 分布中每个动作的概率是该动作产生最大奖励的概率。"
   ]
  },
  {
   "cell_type": "markdown",
   "metadata": {},
   "source": [
    "### 最优策略\n",
    "策略是我们强化学习算法的一部分，它根据当前状态选择动作。 然后我们可以制定最优策略——这是最大化奖励的策略。"
   ]
  },
  {
   "cell_type": "markdown",
   "metadata": {},
   "source": [
    "![](https://tva1.sinaimg.cn/large/008i3skNly1gue7txu1ltj61f00c040202.jpg)"
   ]
  },
  {
   "cell_type": "markdown",
   "metadata": {},
   "source": [
    "请记住，特定策略是映射或函数，因此我们有一些可能的策略集； 最优策略只是这组可能策略上的 argmax（选择最大值）作为其预期回报的函数。\n",
    " \n",
    "同样，强化学习算法（我们的代理）的整个目标是选择导致最大预期回报的动作。 但是有两种方法可以训练我们的代理来做到这一点：\n",
    "* 直接——我们可以教智能体学习什么动作是最好的，给定它处于什么状态。\n",
    "* 间接——我们可以教智能体了解哪些状态最有价值，然后采取行动来获得最有价值的状态。\n",
    "\n",
    "这种间接方法使我们想到了值函数的概念。"
   ]
  },
  {
   "cell_type": "markdown",
   "metadata": {},
   "source": [
    "### 值函数\n",
    "价值函数是将状态或状态-动作对映射到处于某种状态或在某种状态下采取某种行动的预期值（预期回报）的函数。 您可能会从统计数据中回忆起，预期奖励只是处于某种状态或采取某些行动后获得的长期平均奖励。 当我们谈到价值函数时，我们通常指的是状态-价值函数。"
   ]
  },
  {
   "cell_type": "markdown",
   "metadata": {},
   "source": [
    "![](https://tva1.sinaimg.cn/large/008i3skNly1gue7w24ushj61f60ac75m02.jpg)"
   ]
  },
  {
   "cell_type": "markdown",
   "metadata": {},
   "source": [
    "这是一个函数，它接受一个状态 s，并返回从该状态开始并根据我们的策略 π 采取行动的预期回报。价值函数依赖于策略的原因可能不是很明显。考虑到在我们的上下文老虎机问题中，如果我们的策略是选择完全随机的动作（即来自均匀分布的样本动作），状态的价值（预期奖励）可能会非常低，因为我们绝对不会选择最好的行动。相反，我们想要使用的策略不是对动作的均匀分布，而是在采样时会产生最大奖励的概率分布。也就是说，策略决定了观察到的奖励，价值函数是观察到的奖励的反映。\n",
    " \n",
    "在我们的第一个 n-armed bandit 问题中，您被介绍了状态-动作-值函数。这些函数通常被称为 Q 函数或 Q 值，这就是深度 Q 学习的来源，因为正如您将在下一章中看到的那样，深度学习算法可以用作 Q 函数。"
   ]
  },
  {
   "cell_type": "markdown",
   "metadata": {},
   "source": [
    "![](https://tva1.sinaimg.cn/large/008i3skNly1gue7z4oj35j31fu0d4gne.jpg)"
   ]
  },
  {
   "cell_type": "markdown",
   "metadata": {},
   "source": [
    "事实上，我们实现了一个深度 Q 网络来解决我们的上下文老虎机问题（尽管它是一个非常浅的神经网络），因为它本质上是一个 Q 函数。 我们训练它以准确估计在给定状态下采取行动的预期回报。 我们的策略函数是神经网络输出上的 softmax 函数。\n",
    " \n",
    "我们仅通过使用 n-armed 和 contextual bandits 作为示例，就涵盖了强化学习中的许多基本概念。 在本章中，我们还深入了解了深度强化学习。 在下一章中，我们将实现一个完整的深度 Q 网络，类似于 DeepMind 用来在超人级别玩 Atari 游戏的算法。 这将是我们在此介绍的内容的自然延伸。"
   ]
  },
  {
   "cell_type": "markdown",
   "metadata": {},
   "source": [
    "**概括**\n",
    "* 状态空间是系统可以处于的所有可能状态的集合。在国际象棋中，这将是所有有效棋盘配置的集合。动作是将状态 s 映射到新状态 s' 的函数。一个动作可能是随机的，因此它可以将一个状态 s 概率性地映射到一个新状态 s'。在从中选择一个的一组可能的新状态上可能存在某种概率分布。动作空间是特定状态的所有可能动作的集合。\n",
    "* 环境是状态、动作和奖励的来源。如果我们正在构建一个 RL 算法来玩游戏，那么游戏就是环境。环境模型是状态空间、动作空间和转移概率的近似。\n",
    "* 奖励是环境产生的信号，表明在给定状态下采取行动的相对成功。预期奖励是一个统计概念，非正式地指的是某个随机变量 X（在我们的例子中，奖励）的长期平均值，表示为 E[X]。例如，在 n-armed bandit 情况下，E[R⏐a]（给定动作 a 的预期奖励）是采取每个 n 动作的长期平均奖励。如果我们知道概率分布\n",
    "在动作 a 上，我们可以计算 N 次游戏的预期奖励的精确值，如 E[R⏐ai] = ΣNi =1aipi ⋅ r，其中 N 是游戏的游戏次数，pi 指指动作 ai 的概率，r 指最大可能的奖励。\n",
    "* 代理是一种学习在给定环境中表现最佳的强化学习算法。代理通常被实现为深度神经网络。代理的目标是最大化预期奖励，或者等效地导航到最高价值状态。\n",
    "* 策略是一种特定的策略。形式上，它是一个函数，它要么接受一个状态并产生一个要采取的动作，要么在给定状态的情况下在动作空间上产生一个概率分布。一个常见的策略是 epsilon-greedy 策略，其中我们以概率 ε 在动作空间中采取随机动作，并且以概率 ε - 1 我们选择目前已知的最佳动作。\n",
    "* 一般来说，价值函数是在给定一些相关数据的情况下返回预期回报的任何函数。如果没有额外的上下文，它通常指的是状态值函数，它是一个接受状态并返回从该状态开始并根据某些策略行事的预期奖励的函数。 Q 值是给定状态-动作对的预期奖励，Q 函数是在给定状态-动作对时产生 Q 值的函数。\n",
    "* 马尔可夫决策过程是一种决策过程，通过它可以在不参考先前状态的历史的情况下做出最佳决策。"
   ]
  },
  {
   "cell_type": "code",
   "execution_count": null,
   "metadata": {},
   "outputs": [],
   "source": []
  }
 ],
 "metadata": {
  "kernelspec": {
   "display_name": "Python [conda env:python3] *",
   "language": "python",
   "name": "conda-env-python3-py"
  },
  "language_info": {
   "codemirror_mode": {
    "name": "ipython",
    "version": 3
   },
   "file_extension": ".py",
   "mimetype": "text/x-python",
   "name": "python",
   "nbconvert_exporter": "python",
   "pygments_lexer": "ipython3",
   "version": "3.8.2"
  },
  "toc-autonumbering": true
 },
 "nbformat": 4,
 "nbformat_minor": 4
}
